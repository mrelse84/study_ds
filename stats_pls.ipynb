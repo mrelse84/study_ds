{
 "cells": [
  {
   "cell_type": "code",
   "execution_count": 1,
   "metadata": {},
   "outputs": [],
   "source": [
    "from sklearn.cross_decomposition import PLSRegression"
   ]
  },
  {
   "cell_type": "code",
   "execution_count": 2,
   "metadata": {},
   "outputs": [],
   "source": [
    "X = [[0., 0., 1.], [1.,0.,0.], [2.,2.,2.], [2.,5.,4.]]"
   ]
  },
  {
   "cell_type": "code",
   "execution_count": 3,
   "metadata": {},
   "outputs": [],
   "source": [
    "Y = [[0.1, -0.2], [0.9, 1.1], [6.2, 5.9], [11.9, 12.3]]"
   ]
  },
  {
   "cell_type": "code",
   "execution_count": 4,
   "metadata": {},
   "outputs": [],
   "source": [
    "pls2 = PLSRegression(n_components=2)"
   ]
  },
  {
   "cell_type": "code",
   "execution_count": 5,
   "metadata": {},
   "outputs": [
    {
     "data": {
      "text/plain": [
       "PLSRegression(copy=True, max_iter=500, n_components=2, scale=True, tol=1e-06)"
      ]
     },
     "execution_count": 5,
     "metadata": {},
     "output_type": "execute_result"
    }
   ],
   "source": [
    "pls2.fit(X, Y)"
   ]
  },
  {
   "cell_type": "code",
   "execution_count": 6,
   "metadata": {},
   "outputs": [],
   "source": [
    "Y_pred = pls2.predict(X)"
   ]
  },
  {
   "cell_type": "code",
   "execution_count": 7,
   "metadata": {},
   "outputs": [
    {
     "data": {
      "text/plain": [
       "array([[  0.26087869,   0.15302213],\n",
       "       [  0.60667302,   0.45634164],\n",
       "       [  6.46856199,   6.48931562],\n",
       "       [ 11.7638863 ,  12.00132061]])"
      ]
     },
     "execution_count": 7,
     "metadata": {},
     "output_type": "execute_result"
    }
   ],
   "source": [
    "Y_pred"
   ]
  },
  {
   "cell_type": "code",
   "execution_count": 8,
   "metadata": {},
   "outputs": [
    {
     "data": {
      "text/plain": [
       "0.9936603710735793"
      ]
     },
     "execution_count": 8,
     "metadata": {},
     "output_type": "execute_result"
    }
   ],
   "source": [
    "pls2.score(X, Y)"
   ]
  },
  {
   "cell_type": "code",
   "execution_count": 12,
   "metadata": {},
   "outputs": [],
   "source": [
    "import numpy as np"
   ]
  },
  {
   "cell_type": "code",
   "execution_count": 14,
   "metadata": {},
   "outputs": [],
   "source": [
    "Yarr = np.asarray(Y)"
   ]
  },
  {
   "cell_type": "code",
   "execution_count": 15,
   "metadata": {},
   "outputs": [
    {
     "data": {
      "text/plain": [
       "array([  0.1,   0.9,   6.2,  11.9])"
      ]
     },
     "execution_count": 15,
     "metadata": {},
     "output_type": "execute_result"
    }
   ],
   "source": [
    "Yarr[:,0]"
   ]
  },
  {
   "cell_type": "code",
   "execution_count": 9,
   "metadata": {},
   "outputs": [],
   "source": [
    "import matplotlib.pyplot as plt"
   ]
  },
  {
   "cell_type": "code",
   "execution_count": 16,
   "metadata": {},
   "outputs": [
    {
     "data": {
      "text/plain": [
       "[<matplotlib.lines.Line2D at 0x22032aa37f0>]"
      ]
     },
     "execution_count": 16,
     "metadata": {},
     "output_type": "execute_result"
    },
    {
     "data": {
      "image/png": "[encoded data removed]",
      "text/plain": [
       "<Figure size 432x288 with 1 Axes>"
      ]
     },
     "metadata": {
      "needs_background": "light"
     },
     "output_type": "display_data"
    }
   ],
   "source": [
    "plt.plot(Yarr[:,0],Y_pred[:,0])"
   ]
  },
  {
   "cell_type": "code",
   "execution_count": 17,
   "metadata": {},
   "outputs": [
    {
     "data": {
      "text/plain": [
       "[<matplotlib.lines.Line2D at 0x22032b12400>]"
      ]
     },
     "execution_count": 17,
     "metadata": {},
     "output_type": "execute_result"
    },
    {
     "data": {
      "image/png": "[encoded data removed]",
      "text/plain": [
       "<Figure size 432x288 with 1 Axes>"
      ]
     },
     "metadata": {
      "needs_background": "light"
     },
     "output_type": "display_data"
    }
   ],
   "source": [
    "plt.plot(Yarr[:,1],Y_pred[:,1])"
   ]
  },
  {
   "cell_type": "code",
   "execution_count": null,
   "metadata": {},
   "outputs": [],
   "source": []
  },
  {
   "cell_type": "code",
   "execution_count": null,
   "metadata": {},
   "outputs": [],
   "source": []
  },
  {
   "cell_type": "code",
   "execution_count": null,
   "metadata": {},
   "outputs": [],
   "source": []
  },
  {
   "cell_type": "code",
   "execution_count": null,
   "metadata": {},
   "outputs": [],
   "source": []
  },
  {
   "cell_type": "code",
   "execution_count": 1,
   "metadata": {},
   "outputs": [],
   "source": [
    "%matplotlib inline\n",
    "\n",
    "import pandas as pd\n",
    "import numpy as np\n",
    "import matplotlib.pyplot as plt\n",
    "\n",
    "from sklearn.preprocessing import scale\n",
    "#from sklearn import cross_validation\n",
    "from sklearn import model_selection\n",
    "from sklearn.decomposition import PCA\n",
    "from sklearn.linear_model import LinearRegression\n",
    "from sklearn.cross_decomposition import PLSRegression, PLSSVD\n",
    "from sklearn.metrics import mean_squared_error"
   ]
  },
  {
   "cell_type": "code",
   "execution_count": 32,
   "metadata": {},
   "outputs": [],
   "source": [
    "df = pd.read_csv('D:/sglee/DseyKorea/data/open_data/Hitters.csv').dropna()"
   ]
  },
  {
   "cell_type": "code",
   "execution_count": 33,
   "metadata": {},
   "outputs": [],
   "source": [
    "dummies = pd.get_dummies(df[['League', 'Division', 'NewLeague']])"
   ]
  },
  {
   "cell_type": "code",
   "execution_count": 34,
   "metadata": {},
   "outputs": [],
   "source": [
    "y = df.Salary"
   ]
  },
  {
   "cell_type": "code",
   "execution_count": 35,
   "metadata": {},
   "outputs": [],
   "source": [
    "# Drop the column with the independent variable (Salary), and columns for which we created dummy variables\n",
    "X_ = df.drop(['Salary', 'League', 'Division', 'NewLeague'], axis=1).astype('float64')"
   ]
  },
  {
   "cell_type": "code",
   "execution_count": 36,
   "metadata": {},
   "outputs": [],
   "source": [
    "# Define the feature set X.\n",
    "X = pd.concat([X_, dummies[['League_N', 'Division_W', 'NewLeague_N']]], axis=1)"
   ]
  },
  {
   "cell_type": "code",
   "execution_count": 37,
   "metadata": {},
   "outputs": [
    {
     "name": "stderr",
     "output_type": "stream",
     "text": [
      "c:\\users\\user\\appdata\\local\\programs\\python\\python35\\lib\\site-packages\\ipykernel_launcher.py:2: DataConversionWarning: Data with input dtype uint8, float64 were all converted to float64 by the scale function.\n",
      "  \n"
     ]
    }
   ],
   "source": [
    "pca = PCA()\n",
    "X_reduced = pca.fit_transform(scale(X))"
   ]
  },
  {
   "cell_type": "code",
   "execution_count": 38,
   "metadata": {},
   "outputs": [
    {
     "data": {
      "text/html": [
       "<div>\n",
       "<style scoped>\n",
       "    .dataframe tbody tr th:only-of-type {\n",
       "        vertical-align: middle;\n",
       "    }\n",
       "\n",
       "    .dataframe tbody tr th {\n",
       "        vertical-align: top;\n",
       "    }\n",
       "\n",
       "    .dataframe thead th {\n",
       "        text-align: right;\n",
       "    }\n",
       "</style>\n",
       "<table border=\"1\" class=\"dataframe\">\n",
       "  <thead>\n",
       "    <tr style=\"text-align: right;\">\n",
       "      <th></th>\n",
       "      <th>0</th>\n",
       "      <th>1</th>\n",
       "      <th>2</th>\n",
       "      <th>3</th>\n",
       "      <th>4</th>\n",
       "      <th>5</th>\n",
       "    </tr>\n",
       "  </thead>\n",
       "  <tbody>\n",
       "    <tr>\n",
       "      <th>0</th>\n",
       "      <td>0.198290</td>\n",
       "      <td>-0.383784</td>\n",
       "      <td>0.088626</td>\n",
       "      <td>0.031967</td>\n",
       "      <td>0.028117</td>\n",
       "      <td>-0.070646</td>\n",
       "    </tr>\n",
       "    <tr>\n",
       "      <th>1</th>\n",
       "      <td>0.195861</td>\n",
       "      <td>-0.377271</td>\n",
       "      <td>0.074032</td>\n",
       "      <td>0.017982</td>\n",
       "      <td>-0.004652</td>\n",
       "      <td>-0.082240</td>\n",
       "    </tr>\n",
       "    <tr>\n",
       "      <th>2</th>\n",
       "      <td>0.204369</td>\n",
       "      <td>-0.237136</td>\n",
       "      <td>-0.216186</td>\n",
       "      <td>-0.235831</td>\n",
       "      <td>0.077660</td>\n",
       "      <td>-0.149646</td>\n",
       "    </tr>\n",
       "    <tr>\n",
       "      <th>3</th>\n",
       "      <td>0.198337</td>\n",
       "      <td>-0.377721</td>\n",
       "      <td>-0.017166</td>\n",
       "      <td>-0.049942</td>\n",
       "      <td>-0.038536</td>\n",
       "      <td>-0.136660</td>\n",
       "    </tr>\n",
       "    <tr>\n",
       "      <th>4</th>\n",
       "      <td>0.235174</td>\n",
       "      <td>-0.314531</td>\n",
       "      <td>-0.073085</td>\n",
       "      <td>-0.138985</td>\n",
       "      <td>0.024299</td>\n",
       "      <td>-0.111675</td>\n",
       "    </tr>\n",
       "  </tbody>\n",
       "</table>\n",
       "</div>"
      ],
      "text/plain": [
       "          0         1         2         3         4         5\n",
       "0  0.198290 -0.383784  0.088626  0.031967  0.028117 -0.070646\n",
       "1  0.195861 -0.377271  0.074032  0.017982 -0.004652 -0.082240\n",
       "2  0.204369 -0.237136 -0.216186 -0.235831  0.077660 -0.149646\n",
       "3  0.198337 -0.377721 -0.017166 -0.049942 -0.038536 -0.136660\n",
       "4  0.235174 -0.314531 -0.073085 -0.138985  0.024299 -0.111675"
      ]
     },
     "execution_count": 38,
     "metadata": {},
     "output_type": "execute_result"
    }
   ],
   "source": [
    "pd.DataFrame(pca.components_.T).loc[:4,:5]"
   ]
  },
  {
   "cell_type": "code",
   "execution_count": 39,
   "metadata": {},
   "outputs": [
    {
     "name": "stdout",
     "output_type": "stream",
     "text": [
      "<class 'pandas.core.frame.DataFrame'>\n",
      "Int64Index: 263 entries, 1 to 321\n",
      "Data columns (total 20 columns):\n",
      "AtBat        263 non-null int64\n",
      "Hits         263 non-null int64\n",
      "HmRun        263 non-null int64\n",
      "Runs         263 non-null int64\n",
      "RBI          263 non-null int64\n",
      "Walks        263 non-null int64\n",
      "Years        263 non-null int64\n",
      "CAtBat       263 non-null int64\n",
      "CHits        263 non-null int64\n",
      "CHmRun       263 non-null int64\n",
      "CRuns        263 non-null int64\n",
      "CRBI         263 non-null int64\n",
      "CWalks       263 non-null int64\n",
      "League       263 non-null object\n",
      "Division     263 non-null object\n",
      "PutOuts      263 non-null int64\n",
      "Assists      263 non-null int64\n",
      "Errors       263 non-null int64\n",
      "Salary       263 non-null float64\n",
      "NewLeague    263 non-null object\n",
      "dtypes: float64(1), int64(16), object(3)\n",
      "memory usage: 43.1+ KB\n"
     ]
    }
   ],
   "source": [
    "df.info()"
   ]
  },
  {
   "cell_type": "code",
   "execution_count": 40,
   "metadata": {},
   "outputs": [],
   "source": [
    "# 10-fold CV, with shuffle\n",
    "n = len(X_reduced)\n",
    "kf_10 = model_selection.KFold( n_splits=10, shuffle=True, random_state=1)\n",
    "\n",
    "regr = LinearRegression()\n",
    "mse = []\n",
    "\n",
    "# Calculate MSE with only the intercept (no principal components in regression)\n",
    "score = -1*model_selection.cross_val_score(regr, np.ones((n,1)), y.ravel(), cv=kf_10, scoring='neg_mean_squared_error').mean()    \n",
    "mse.append(score)\n",
    "\n",
    "# Calculate MSE using CV for the 19 principle components, adding one component at the time.\n",
    "for i in np.arange(1, 20):\n",
    "    score = -1*model_selection.cross_val_score(regr, X_reduced[:,:i], y.ravel(), cv=kf_10, scoring='neg_mean_squared_error').mean()\n",
    "    mse.append(score)"
   ]
  },
  {
   "cell_type": "code",
   "execution_count": 41,
   "metadata": {},
   "outputs": [
    {
     "name": "stderr",
     "output_type": "stream",
     "text": [
      "c:\\users\\user\\appdata\\local\\programs\\python\\python35\\lib\\site-packages\\matplotlib\\axes\\_base.py:3215: MatplotlibDeprecationWarning: \n",
      "The `xmin` argument was deprecated in Matplotlib 3.0 and will be removed in 3.2. Use `left` instead.\n",
      "  alternative='`left`', obj_type='argument')\n"
     ]
    },
    {
     "data": {
      "image/png": "[encoded data removed]",
      "text/plain": [
       "<Figure size 432x288 with 1 Axes>"
      ]
     },
     "metadata": {
      "needs_background": "light"
     },
     "output_type": "display_data"
    }
   ],
   "source": [
    "# Plot results    \n",
    "plt.plot(mse, '-v')\n",
    "plt.xlabel('Number of principal components in regression')\n",
    "plt.ylabel('MSE')\n",
    "plt.title('Salary')\n",
    "plt.xlim(xmin=-1);"
   ]
  },
  {
   "cell_type": "code",
   "execution_count": 42,
   "metadata": {},
   "outputs": [
    {
     "name": "stderr",
     "output_type": "stream",
     "text": [
      "c:\\users\\user\\appdata\\local\\programs\\python\\python35\\lib\\site-packages\\ipykernel_launcher.py:7: DataConversionWarning: Data with input dtype uint8, float64 were all converted to float64 by the scale function.\n",
      "  import sys\n",
      "c:\\users\\user\\appdata\\local\\programs\\python\\python35\\lib\\site-packages\\matplotlib\\axes\\_base.py:3215: MatplotlibDeprecationWarning: \n",
      "The `xmin` argument was deprecated in Matplotlib 3.0 and will be removed in 3.2. Use `left` instead.\n",
      "  alternative='`left`', obj_type='argument')\n"
     ]
    },
    {
     "data": {
      "image/png": "[encoded data removed]",
      "text/plain": [
       "<Figure size 432x288 with 1 Axes>"
      ]
     },
     "metadata": {
      "needs_background": "light"
     },
     "output_type": "display_data"
    }
   ],
   "source": [
    "pca2 = PCA()\n",
    "\n",
    "# Split into training and test sets\n",
    "X_train, X_test , y_train, y_test = model_selection.train_test_split(X, y, test_size=0.5, random_state=1)\n",
    "\n",
    "# Scale the data\n",
    "X_reduced_train = pca2.fit_transform(scale(X_train))\n",
    "n = len(X_reduced_train)\n",
    "\n",
    "# 10-fold CV, with shuffle\n",
    "kf_10 = model_selection.KFold( n_splits=10, shuffle=True, random_state=1)\n",
    "\n",
    "mse = []\n",
    "\n",
    "# Calculate MSE with only the intercept (no principal components in regression)\n",
    "score = -1*model_selection.cross_val_score(regr, np.ones((n,1)), y_train.ravel(), cv=kf_10, scoring='neg_mean_squared_error').mean()    \n",
    "mse.append(score)\n",
    "\n",
    "# Calculate MSE using CV for the 19 principle components, adding one component at the time.\n",
    "for i in np.arange(1, 20):\n",
    "    score = -1*model_selection.cross_val_score(regr, X_reduced_train[:,:i], y_train.ravel(), cv=kf_10, scoring='neg_mean_squared_error').mean()\n",
    "    mse.append(score)\n",
    "\n",
    "plt.plot(np.array(mse), '-v')\n",
    "plt.xlabel('Number of principal components in regression')\n",
    "plt.ylabel('MSE')\n",
    "plt.title('Salary')\n",
    "plt.xlim(xmin=-1);"
   ]
  },
  {
   "cell_type": "code",
   "execution_count": 43,
   "metadata": {},
   "outputs": [
    {
     "name": "stderr",
     "output_type": "stream",
     "text": [
      "c:\\users\\user\\appdata\\local\\programs\\python\\python35\\lib\\site-packages\\ipykernel_launcher.py:1: DataConversionWarning: Data with input dtype uint8, float64 were all converted to float64 by the scale function.\n",
      "  \"\"\"Entry point for launching an IPython kernel.\n"
     ]
    },
    {
     "data": {
      "text/plain": [
       "111994.42273636984"
      ]
     },
     "execution_count": 43,
     "metadata": {},
     "output_type": "execute_result"
    }
   ],
   "source": [
    "X_reduced_test = pca2.transform(scale(X_test))[:,:7]\n",
    "\n",
    "# Train regression model on training data \n",
    "regr = LinearRegression()\n",
    "regr.fit(X_reduced_train[:,:7], y_train)\n",
    "\n",
    "# Prediction with test data\n",
    "pred = regr.predict(X_reduced_test)\n",
    "mean_squared_error(y_test, pred)"
   ]
  },
  {
   "cell_type": "code",
   "execution_count": 44,
   "metadata": {},
   "outputs": [],
   "source": [
    "# 6.7.2 Partial Least Squares"
   ]
  },
  {
   "cell_type": "code",
   "execution_count": 45,
   "metadata": {},
   "outputs": [
    {
     "name": "stderr",
     "output_type": "stream",
     "text": [
      "c:\\users\\user\\appdata\\local\\programs\\python\\python35\\lib\\site-packages\\ipykernel_launcher.py:10: DataConversionWarning: Data with input dtype uint8, float64 were all converted to float64 by the scale function.\n",
      "  # Remove the CWD from sys.path while we load stuff.\n",
      "c:\\users\\user\\appdata\\local\\programs\\python\\python35\\lib\\site-packages\\ipykernel_launcher.py:10: DataConversionWarning: Data with input dtype uint8, float64 were all converted to float64 by the scale function.\n",
      "  # Remove the CWD from sys.path while we load stuff.\n",
      "c:\\users\\user\\appdata\\local\\programs\\python\\python35\\lib\\site-packages\\ipykernel_launcher.py:10: DataConversionWarning: Data with input dtype uint8, float64 were all converted to float64 by the scale function.\n",
      "  # Remove the CWD from sys.path while we load stuff.\n",
      "c:\\users\\user\\appdata\\local\\programs\\python\\python35\\lib\\site-packages\\ipykernel_launcher.py:10: DataConversionWarning: Data with input dtype uint8, float64 were all converted to float64 by the scale function.\n",
      "  # Remove the CWD from sys.path while we load stuff.\n",
      "c:\\users\\user\\appdata\\local\\programs\\python\\python35\\lib\\site-packages\\ipykernel_launcher.py:10: DataConversionWarning: Data with input dtype uint8, float64 were all converted to float64 by the scale function.\n",
      "  # Remove the CWD from sys.path while we load stuff.\n",
      "c:\\users\\user\\appdata\\local\\programs\\python\\python35\\lib\\site-packages\\ipykernel_launcher.py:10: DataConversionWarning: Data with input dtype uint8, float64 were all converted to float64 by the scale function.\n",
      "  # Remove the CWD from sys.path while we load stuff.\n",
      "c:\\users\\user\\appdata\\local\\programs\\python\\python35\\lib\\site-packages\\ipykernel_launcher.py:10: DataConversionWarning: Data with input dtype uint8, float64 were all converted to float64 by the scale function.\n",
      "  # Remove the CWD from sys.path while we load stuff.\n",
      "c:\\users\\user\\appdata\\local\\programs\\python\\python35\\lib\\site-packages\\ipykernel_launcher.py:10: DataConversionWarning: Data with input dtype uint8, float64 were all converted to float64 by the scale function.\n",
      "  # Remove the CWD from sys.path while we load stuff.\n",
      "c:\\users\\user\\appdata\\local\\programs\\python\\python35\\lib\\site-packages\\ipykernel_launcher.py:10: DataConversionWarning: Data with input dtype uint8, float64 were all converted to float64 by the scale function.\n",
      "  # Remove the CWD from sys.path while we load stuff.\n",
      "c:\\users\\user\\appdata\\local\\programs\\python\\python35\\lib\\site-packages\\ipykernel_launcher.py:10: DataConversionWarning: Data with input dtype uint8, float64 were all converted to float64 by the scale function.\n",
      "  # Remove the CWD from sys.path while we load stuff.\n",
      "c:\\users\\user\\appdata\\local\\programs\\python\\python35\\lib\\site-packages\\ipykernel_launcher.py:10: DataConversionWarning: Data with input dtype uint8, float64 were all converted to float64 by the scale function.\n",
      "  # Remove the CWD from sys.path while we load stuff.\n",
      "c:\\users\\user\\appdata\\local\\programs\\python\\python35\\lib\\site-packages\\ipykernel_launcher.py:10: DataConversionWarning: Data with input dtype uint8, float64 were all converted to float64 by the scale function.\n",
      "  # Remove the CWD from sys.path while we load stuff.\n",
      "c:\\users\\user\\appdata\\local\\programs\\python\\python35\\lib\\site-packages\\ipykernel_launcher.py:10: DataConversionWarning: Data with input dtype uint8, float64 were all converted to float64 by the scale function.\n",
      "  # Remove the CWD from sys.path while we load stuff.\n",
      "c:\\users\\user\\appdata\\local\\programs\\python\\python35\\lib\\site-packages\\ipykernel_launcher.py:10: DataConversionWarning: Data with input dtype uint8, float64 were all converted to float64 by the scale function.\n",
      "  # Remove the CWD from sys.path while we load stuff.\n",
      "c:\\users\\user\\appdata\\local\\programs\\python\\python35\\lib\\site-packages\\ipykernel_launcher.py:10: DataConversionWarning: Data with input dtype uint8, float64 were all converted to float64 by the scale function.\n",
      "  # Remove the CWD from sys.path while we load stuff.\n",
      "c:\\users\\user\\appdata\\local\\programs\\python\\python35\\lib\\site-packages\\ipykernel_launcher.py:10: DataConversionWarning: Data with input dtype uint8, float64 were all converted to float64 by the scale function.\n",
      "  # Remove the CWD from sys.path while we load stuff.\n",
      "c:\\users\\user\\appdata\\local\\programs\\python\\python35\\lib\\site-packages\\ipykernel_launcher.py:10: DataConversionWarning: Data with input dtype uint8, float64 were all converted to float64 by the scale function.\n",
      "  # Remove the CWD from sys.path while we load stuff.\n",
      "c:\\users\\user\\appdata\\local\\programs\\python\\python35\\lib\\site-packages\\ipykernel_launcher.py:10: DataConversionWarning: Data with input dtype uint8, float64 were all converted to float64 by the scale function.\n",
      "  # Remove the CWD from sys.path while we load stuff.\n",
      "c:\\users\\user\\appdata\\local\\programs\\python\\python35\\lib\\site-packages\\ipykernel_launcher.py:10: DataConversionWarning: Data with input dtype uint8, float64 were all converted to float64 by the scale function.\n",
      "  # Remove the CWD from sys.path while we load stuff.\n",
      "c:\\users\\user\\appdata\\local\\programs\\python\\python35\\lib\\site-packages\\matplotlib\\axes\\_base.py:3215: MatplotlibDeprecationWarning: \n",
      "The `xmin` argument was deprecated in Matplotlib 3.0 and will be removed in 3.2. Use `left` instead.\n",
      "  alternative='`left`', obj_type='argument')\n"
     ]
    },
    {
     "data": {
      "text/plain": [
       "(-1, 19.899999999999999)"
      ]
     },
     "execution_count": 45,
     "metadata": {},
     "output_type": "execute_result"
    },
    {
     "data": {
      "image/png": "[encoded data removed]",
      "text/plain": [
       "<Figure size 432x288 with 1 Axes>"
      ]
     },
     "metadata": {
      "needs_background": "light"
     },
     "output_type": "display_data"
    }
   ],
   "source": [
    "n = len(X_train)\n",
    "\n",
    "# 10-fold CV, with shuffle\n",
    "kf_10 = model_selection.KFold(n_splits=10, shuffle=True, random_state=1)\n",
    "\n",
    "mse = []\n",
    "\n",
    "for i in np.arange(1, 20):\n",
    "    pls = PLSRegression(n_components=i)\n",
    "    score = model_selection.cross_val_score(pls, scale(X_train), y_train, cv=kf_10, scoring='neg_mean_squared_error').mean()\n",
    "    mse.append(-score)\n",
    "\n",
    "# Plot results\n",
    "plt.plot(np.arange(1, 20), np.array(mse), '-v')\n",
    "plt.xlabel('Number of principal components in regression')\n",
    "plt.ylabel('MSE')\n",
    "plt.title('Salary')\n",
    "plt.xlim(xmin=-1)"
   ]
  },
  {
   "cell_type": "code",
   "execution_count": 46,
   "metadata": {},
   "outputs": [
    {
     "name": "stderr",
     "output_type": "stream",
     "text": [
      "c:\\users\\user\\appdata\\local\\programs\\python\\python35\\lib\\site-packages\\ipykernel_launcher.py:2: DataConversionWarning: Data with input dtype uint8, float64 were all converted to float64 by the scale function.\n",
      "  \n",
      "c:\\users\\user\\appdata\\local\\programs\\python\\python35\\lib\\site-packages\\ipykernel_launcher.py:4: DataConversionWarning: Data with input dtype uint8, float64 were all converted to float64 by the scale function.\n",
      "  after removing the cwd from sys.path.\n"
     ]
    },
    {
     "data": {
      "text/plain": [
       "104838.51042760804"
      ]
     },
     "execution_count": 46,
     "metadata": {},
     "output_type": "execute_result"
    }
   ],
   "source": [
    "pls = PLSRegression(n_components=2)\n",
    "pls.fit(scale(X_train), y_train)\n",
    "\n",
    "mean_squared_error(y_test, pls.predict(scale(X_test)))"
   ]
  },
  {
   "cell_type": "code",
   "execution_count": null,
   "metadata": {},
   "outputs": [],
   "source": []
  },
  {
   "cell_type": "code",
   "execution_count": 2,
   "metadata": {},
   "outputs": [
    {
     "data": {
      "text/plain": [
       "matrix([[-1.193 ,  1.5012, -1.03  ],\n",
       "        [-0.037 ,  0.354 , -0.7647],\n",
       "        [-0.5919, -0.091 , -0.3257],\n",
       "        [ 0.3792, -0.714 ,  1.0739],\n",
       "        [ 1.4427, -1.0502,  1.0464]])"
      ]
     },
     "execution_count": 2,
     "metadata": {},
     "output_type": "execute_result"
    }
   ],
   "source": [
    "X = np.mat([[-1.193,\t1.5012,\t-1.03], [-0.037,\t0.354,\t-0.7647], [-0.5919,\t-0.091,\t-0.3257], [0.3792,\t-0.714,\t1.0739], [1.4427,\t-1.0502,\t1.0464]])\n",
    "X"
   ]
  },
  {
   "cell_type": "code",
   "execution_count": 3,
   "metadata": {},
   "outputs": [
    {
     "data": {
      "text/plain": [
       "matrix([[-1.1841],\n",
       "        [-0.2161],\n",
       "        [-0.5457],\n",
       "        [ 0.5485],\n",
       "        [ 1.3973]])"
      ]
     },
     "execution_count": 3,
     "metadata": {},
     "output_type": "execute_result"
    }
   ],
   "source": [
    "y = np.mat([[-1.1841], [-0.2161], [-0.5457], [0.5485], [1.3973]])\n",
    "y"
   ]
  },
  {
   "cell_type": "code",
   "execution_count": 4,
   "metadata": {},
   "outputs": [
    {
     "data": {
      "text/plain": [
       "matrix([[ 0.61357714,  0.78917981,  0.00552615],\n",
       "        [-0.52856319,  0.38526164,  0.1559682 ],\n",
       "        [ 0.58663792, -0.4782977 ,  0.13474807]])"
      ]
     },
     "execution_count": 4,
     "metadata": {},
     "output_type": "execute_result"
    }
   ],
   "source": [
    "W = np.mat([[0.613577138,0.789179813,\t0.005526153], [-0.528563193,\t0.38526164,\t0.155968198], [0.586637918,\t-0.478297702,\t0.134748071]])\n",
    "W"
   ]
  },
  {
   "cell_type": "code",
   "execution_count": 6,
   "metadata": {},
   "outputs": [
    {
     "data": {
      "text/plain": [
       "matrix([[ 0.57546721,  0.29601323, -1.15469533],\n",
       "        [-0.54716769,  0.67927821,  3.04150567],\n",
       "        [ 0.60973518, -1.05518486,  3.94812973]])"
      ]
     },
     "execution_count": 6,
     "metadata": {},
     "output_type": "execute_result"
    }
   ],
   "source": [
    "P = np.mat([[0.575467211,0.296013231,-1.154695331], [-0.547167689,0.679278215,3.041505672], [0.609735177,-1.055184862,3.948129733]])\n",
    "P"
   ]
  },
  {
   "cell_type": "code",
   "execution_count": 7,
   "metadata": {},
   "outputs": [
    {
     "data": {
      "text/plain": [
       "matrix([[ 0.78412099,  0.62449431,  1.0165944 ]])"
      ]
     },
     "execution_count": 7,
     "metadata": {},
     "output_type": "execute_result"
    }
   ],
   "source": [
    "q = np.mat([0.784120985,\t0.62449431,\t1.016594405])\n",
    "q"
   ]
  },
  {
   "cell_type": "code",
   "execution_count": 8,
   "metadata": {},
   "outputs": [
    {
     "data": {
      "text/plain": [
       "matrix([[-1.59402304,  0.08716292,  0.05006507],\n",
       "        [-0.50559226,  0.36469956, -0.04302134],\n",
       "        [-0.39262221, -0.25449267, -0.04735302],\n",
       "        [ 0.94290668, -0.37574148,  0.03791186],\n",
       "        [ 1.54933082,  0.17837167,  0.00239743]])"
      ]
     },
     "execution_count": 8,
     "metadata": {},
     "output_type": "execute_result"
    }
   ],
   "source": [
    "T = np.mat([[-1.594023043,\t0.087162916,\t0.050065067], [-0.505592256,\t0.364699564,\t-0.043021342], [-0.392622207,\t-0.254492672,\t-0.04735302], [0.942906681,\t-0.375741479,\t0.037911861], [1.549330825,\t0.17837167,\t0.002397434]])\n",
    "T"
   ]
  },
  {
   "cell_type": "code",
   "execution_count": 19,
   "metadata": {},
   "outputs": [
    {
     "data": {
      "text/plain": [
       "matrix([[ 0.74125913],\n",
       "        [-0.01080648],\n",
       "        [ 0.23693031]])"
      ]
     },
     "execution_count": 19,
     "metadata": {},
     "output_type": "execute_result"
    }
   ],
   "source": [
    "b = np.mat([[0.74125913], [-0.010806479], [0.23693031]])\n",
    "b"
   ]
  },
  {
   "cell_type": "code",
   "execution_count": 32,
   "metadata": {},
   "outputs": [
    {
     "data": {
      "text/plain": [
       "matrix([[-2.12971365,  0.12950989,  0.08875625],\n",
       "        [-0.65841574,  0.47293722, -0.04803358],\n",
       "        [-0.50614503, -0.34639278, -0.06135148],\n",
       "        [ 1.24005303, -0.48946373,  0.03544018],\n",
       "        [ 2.05416272,  0.23345723, -0.01482484]])"
      ]
     },
     "execution_count": 32,
     "metadata": {},
     "output_type": "execute_result"
    }
   ],
   "source": [
    "XW = X*W\n",
    "XW"
   ]
  },
  {
   "cell_type": "code",
   "execution_count": 31,
   "metadata": {},
   "outputs": [
    {
     "data": {
      "image/png": "[encoded data removed]",
      "text/plain": [
       "<Figure size 432x288 with 1 Axes>"
      ]
     },
     "metadata": {
      "needs_background": "light"
     },
     "output_type": "display_data"
    }
   ],
   "source": [
    "plt.plot(T, XW, 'o', color='black');"
   ]
  },
  {
   "cell_type": "code",
   "execution_count": 33,
   "metadata": {},
   "outputs": [
    {
     "data": {
      "text/plain": [
       "matrix([[-1.17066413],\n",
       "        [-0.38890905],\n",
       "        [-0.29950399],\n",
       "        [ 0.7119811 ],\n",
       "        [ 1.14709607]])"
      ]
     },
     "execution_count": 33,
     "metadata": {},
     "output_type": "execute_result"
    }
   ],
   "source": [
    "y_hat = T*b\n",
    "y_hat"
   ]
  },
  {
   "cell_type": "code",
   "execution_count": 34,
   "metadata": {},
   "outputs": [
    {
     "data": {
      "text/plain": [
       "matrix([[-1.55904019],\n",
       "        [-0.50454807],\n",
       "        [-0.38597736],\n",
       "        [ 0.93288686],\n",
       "        [ 1.51663157]])"
      ]
     },
     "execution_count": 34,
     "metadata": {},
     "output_type": "execute_result"
    }
   ],
   "source": [
    "y_hat2 = XW*b\n",
    "y_hat2"
   ]
  },
  {
   "cell_type": "code",
   "execution_count": 18,
   "metadata": {},
   "outputs": [
    {
     "data": {
      "image/png": "[encoded data removed]",
      "text/plain": [
       "<Figure size 432x288 with 1 Axes>"
      ]
     },
     "metadata": {
      "needs_background": "light"
     },
     "output_type": "display_data"
    }
   ],
   "source": [
    "plt.plot(X, TP, 'o', color='black');"
   ]
  },
  {
   "cell_type": "code",
   "execution_count": 27,
   "metadata": {},
   "outputs": [
    {
     "data": {
      "text/plain": [
       "matrix([[-1.17066413],\n",
       "        [-0.38890905],\n",
       "        [-0.29950399],\n",
       "        [ 0.7119811 ],\n",
       "        [ 1.14709607]])"
      ]
     },
     "execution_count": 27,
     "metadata": {},
     "output_type": "execute_result"
    }
   ],
   "source": [
    "y_hat = T * b\n",
    "y_hat"
   ]
  },
  {
   "cell_type": "code",
   "execution_count": 21,
   "metadata": {
    "scrolled": true
   },
   "outputs": [
    {
     "data": {
      "image/png": "[encoded data removed]",
      "text/plain": [
       "<Figure size 432x288 with 1 Axes>"
      ]
     },
     "metadata": {
      "needs_background": "light"
     },
     "output_type": "display_data"
    }
   ],
   "source": [
    "plt.plot(y, y_hat, 'o', color='black');"
   ]
  },
  {
   "cell_type": "code",
   "execution_count": 22,
   "metadata": {},
   "outputs": [
    {
     "data": {
      "text/plain": [
       "matrix([[-1.55904019],\n",
       "        [-0.50454807],\n",
       "        [-0.38597736],\n",
       "        [ 0.93288686],\n",
       "        [ 1.51663157]])"
      ]
     },
     "execution_count": 22,
     "metadata": {},
     "output_type": "execute_result"
    }
   ],
   "source": [
    "y_hat2 = XW*b\n",
    "y_hat2"
   ]
  },
  {
   "cell_type": "code",
   "execution_count": 23,
   "metadata": {},
   "outputs": [
    {
     "data": {
      "image/png": "[encoded data removed]",
      "text/plain": [
       "<Figure size 432x288 with 1 Axes>"
      ]
     },
     "metadata": {
      "needs_background": "light"
     },
     "output_type": "display_data"
    }
   ],
   "source": [
    "plt.plot(y, y_hat2, 'o', color='black');"
   ]
  },
  {
   "cell_type": "code",
   "execution_count": 25,
   "metadata": {},
   "outputs": [
    {
     "data": {
      "image/png": "[encoded data removed]",
      "text/plain": [
       "<Figure size 432x288 with 1 Axes>"
      ]
     },
     "metadata": {
      "needs_background": "light"
     },
     "output_type": "display_data"
    }
   ],
   "source": [
    "plt.plot(y_hat, y_hat2, 'o', color='black');"
   ]
  },
  {
   "cell_type": "code",
   "execution_count": 26,
   "metadata": {},
   "outputs": [
    {
     "data": {
      "text/plain": [
       "matrix([[ 0.38837606],\n",
       "        [ 0.11563902],\n",
       "        [ 0.08647337],\n",
       "        [-0.22090576],\n",
       "        [-0.36953549]])"
      ]
     },
     "execution_count": 26,
     "metadata": {},
     "output_type": "execute_result"
    }
   ],
   "source": [
    "y_hat-y_hat2"
   ]
  },
  {
   "cell_type": "code",
   "execution_count": 28,
   "metadata": {},
   "outputs": [
    {
     "data": {
      "text/plain": [
       "matrix([[-0.99475714, -1.24833629,  0.011532  ],\n",
       "        [-0.52822457, -0.23792144,  0.04829051],\n",
       "        [-0.13416763, -0.38524694, -0.04824318],\n",
       "        [ 0.79938963,  0.58123098, -0.04828452],\n",
       "        [ 0.8577597 ,  1.29027369,  0.0367052 ]])"
      ]
     },
     "execution_count": 28,
     "metadata": {},
     "output_type": "execute_result"
    }
   ],
   "source": [
    "TW = T*W\n",
    "TW"
   ]
  },
  {
   "cell_type": "code",
   "execution_count": 29,
   "metadata": {},
   "outputs": [
    {
     "data": {
      "image/png": "[encoded data removed]",
      "text/plain": [
       "<Figure size 432x288 with 1 Axes>"
      ]
     },
     "metadata": {
      "needs_background": "light"
     },
     "output_type": "display_data"
    }
   ],
   "source": [
    "plt.plot(X, TW, 'o', color='black');"
   ]
  },
  {
   "cell_type": "code",
   "execution_count": 35,
   "metadata": {},
   "outputs": [
    {
     "data": {
      "text/plain": [
       "matrix([[ -1.72898528e+00,  -4.78003077e-01,  -6.47801077e-01,\n",
       "          -1.26036173e-01,  -9.61838046e-02],\n",
       "        [ -9.64714183e-01,  -4.32169585e-01,   2.95760180e-01,\n",
       "           1.94692996e-01,  -2.19729347e-01],\n",
       "        [  1.04517608e+00,   2.22882686e+00,  -9.26939028e-01,\n",
       "           1.21999837e+00,   1.25481490e+00],\n",
       "        [ -3.42364745e-01,  -9.91756486e-01,   1.72125629e-01,\n",
       "          -6.95340321e-01,  -6.41411034e-01],\n",
       "        [ -2.15388841e+00,   9.34948929e-01,  -2.29096273e-02,\n",
       "           1.78128361e-01,   6.06796684e-01],\n",
       "        [ -1.69782251e-01,  -2.27862450e-01,   6.50819076e-01,\n",
       "          -3.52801522e-01,  -1.83485402e-01],\n",
       "        [ -1.59642219e+00,   2.41784157e-01,   7.61633545e-02,\n",
       "          -4.21539442e-01,   1.81003079e-01],\n",
       "        [ -7.91581102e-01,  -3.77633129e-01,  -5.27764649e-01,\n",
       "           2.55360606e-01,  -1.68152132e-01],\n",
       "        [  8.67698127e-01,  -1.79946509e-01,   4.28259239e-02,\n",
       "          -2.04504138e-02,  -1.28228577e-01],\n",
       "        [  2.90413559e-01,   5.08714828e-01,   4.68626706e-01,\n",
       "           5.97462392e-01,   3.01618954e-01],\n",
       "        [ -6.38710531e-01,   4.77787520e-02,   1.77639370e-02,\n",
       "          -1.05276271e-01,   1.05559769e-01],\n",
       "        [ -5.47567180e-01,   7.34973567e-01,   7.48835874e-01,\n",
       "           1.89393941e-01,   4.22485954e-01],\n",
       "        [ -3.58775291e-01,   8.14442191e-01,  -2.48481684e-01,\n",
       "           3.69962854e-01,   4.65366769e-01],\n",
       "        [ -9.05424182e-01,   6.98537929e-01,   9.54774403e-01,\n",
       "           5.25135452e-01,   3.45466050e-01],\n",
       "        [  4.82809571e-01,   7.44902653e-03,  -2.39673153e-01,\n",
       "           9.01065082e-03,   4.50502859e-02],\n",
       "        [  5.84630914e-01,   1.12876912e+00,   1.18881743e-01,\n",
       "           6.97727818e-01,   5.40271421e-01],\n",
       "        [ -9.32020815e-01,   9.41572361e-01,   1.86687314e+00,\n",
       "          -2.06259731e-01,   4.61725889e-01],\n",
       "        [ -6.12137499e-01,  -2.96004354e+00,  -2.84725200e-01,\n",
       "          -1.16769238e+00,  -1.65798009e+00],\n",
       "        [ -7.05963300e+00,   4.25048084e+00,  -1.75765590e+00,\n",
       "           2.06734968e+00,   2.45699912e+00],\n",
       "        [ -1.38583632e+00,  -6.02588742e-01,   4.16377794e-01,\n",
       "          -5.26905701e-01,  -3.19830200e-01],\n",
       "        [  1.26440821e+00,   1.80674262e+00,  -1.92084220e+00,\n",
       "           1.03042646e+00,   1.03853761e+00],\n",
       "        [ -1.40305824e+00,   1.06620858e-01,   3.11567465e-01,\n",
       "          -1.21734211e-01,   1.91461866e-01],\n",
       "        [  2.31242916e-01,   1.06980243e+00,  -1.47571999e+00,\n",
       "           5.66686219e-01,   6.99343811e-01],\n",
       "        [ -4.50946440e-01,   9.15741127e-01,   3.94502436e-02,\n",
       "           6.29897888e-01,   5.12797208e-01],\n",
       "        [ -1.38027578e-01,  -8.77430895e-02,  -6.42188252e-01,\n",
       "           2.83937155e-01,   6.72901191e-02],\n",
       "        [  1.55269157e-01,   4.99855909e-01,  -1.15590368e-01,\n",
       "           8.47712365e-02,   1.55748430e-01],\n",
       "        [  6.29288500e-01,  -6.66657860e-02,   6.41294325e-01,\n",
       "           1.24431968e-01,  -3.75551780e-02],\n",
       "        [ -4.90831918e-01,  -1.21147202e+00,   2.10368224e-02,\n",
       "          -3.93508272e-01,  -5.77413569e-01],\n",
       "        [ -8.25046639e-01,   2.69341513e-01,   1.24702883e+00,\n",
       "          -5.46050644e-01,   1.60516434e-01],\n",
       "        [  8.75142189e-01,   7.85446367e-01,  -3.98576774e-01,\n",
       "           6.80445557e-01,   3.41195124e-01],\n",
       "        [ -7.14163057e-01,  -1.79089862e-01,  -7.11087473e-01,\n",
       "          -3.26984060e-01,   1.14614762e-01],\n",
       "        [  1.96062565e-01,  -8.05381205e-02,   5.69173228e-01,\n",
       "           3.75790021e-03,  -1.21558942e-02],\n",
       "        [ -2.29271720e-02,  -4.49365013e-01,   1.56707947e-01,\n",
       "          -2.46230538e-01,  -1.62175189e-01],\n",
       "        [  1.86899539e+00,   1.43710103e+00,  -8.45267476e-02,\n",
       "           1.26625670e-01,   7.93951956e-01],\n",
       "        [  5.59436352e-01,   1.02497742e-01,  -1.03155810e+00,\n",
       "           1.90400123e-01,   1.62841740e-01],\n",
       "        [ -1.59759789e+00,   8.96525498e-01,  -3.21940138e-01,\n",
       "           1.83941056e-01,   4.61096211e-01],\n",
       "        [ -1.50742395e-01,  -1.05833794e+00,   4.31451832e-02,\n",
       "          -3.41905212e-01,  -5.48095396e-01],\n",
       "        [ -1.54904362e+00,   6.80372890e-01,   5.42075264e-01,\n",
       "          -4.74934489e-01,   4.64784404e-01],\n",
       "        [ -1.55754855e-01,  -1.40957591e-01,  -2.91543003e-01,\n",
       "          -6.81933897e-02,   1.15738295e-02],\n",
       "        [  3.15184711e-02,   2.14460549e-01,  -1.30963669e+00,\n",
       "           8.28269424e-01,   3.45566401e-01],\n",
       "        [ -2.00233120e+00,   9.59208494e-01,   5.14966585e-01,\n",
       "           4.86390918e-01,   6.33900490e-01],\n",
       "        [ -1.12755124e+00,   1.70595172e-01,  -8.79435454e-01,\n",
       "           3.43869746e-01,   2.69519787e-01],\n",
       "        [  9.85055656e-01,   1.68259348e-01,  -8.50753797e-01,\n",
       "           6.83534045e-02,   1.71524097e-02],\n",
       "        [  1.52237047e+00,   6.23880680e-01,  -2.67037435e-01,\n",
       "           4.90947761e-01,   3.43944266e-01],\n",
       "        [ -3.22839667e-01,   8.05887029e-01,   7.04132491e-01,\n",
       "          -4.99210600e-02,   4.04546202e-01],\n",
       "        [ -9.07038205e-01,  -1.11842800e+00,   3.45179182e-01,\n",
       "          -2.77456228e-01,  -4.97716304e-01],\n",
       "        [ -2.49664879e+00,  -6.42244535e-01,   2.95951644e-01,\n",
       "          -3.51368103e-01,  -3.12626423e-01],\n",
       "        [ -4.86287544e-01,   3.70410498e-01,   1.38910036e-01,\n",
       "          -2.15721955e-02,   1.02360108e-01],\n",
       "        [ -1.10900712e-02,  -8.12672437e-01,   7.67905243e-01,\n",
       "          -5.33871202e-01,  -4.98385852e-01],\n",
       "        [  1.66034784e+00,   1.11687056e+00,   7.87035763e-02,\n",
       "           3.15215025e-01,   3.16886340e-01],\n",
       "        [ -7.20739373e-01,  -8.09302020e-01,   7.21231859e-01,\n",
       "          -6.21447678e-01,  -6.55978679e-01],\n",
       "        [  5.75857797e-01,  -4.60055481e-02,  -1.19486253e-02,\n",
       "           2.50266092e-01,   1.13940334e-01],\n",
       "        [  1.01475919e+00,  -7.19373625e-01,   3.52178156e-01,\n",
       "          -1.84740133e-01,  -6.36249884e-01],\n",
       "        [  1.18256319e+00,   7.83218045e-01,  -6.31702252e-01,\n",
       "          -2.71672206e-01,   3.55914297e-01],\n",
       "        [  1.74146893e+00,   2.15522726e-01,  -9.49462624e-01,\n",
       "           5.67996382e-01,   9.72589210e-02],\n",
       "        [  1.49221123e+00,  -1.28792268e+00,  -1.91889041e-01,\n",
       "           1.30856129e-01,  -7.54828715e-01],\n",
       "        [  2.70313706e-01,  -4.08174219e-01,   1.15417769e+00,\n",
       "          -7.69010150e-01,  -2.55187526e-01],\n",
       "        [  1.46179790e+00,  -8.17554017e-01,   4.11296968e-01,\n",
       "          -6.23301924e-01,  -5.49808249e-01],\n",
       "        [  2.42916082e+00,  -1.39882502e+00,  -4.81069890e-01,\n",
       "          -2.50707780e-01,  -8.39781999e-01],\n",
       "        [  2.03250558e+00,  -6.43337001e-01,   9.71724839e-02,\n",
       "           1.81470962e-01,  -4.82299705e-01],\n",
       "        [  1.03679715e+00,  -7.82979309e-01,   1.10211958e+00,\n",
       "          -7.29471865e-01,  -5.93242106e-01],\n",
       "        [  1.01010462e+00,  -1.48552063e+00,  -3.24466907e-01,\n",
       "          -8.13098045e-01,  -5.41731669e-01],\n",
       "        [  3.56181623e-01,  -1.13350308e+00,   1.16708204e+00,\n",
       "          -8.57343044e-01,  -6.58126070e-01],\n",
       "        [  1.01923335e+00,  -9.90223766e-01,  -1.05478152e-02,\n",
       "          -3.73368208e-02,  -6.17935462e-01],\n",
       "        [  2.71988972e-01,  -1.15703387e+00,   1.09411038e-01,\n",
       "          -8.00970955e-01,  -5.65281943e-01],\n",
       "        [  2.24980943e+00,  -4.21763595e-01,   2.25525027e-01,\n",
       "           1.87080383e-01,  -5.03273931e-01],\n",
       "        [  2.20526453e+00,   4.31975796e-02,  -6.64916209e-01,\n",
       "           3.37122780e-01,   6.80334553e-02],\n",
       "        [  1.49233335e+00,  -1.57704062e+00,   6.70527591e-02,\n",
       "          -6.32347548e-01,  -1.04397338e+00],\n",
       "        [  6.68291527e-01,  -8.03760313e-01,   5.68086684e-01,\n",
       "          -4.29903658e-01,  -6.73111689e-01]])"
      ]
     },
     "execution_count": 35,
     "metadata": {},
     "output_type": "execute_result"
    }
   ],
   "source": [
    "HDS_T = np.mat([[-1.72898528173103,-0.478003076805184,-0.647801077120278,-0.126036172651521,-0.0961838045914904],[-0.964714183090846,-0.432169584522629,0.295760179646572,0.194692995984076,-0.219729346733983],[1.04517607671384,2.22882686193483,-0.926939028123341,1.21999837151465,1.25481490249005],[-0.34236474516173,-0.991756485555052,0.172125628541928,-0.695340320795143,-0.641411033627771],[-2.15388840556264,0.934948928884428,-0.0229096273417073,0.178128360955542,0.606796684164209],[-0.169782251482659,-0.227862449565015,0.65081907566853,-0.352801522474658,-0.183485401674387],[-1.59642218940855,0.24178415710607,0.076163354460539,-0.42153944169553,0.181003079145677],[-0.791581101805188,-0.377633128857914,-0.527764649092836,0.255360605852166,-0.168152131667595],[0.867698127171981,-0.179946508887069,0.0428259239234994,-0.020450413769843,-0.128228576946073],[0.29041355914051,0.508714828401366,0.468626706034286,0.597462391543999,0.301618953533963],[-0.638710530991161,0.047778751988311,0.0177639369826929,-0.105276271215956,0.105559769107669],[-0.547567179811202,0.73497356667792,0.748835873589832,0.189393941120017,0.42248595400794],[-0.358775290694292,0.814442190580925,-0.248481683515289,0.369962854033427,0.465366769194203],[-0.905424181741547,0.698537928575174,0.954774403023595,0.52513545246331,0.345466050150967],[0.482809571242635,0.007449026531064,-0.23967315324446,0.00901065081925975,0.0450502859038654],[0.584630914398581,1.12876912380558,0.118881743401422,0.697727818477031,0.540271420920624],[-0.932020815118009,0.941572361255814,1.86687313686818,-0.206259731457441,0.46172588862062],[-0.612137498757506,-2.96004354490757,-0.284725200203272,-1.16769237860454,-1.65798008746926],[-7.0596329956039,4.2504808424859,-1.75765589999522,2.06734968319028,2.45699912137873],[-1.38583631983786,-0.602588742473205,0.416377794325836,-0.526905700920675,-0.319830200432481],[1.26440821290231,1.80674262291067,-1.92084219633977,1.03042645997015,1.03853761394993],[-1.40305823652866,0.106620857630648,0.311567464621082,-0.121734210709554,0.191461865734442],[0.231242916356,1.06980242674748,-1.47571998851965,0.566686218503149,0.69934381146789],[-0.450946439941974,0.915741126923082,0.0394502436181945,0.629897888373001,0.512797208197414],[-0.138027578319996,-0.0877430895346618,-0.642188252027729,0.283937155011578,0.0672901191198137],[0.155269157476373,0.49985590890034,-0.115590367635381,0.0847712364778346,0.155748430029843],[0.629288499955483,-0.0666657859945579,0.641294325033556,0.124431967906384,-0.0375551780492284],[-0.490831917892688,-1.21147201951997,0.0210368224290892,-0.393508272437527,-0.577413568715866],[-0.825046639439412,0.269341513356177,1.24702883051452,-0.546050643808622,0.160516434064541],[0.875142188910931,0.785446367104125,-0.398576773706211,0.680445557033575,0.341195123507561],[-0.714163057400474,-0.179089861540258,-0.71108747285906,-0.326984060007767,0.114614762292154],[0.196062564868196,-0.0805381204524272,0.569173227629811,0.00375790020722083,-0.0121558941602766],[-0.0229271720291915,-0.449365013064915,0.156707946765,-0.246230537641987,-0.162175189397845],[1.86899538951427,1.43710102751045,-0.0845267476072327,0.126625669669274,0.793951956488756],[0.559436351775586,0.102497741596159,-1.03155810414224,0.190400122661435,0.162841739760126],[-1.59759788777874,0.896525498387004,-0.321940138341418,0.183941055551889,0.461096210689248],[-0.150742394552476,-1.05833794385024,0.0431451831701496,-0.341905212410459,-0.548095395527559],[-1.54904362046365,0.680372889610082,0.542075263691479,-0.474934488938668,0.464784404261725],[-0.155754855320774,-0.140957590743832,-0.291543003091595,-0.0681933896984749,0.0115738294603921],[0.0315184711479873,0.214460548691604,-1.30963668672691,0.828269424382257,0.34556640099467],[-2.00233119681857,0.959208493512624,0.514966585172724,0.48639091762657,0.633900490286869],[-1.1275512432708,0.17059517226742,-0.879435453627541,0.34386974611444,0.269519786597831],[0.985055656288223,0.16825934779638,-0.85075379697161,0.0683534045208065,0.0171524096868558],[1.52237046608513,0.623880680008726,-0.267037434799381,0.490947761302313,0.343944265503206],[-0.322839666588229,0.805887028761749,0.704132491286583,-0.0499210599518301,0.404546202414274],[-0.907038205123714,-1.11842799997685,0.345179181831666,-0.277456228087213,-0.497716303807605],[-2.49664879113243,-0.642244535444415,0.295951644115225,-0.351368103132876,-0.312626423128987],[-0.486287543546932,0.370410497947371,0.138910035519912,-0.0215721954841662,0.102360107870523],[-0.0110900712413606,-0.812672436908916,0.767905243211374,-0.533871201570843,-0.498385852023792],[1.66034784160569,1.11687056033266,0.0787035763420969,0.315215025361464,0.316886340297864],[-0.720739373088078,-0.809302020170726,0.72123185865942,-0.621447678270841,-0.65597867927217],[0.575857797165542,-0.0460055480984903,-0.0119486253083805,0.250266091967919,0.113940334440311],[1.01475918658265,-0.719373625353615,0.352178156365887,-0.184740132739446,-0.636249883908818],[1.18256318517597,0.783218045019166,-0.631702251809636,-0.271672206390849,0.355914296658777],[1.741468928129,0.21552272551457,-0.949462623609996,0.567996382286596,0.0972589209679067],[1.49221123265876,-1.28792267590763,-0.191889041154988,0.130856128579328,-0.754828715385106],[0.27031370578534,-0.408174219483642,1.15417768900941,-0.7690101496919,-0.255187525928215],[1.46179789892083,-0.817554016708312,0.411296968385094,-0.623301924101496,-0.549808248805208],[2.42916082089432,-1.39882501899327,-0.481069890015529,-0.250707779704268,-0.839781999241935],[2.03250558327615,-0.643337001397739,0.0971724839469242,0.181470962235903,-0.48229970467689],[1.0367971498291,-0.782979308815868,1.10211957749342,-0.729471865354336,-0.593242106417336],[1.01010462314775,-1.48552063286452,-0.324466906738406,-0.813098044816505,-0.541731668631984],[0.35618162278885,-1.13350307642075,1.1670820350425,-0.857343044343231,-0.658126069703283],[1.01923334798828,-0.990223765839616,-0.0105478151962512,-0.0373368208016118,-0.617935462034974],[0.271988971510994,-1.15703386886962,0.109411037663744,-0.800970955164921,-0.565281942714355],[2.24980943352716,-0.421763594749059,0.225525027258785,0.187080382782682,-0.503273930569236],[2.20526453318488,0.0431975796031389,-0.664916209026512,0.337122779797061,0.0680334552929758],[1.49233334774308,-1.57704062284734,0.0670527591183372,-0.632347547834703,-1.04397338460836],[0.668291527413863,-0.803760313234094,0.56808668352894,-0.429903657597168,-0.673111688802325]])\n",
    "HDS_T"
   ]
  },
  {
   "cell_type": "code",
   "execution_count": 36,
   "metadata": {},
   "outputs": [
    {
     "data": {
      "text/plain": [
       "matrix([[ 0.29634694, -0.28842688,  0.00678877, -0.16181805, -0.18700793],\n",
       "        [-0.3170271 ,  0.1578354 , -0.02378553,  0.05459536,  0.08288762],\n",
       "        [-0.32618726,  0.22590426, -0.04631845,  0.115289  ,  0.14560933],\n",
       "        [-0.30244155,  0.29387774, -0.10482567,  0.06834786,  0.12337198],\n",
       "        [-0.27034735,  0.03411301, -0.00170572, -0.05648323,  0.02444664],\n",
       "        [-0.26188198,  0.28466988, -0.0213434 ,  0.17471723,  0.18883474],\n",
       "        [-0.24105727, -0.03018504, -0.04704062,  0.01629108,  0.00744921],\n",
       "        [-0.23793698, -0.01919398, -0.20067619, -0.02524773,  0.01860411],\n",
       "        [-0.20942936, -0.24616568,  0.07021533, -0.06243316, -0.10665342],\n",
       "        [-0.19622069, -0.09583628, -0.09502527, -0.07940931, -0.01176848],\n",
       "        [-0.07954329,  0.01173454,  0.04449971,  0.00135236,  0.00483542],\n",
       "        [-0.19742837, -0.52644924, -0.19511697, -0.26722832, -0.27944892],\n",
       "        [ 0.27228358,  0.32139788, -0.03107306,  0.06026051,  0.14911184],\n",
       "        [-0.14277114, -0.10192993, -0.07732354, -0.19916052, -0.11398303],\n",
       "        [-0.19245943, -0.03735413,  0.2289246 , -0.1672009 , -0.0318908 ],\n",
       "        [-0.2089985 , -0.30504547,  0.24738929, -0.07277315, -0.16777235],\n",
       "        [-0.18701162, -0.0682005 ,  0.23220037, -0.16230663, -0.02862365],\n",
       "        [-0.0362412 ,  0.05336388,  0.0961408 ,  0.06203937,  0.04184475],\n",
       "        [ 0.13483324,  0.10827656, -0.14192786, -0.00389674,  0.09828757],\n",
       "        [-0.00572515,  0.31079742,  0.20905934,  0.15686249,  0.16606516]])"
      ]
     },
     "execution_count": 36,
     "metadata": {},
     "output_type": "execute_result"
    }
   ],
   "source": [
    "HDS_W = np.mat([[0.296346938864061,-0.288426879411957,0.00678877451149437,-0.16181805140137,-0.187007925949239],[-0.317027104257292,0.15783539645037,-0.0237855312298543,0.0545953617300677,0.0828876223058499],[-0.326187259286582,0.225904256537691,-0.0463184487467971,0.115288999749636,0.145609333464804],[-0.302441549075054,0.293877744162261,-0.104825665687607,0.0683478601553028,0.12337197950699],[-0.270347346968453,0.0341130096674175,-0.00170571762140861,-0.0564832274735637,0.0244466432577794],[-0.261881977574649,0.284669877202839,-0.0213433998643718,0.174717227067408,0.188834738787137],[-0.241057274277737,-0.0301850420509848,-0.0470406247749072,0.0162910845828476,0.00744921193876854],[-0.237936982679252,-0.0191939750743638,-0.200676187888987,-0.0252477298228581,0.0186041127269524],[-0.209429364783304,-0.246165680404526,0.0702153275446458,-0.0624331603152437,-0.106653417238222],[-0.196220688431251,-0.0958362757585205,-0.0950252664827769,-0.0794093070074924,-0.011768481206173],[-0.0795432928708108,0.0117345383775364,0.0444997143726817,0.00135235738344861,0.00483541620204888],[-0.197428365810769,-0.526449240053891,-0.195116968308402,-0.267228316812079,-0.279448924622128],[0.272283580874086,0.321397879525134,-0.0310730567704979,0.060260514266475,0.149111836637516],[-0.142771136970394,-0.101929932776049,-0.0773235358956656,-0.199160523339133,-0.11398303185354],[-0.192459426715285,-0.0373541304583163,0.228924604235077,-0.167200895273294,-0.0318908014666187],[-0.208998500247989,-0.305045472901863,0.24738928839471,-0.0727731491806183,-0.167772351885194],[-0.187011616471861,-0.0682005025747928,0.232200371735372,-0.162306634751619,-0.0286236466406119],[-0.0362411979536259,0.053363883971125,0.0961407957552263,0.0620393686553076,0.0418447461954337],[0.134833244890858,0.10827656042582,-0.141927859802813,-0.00389673999350068,0.0982875729231449],[-0.00572514974956718,0.310797422288119,0.209059342770453,0.156862487769625,0.166065159384805]])\n",
    "HDS_W"
   ]
  },
  {
   "cell_type": "code",
   "execution_count": 37,
   "metadata": {},
   "outputs": [
    {
     "data": {
      "text/plain": [
       "matrix([[ 0.0394],\n",
       "        [ 0.0402],\n",
       "        [ 0.0424],\n",
       "        [ 0.0413],\n",
       "        [ 0.0397],\n",
       "        [ 0.0408],\n",
       "        [ 0.0404],\n",
       "        [ 0.0404],\n",
       "        [ 0.0421],\n",
       "        [ 0.043 ],\n",
       "        [ 0.0408],\n",
       "        [ 0.0408],\n",
       "        [ 0.0411],\n",
       "        [ 0.041 ],\n",
       "        [ 0.0415],\n",
       "        [ 0.0428],\n",
       "        [ 0.0413],\n",
       "        [ 0.0396],\n",
       "        [ 0.0375],\n",
       "        [ 0.0396],\n",
       "        [ 0.0422],\n",
       "        [ 0.0407],\n",
       "        [ 0.0419],\n",
       "        [ 0.0413],\n",
       "        [ 0.0416],\n",
       "        [ 0.0408],\n",
       "        [ 0.0418],\n",
       "        [ 0.0404],\n",
       "        [ 0.0405],\n",
       "        [ 0.0421],\n",
       "        [ 0.0401],\n",
       "        [ 0.042 ],\n",
       "        [ 0.0404],\n",
       "        [ 0.0439],\n",
       "        [ 0.0416],\n",
       "        [ 0.0404],\n",
       "        [ 0.041 ],\n",
       "        [ 0.0404],\n",
       "        [ 0.0418],\n",
       "        [ 0.0418],\n",
       "        [ 0.0401],\n",
       "        [ 0.0406],\n",
       "        [ 0.0415],\n",
       "        [ 0.0427],\n",
       "        [ 0.0412],\n",
       "        [ 0.041 ],\n",
       "        [ 0.0394],\n",
       "        [ 0.0416],\n",
       "        [ 0.0416],\n",
       "        [ 0.0427],\n",
       "        [ 0.0408],\n",
       "        [ 0.0414],\n",
       "        [ 0.0416],\n",
       "        [ 0.0423],\n",
       "        [ 0.0422],\n",
       "        [ 0.0415],\n",
       "        [ 0.042 ],\n",
       "        [ 0.0422],\n",
       "        [ 0.0429],\n",
       "        [ 0.0429],\n",
       "        [ 0.0419],\n",
       "        [ 0.0412],\n",
       "        [ 0.041 ],\n",
       "        [ 0.0416],\n",
       "        [ 0.041 ],\n",
       "        [ 0.0434],\n",
       "        [ 0.0432],\n",
       "        [ 0.0406],\n",
       "        [ 0.0417]])"
      ]
     },
     "execution_count": 37,
     "metadata": {},
     "output_type": "execute_result"
    }
   ],
   "source": [
    "HDS_y = np.mat([[0.0394],[0.0402],[0.0424],[0.0413],[0.0397],[0.0408],[0.0404],[0.0404],[0.0421],[0.043],[0.0408],[0.0408],[0.0411],[0.041],[0.0415],[0.0428],[0.0413],[0.0396],[0.0375],[0.0396],[0.0422],[0.0407],[0.0419],[0.0413],[0.0416],[0.0408],[0.0418],[0.0404],[0.0405],[0.0421],[0.0401],[0.042],[0.0404],[0.0439],[0.0416],[0.0404],[0.041],[0.0404],[0.0418],[0.0418],[0.0401],[0.0406],[0.0415],[0.0427],[0.0412],[0.041],[0.0394],[0.0416],[0.0416],[0.0427],[0.0408],[0.0414],[0.0416],[0.0423],[0.0422],[0.0415],[0.042],[0.0422],[0.0429],[0.0429],[0.0419],[0.0412],[0.041],[0.0416],[0.041],[0.0434],[0.0432],[0.0406],[0.0417]]\n",
    ")\n",
    "HDS_y"
   ]
  },
  {
   "cell_type": "code",
   "execution_count": 42,
   "metadata": {},
   "outputs": [],
   "source": [
    "HDS_TI = HDS_T.I"
   ]
  },
  {
   "cell_type": "code",
   "execution_count": 46,
   "metadata": {},
   "outputs": [
    {
     "data": {
      "text/plain": [
       "(5, 69)"
      ]
     },
     "execution_count": 46,
     "metadata": {},
     "output_type": "execute_result"
    }
   ],
   "source": [
    "HDS_TI.shape"
   ]
  },
  {
   "cell_type": "code",
   "execution_count": 47,
   "metadata": {},
   "outputs": [
    {
     "data": {
      "text/plain": [
       "(69, 1)"
      ]
     },
     "execution_count": 47,
     "metadata": {},
     "output_type": "execute_result"
    }
   ],
   "source": [
    "HDS_y.shape"
   ]
  },
  {
   "cell_type": "code",
   "execution_count": 48,
   "metadata": {},
   "outputs": [
    {
     "data": {
      "text/plain": [
       "matrix([[  7.60773962e-04],\n",
       "        [  5.01616780e-05],\n",
       "        [  2.91491381e-04],\n",
       "        [  2.94268014e-04],\n",
       "        [  4.43353984e-04]])"
      ]
     },
     "execution_count": 48,
     "metadata": {},
     "output_type": "execute_result"
    }
   ],
   "source": [
    "HDS_TI*HDS_y"
   ]
  },
  {
   "cell_type": "code",
   "execution_count": 49,
   "metadata": {},
   "outputs": [
    {
     "data": {
      "text/plain": [
       "matrix([[  5.87969625e-03],\n",
       "        [ -1.55284761e-03],\n",
       "        [ -1.19222377e-03],\n",
       "        [ -8.23424541e-04],\n",
       "        [ -9.44103528e-03],\n",
       "        [ -7.22025183e-04],\n",
       "        [ -7.39727330e-04],\n",
       "        [ -1.44202682e-02],\n",
       "        [ -1.44916248e-04],\n",
       "        [ -5.42113836e-03],\n",
       "        [ -4.81857433e-06],\n",
       "        [ -3.67797296e-02],\n",
       "        [  3.40361226e-02],\n",
       "        [ -9.61658759e-06],\n",
       "        [ -4.25698167e-02],\n",
       "        [ -5.68689856e-05],\n",
       "        [ -2.35469948e-02],\n",
       "        [  3.36470445e-06],\n",
       "        [  2.72318224e-03],\n",
       "        [  1.97141224e-04]])"
      ]
     },
     "execution_count": 49,
     "metadata": {},
     "output_type": "execute_result"
    }
   ],
   "source": [
    "HDS_b = np.mat([[0.00587969625257126],[-0.00155284761022523],[-0.00119222376969728],[-0.000823424540769551],[-0.00944103528238967],[-0.000722025182645375],[-0.000739727330195182],[-0.014420268201197],[-0.000144916248180528],[-0.00542113835903468],[-4.81857432588362E-06],[-0.0367797295992716],[0.0340361225749913],[-9.61658758902371E-06],[-0.0425698167395471],[-5.68689855718197E-05],[-0.0235469947505949],[3.36470445347896E-06],[0.00272318223716074],[0.000197141224207852]])\n",
    "HDS_b"
   ]
  },
  {
   "cell_type": "code",
   "execution_count": 2,
   "metadata": {
    "scrolled": true
   },
   "outputs": [
    {
     "data": {
      "text/plain": [
       "matrix([[ -1.76684539e+00,   1.31197404e-01,  -4.20878987e-04,\n",
       "           9.04098121e-01],\n",
       "        [ -1.64099995e+00,   9.87278669e-02,  -9.25958170e-04,\n",
       "           6.79814323e-01],\n",
       "        [ -4.14543553e-01,  -7.03955340e-02,   1.68576022e-04,\n",
       "          -4.87468302e-01],\n",
       "        [ -9.38810210e-01,  -1.45973230e-02,  -1.51104969e-05,\n",
       "          -1.02563747e-01],\n",
       "        [ -2.18273388e+00,   2.23654774e-01,  -6.07635581e-04,\n",
       "           1.54267734e+00],\n",
       "        [ -8.93727654e-01,  -1.74858229e-02,   2.83058685e-04,\n",
       "          -1.22466051e-01],\n",
       "        [ -1.26213327e+00,   3.69869378e-02,  -2.72502202e-05,\n",
       "           2.53557104e-01],\n",
       "        [ -1.23466140e+00,   3.41059463e-02,   1.45240178e-04,\n",
       "           2.33673285e-01],\n",
       "        [ -1.24511758e-01,  -8.27104096e-02,   3.18217910e-04,\n",
       "          -5.72120617e-01],\n",
       "        [ -4.36362130e-01,  -6.80945249e-02,   2.38266237e-04,\n",
       "          -4.71605578e-01],\n",
       "        [ -1.13387808e+00,   1.49484777e-02,  -4.81855605e-05,\n",
       "           1.01395948e-01],\n",
       "        [ -8.36125788e-01,  -2.66443941e-02,   1.66664084e-04,\n",
       "          -1.85684406e-01],\n",
       "        [ -5.64537457e-01,  -5.50406574e-02,   4.08684356e-04,\n",
       "          -3.81573784e-01],\n",
       "        [ -8.27386804e-01,  -2.52645634e-02,   3.89052837e-04,\n",
       "          -1.76144806e-01],\n",
       "        [ -2.27681416e+00,   2.48310096e-01,  -4.58152875e-04,\n",
       "           1.71299527e+00],\n",
       "        [ -1.17345870e+00,   2.48913024e-02,   2.27290763e-04,\n",
       "           1.70078028e-01],\n",
       "        [ -8.16452013e-01,  -2.32455194e-02,   6.81076826e-04,\n",
       "          -1.62168154e-01],\n",
       "        [ -4.62351223e-01,  -6.40127348e-02,   4.11585724e-04,\n",
       "          -4.43429512e-01],\n",
       "        [ -5.60223992e-01,  -5.52655146e-02,   4.18411095e-04,\n",
       "          -3.83116449e-01],\n",
       "        [ -4.55858064e-01,  -6.45063097e-02,   4.19396289e-04,\n",
       "          -4.46830857e-01],\n",
       "        [  2.88881097e-01,  -7.50943365e-02,  -9.23177959e-07,\n",
       "          -5.18736239e-01],\n",
       "        [ -5.60225925e-01,  -5.50761473e-02,   4.17501590e-04,\n",
       "          -3.81789462e-01],\n",
       "        [  1.10787336e-01,  -8.35891228e-02,   1.35606056e-04,\n",
       "          -5.77780642e-01],\n",
       "        [  7.42782509e-01,  -5.45672454e-03,  -3.61603718e-04,\n",
       "          -3.64445729e-02],\n",
       "        [  7.47915060e-01,  -2.99002908e-03,  -2.82592848e-04,\n",
       "          -1.93645791e-02],\n",
       "        [  7.40284088e-01,  -5.83013995e-03,  -3.49179754e-04,\n",
       "          -3.90228348e-02],\n",
       "        [  7.47634499e-01,  -5.81222020e-03,  -5.21196351e-04,\n",
       "          -3.88765326e-02],\n",
       "        [  7.50165264e-01,  -5.20342368e-03,  -5.14114529e-04,\n",
       "          -3.46744496e-02],\n",
       "        [  7.22914512e-01,  -5.85329186e-03,   3.70110875e-05,\n",
       "          -3.92221101e-02],\n",
       "        [  7.50582900e-01,  -1.03401518e-03,  -1.53381577e-04,\n",
       "          -5.85078911e-03],\n",
       "        [  7.53196630e-01,   6.62592981e-04,  -7.22704440e-05,\n",
       "           5.89351571e-03],\n",
       "        [  7.61122103e-01,   3.71461473e-03,   1.37942013e-05,\n",
       "           2.70097189e-02],\n",
       "        [  7.66165016e-01,   4.98880659e-03,  -3.27818462e-06,\n",
       "           3.58325292e-02],\n",
       "        [  7.35469177e-01,  -4.94825483e-03,  -1.64197223e-04,\n",
       "          -3.29324159e-02],\n",
       "        [  7.61173592e-01,   4.17123186e-03,   5.63294992e-05,\n",
       "           3.01619728e-02],\n",
       "        [  7.60912118e-01,   1.50828224e-03,  -1.69423460e-04,\n",
       "           1.17471961e-02],\n",
       "        [  7.45847415e-01,   8.20731661e-04,   1.09624100e-04,\n",
       "           6.97215924e-03],\n",
       "        [  7.50618753e-01,  -5.86550944e-04,  -1.20894762e-04,\n",
       "          -2.75010543e-03],\n",
       "        [  7.47911545e-01,  -3.16818464e-03,  -2.80560661e-04,\n",
       "          -2.06059687e-02],\n",
       "        [  7.40823689e-01,  -4.15507071e-04,   1.20117575e-04,\n",
       "          -1.58686053e-03],\n",
       "        [  7.40743728e-01,  -1.18759268e-03,   5.09701510e-05,\n",
       "          -6.92226547e-03],\n",
       "        [  7.45556834e-01,  -2.21271921e-03,  -1.36367697e-04,\n",
       "          -1.40089685e-02],\n",
       "        [  7.40463023e-01,  -4.10094837e-03,  -1.90945743e-04,\n",
       "          -2.70701984e-02],\n",
       "        [  7.50885317e-01,   2.13725189e-03,   1.09798436e-04,\n",
       "           1.60868253e-02],\n",
       "        [  7.45935790e-01,   1.70795943e-03,   1.88428219e-04,\n",
       "           1.31069847e-02],\n",
       "        [  7.45765083e-01,   1.15792571e-05,   4.32226878e-05,\n",
       "           1.37959529e-03],\n",
       "        [  7.53220997e-01,   9.05703989e-04,  -5.20914145e-05,\n",
       "           7.57356546e-03],\n",
       "        [  7.41012487e-01,   1.38752729e-03,   2.80869026e-04,\n",
       "           1.08714319e-02],\n",
       "        [  7.40476929e-01,  -3.81979522e-03,  -1.77293833e-04,\n",
       "          -2.51149675e-02],\n",
       "        [  7.33393920e-01,  -1.19677490e-03,   2.14693636e-04,\n",
       "          -6.99869610e-03]])"
      ]
     },
     "execution_count": 2,
     "metadata": {},
     "output_type": "execute_result"
    }
   ],
   "source": [
    "dw_T = np.mat([[-1.76684538934945,0.13119740388398,-0.000420878987103716,0.904098120850372],[-1.64099995084076,0.0987278669149501,-0.000925958169727716,0.679814323400961],[-0.414543553443289,-0.0703955339838507,0.00016857602239604,-0.48746830238135],[-0.938810209652307,-0.0145973230492114,-1.51104969252949E-05,-0.102563746709354],[-2.18273388465149,0.22365477351833,-0.000607635581253396,1.54267734437989],[-0.893727653907816,-0.0174858228997138,0.000283058685386682,-0.12246605085029],[-1.26213326864061,0.0369869378243537,-2.72502202012794E-05,0.253557103615558],[-1.23466140452743,0.0341059462850918,0.000145240177953296,0.233673285090367],[-0.124511757714411,-0.0827104095953522,0.000318217909634922,-0.572120616900309],[-0.436362130163163,-0.0680945248646091,0.000238266236741298,-0.471605577904898],[-1.13387807576373,0.0149484777242269,-4.81855605431303E-05,0.101395947743723],[-0.836125788075635,-0.026644394128934,0.000166664084072349,-0.185684405776635],[-0.56453745704446,-0.0550406574223869,0.000408684355944399,-0.381573783648148],[-0.827386803789967,-0.0252645634297197,0.000389052836769279,-0.176144805545994],[-2.27681416027691,0.248310096319934,-0.000458152874855982,1.71299527194306],[-1.17345870357744,0.0248913024170148,0.000227290762590808,0.17007802845754],[-0.816452012859893,-0.0232455193718589,0.000681076825694121,-0.162168153566334],[-0.462351223091608,-0.0640127348432499,0.000411585723603699,-0.443429511983052],[-0.560223991571728,-0.0552655146293747,0.00041841109471915,-0.383116449477627],[-0.455858064453037,-0.064506309669165,0.000419396289177126,-0.446830857141049],[0.288881097196705,-0.0750943364882701,-9.23177958632345E-07,-0.518736239170416],[-0.560225925378656,-0.0550761472862586,0.000417501589816462,-0.381789462258643],[0.110787335965246,-0.0835891228024268,0.000135606056484222,-0.577780642043729],[0.742782508773264,-0.0054567245380605,-0.000361603717746121,-0.0364445729423004],[0.747915059653549,-0.0029900290836462,-0.000282592848322982,-0.019364579053888],[0.740284088224916,-0.00583013994532867,-0.000349179753603988,-0.0390228348136287],[0.747634498744043,-0.00581222020249986,-0.000521196351398255,-0.0388765325588489],[0.750165263641665,-0.00520342368213399,-0.000514114529321395,-0.0346744496199548],[0.722914511733402,-0.00585329185567769,3.7011087535373E-05,-0.0392221100969648],[0.750582899557263,-0.00103401517780146,-0.000153381577169555,-0.00585078910795402],[0.753196629802056,0.000662592981409547,-7.22704440310648E-05,0.00589351571366676],[0.761122103383972,0.00371461473150274,1.37942012726803E-05,0.027009718853717],[0.766165016147053,0.00498880659219892,-3.27818461803541E-06,0.0358325291833701],[0.73546917697934,-0.0049482548271556,-0.000164197223450833,-0.0329324159400049],[0.761173591752472,0.00417123186167266,5.63294992342494E-05,0.030161972784001],[0.760912118393507,0.00150828223853744,-0.000169423460217075,0.0117471961408234],[0.745847415152593,0.000820731660967567,0.000109624100103314,0.00697215924495033],[0.75061875254674,-0.000586550944328791,-0.000120894762367059,-0.00275010542514017],[0.747911545159517,-0.00316818464346037,-0.000280560661088393,-0.020605968658738],[0.740823689319739,-0.00041550707130603,0.000120117574548506,-0.00158686053186135],[0.740743727975788,-0.00118759268178538,5.09701510109622E-05,-0.0069222654732997],[0.745556833989172,-0.00221271920604495,-0.000136367697399255,-0.0140089685155293],[0.740463022635213,-0.00410094836955343,-0.000190945742931655,-0.0270701983803008],[0.750885317181269,0.00213725188729712,0.00010979843607517,0.0160868252832118],[0.745935789524014,0.00170795943440393,0.00018842821873205,0.0131069847235115],[0.745765082841996,1.15792570607544E-05,4.32226878004541E-05,0.00137959529416267],[0.753220996747042,0.000905703988527807,-5.20914144526123E-05,0.00757356546378371],[0.741012486810073,0.00138752729454491,0.000280869026436905,0.0108714319290709],[0.740476928776455,-0.00381979521833602,-0.000177293832658639,-0.0251149675238353],[0.733393920165738,-0.00119677490448826,0.000214693635612565,-0.00699869609555493]]\n",
    ")\n",
    "dw_T"
   ]
  },
  {
   "cell_type": "code",
   "execution_count": 3,
   "metadata": {},
   "outputs": [
    {
     "data": {
      "text/plain": [
       "matrix([[ -3.72220714e-01,   1.84959682e+00,   1.20318114e+02,\n",
       "           2.65426163e-01],\n",
       "        [ -9.28533742e-01,   6.74941411e+00,  -5.21168924e+01,\n",
       "           9.72035632e-01],\n",
       "        [  1.48900768e-03,  -5.42859921e-03,   3.33817442e-01,\n",
       "          -7.75835913e-04],\n",
       "        [  1.11958721e-02,  -4.18696251e-02,   1.00683469e+01,\n",
       "          -5.98615919e-03],\n",
       "        [  1.14490734e-02,  -5.32337546e-02,   1.34648500e+01,\n",
       "          -7.63365253e-03],\n",
       "        [  1.61183689e-03,  -2.33677574e-03,  -2.57756281e-01,\n",
       "          -3.26135388e-04],\n",
       "        [  9.89065072e-04,  -3.00580378e-03,   2.91695558e-01,\n",
       "          -4.28248901e-04]])"
      ]
     },
     "execution_count": 3,
     "metadata": {},
     "output_type": "execute_result"
    }
   ],
   "source": [
    "dw_P = np.mat([[-0.372220714474187,1.84959681885932,120.318114451548,0.265426163434823],[-0.928533741695766,6.7494141107141,-52.1168923543803,0.97203563161225],[0.00148900767577548,-0.0054285992148506,0.333817441708662,-0.000775835912504175],[0.0111958720757874,-0.0418696251494231,10.0683468701305,-0.00598615918831366],[0.0114490733817723,-0.0532337545801161,13.4648499659584,-0.00763365253380143],[0.00161183689462586,-0.00233677573826629,-0.257756281243324,-0.000326135388216044],[0.000989065072316248,-0.00300580377700098,0.291695557822821,-0.000428248900679975]])\n",
    "dw_P"
   ]
  },
  {
   "cell_type": "code",
   "execution_count": 4,
   "metadata": {},
   "outputs": [
    {
     "data": {
      "text/plain": [
       "matrix([[  5.27907551e+00,   3.65587546e+01,   4.51252530e+03,\n",
       "           2.04862031e+00]])"
      ]
     },
     "execution_count": 4,
     "metadata": {},
     "output_type": "execute_result"
    }
   ],
   "source": [
    "dw_Q = np.mat([5.27907551036061,36.5587545579862,4512.52530006339,2.04862030562554])\n",
    "dw_Q"
   ]
  },
  {
   "cell_type": "code",
   "execution_count": 5,
   "metadata": {},
   "outputs": [
    {
     "data": {
      "text/plain": [
       "((50, 4), (7, 4), (1, 4))"
      ]
     },
     "execution_count": 5,
     "metadata": {},
     "output_type": "execute_result"
    }
   ],
   "source": [
    "dw_T.shape, dw_P.shape, dw_Q.shape"
   ]
  },
  {
   "cell_type": "code",
   "execution_count": 6,
   "metadata": {
    "scrolled": true
   },
   "outputs": [
    {
     "data": {
      "text/plain": [
       "matrix([[  1.08965068e+00,   3.42683166e+00,  -4.18499301e-03,\n",
       "          -3.49241920e-02,  -3.97815162e-02,  -3.34081969e-03,\n",
       "          -2.65182627e-03],\n",
       "        [  8.62451889e-01,   2.89914089e+00,  -3.81594090e-03,\n",
       "          -3.58984691e-02,  -4.17009381e-02,  -2.85876912e-03,\n",
       "          -2.48103995e-03],\n",
       "        [ -8.50057502e-02,  -5.72833151e-01,   1.99359639e-04,\n",
       "           2.92160275e-03,   4.99229351e-03,  -3.88148883e-04,\n",
       "           5.95152538e-05],\n",
       "        [  2.93404276e-01,   6.74285474e-01,  -1.24412410e-03,\n",
       "          -9.43778938e-03,  -9.39196124e-03,  -1.44175377e-03,\n",
       "          -8.45152552e-04],\n",
       "        [  1.56248729e+00,   5.06748617e+00,  -5.86394348e-03,\n",
       "          -4.91545488e-02,  -5.68542485e-02,  -4.38734184e-03,\n",
       "          -3.66902269e-03],\n",
       "        [  3.01873617e-01,   5.78043719e-01,  -1.04634033e-03,\n",
       "          -5.69090133e-03,  -4.55531148e-03,  -1.43270240e-03,\n",
       "          -6.96382941e-04],\n",
       "        [  6.02225064e-01,   1.66946022e+00,  -2.28592869e-03,\n",
       "          -1.74715097e-02,  -1.87216969e-02,  -2.19645318e-03,\n",
       "          -1.47604173e-03],\n",
       "        [  6.02146828e-01,   1.59618922e+00,  -2.15637624e-03,\n",
       "          -1.51875913e-02,  -1.57794601e-02,  -2.18341645e-03,\n",
       "          -1.38138067e-03],\n",
       "        [ -2.20203457e-01,  -1.01533959e+00,   8.13701111e-04,\n",
       "           8.69776952e-03,   1.16295678e-02,   9.71491480e-05,\n",
       "           4.63293807e-04],\n",
       "        [ -6.00331076e-02,  -5.25256307e-01,   1.65337292e-04,\n",
       "           3.18769083e-03,   5.43727742e-03,  -4.51830298e-04,\n",
       "           4.45540113e-05],\n",
       "        [  4.70817106e-01,   1.25480927e+00,  -1.86425425e-03,\n",
       "          -1.44127623e-02,  -1.52004497e-02,  -1.88320643e-03,\n",
       "          -1.22388961e-03],\n",
       "        [  2.32709161e-01,   4.07359084e-01,  -9.00659971e-04,\n",
       "          -5.45599835e-03,  -4.49292724e-03,  -1.26783688e-03,\n",
       "          -6.18760677e-04],\n",
       "        [  5.62219764e-02,  -2.39502785e-01,  -1.09342326e-04,\n",
       "           2.38297981e-03,   4.88226529e-03,  -7.62220875e-04,\n",
       "          -1.10302900e-04],\n",
       "        [  2.61297915e-01,   4.06240312e-01,  -8.28302024e-04,\n",
       "          -3.23394925e-03,  -1.54471835e-03,  -1.31740872e-03,\n",
       "          -5.53480265e-04],\n",
       "        [  1.70630063e+00,   5.47901638e+00,  -6.22011243e-03,\n",
       "          -5.07546752e-02,  -5.85312615e-02,  -4.69067467e-03,\n",
       "          -3.86551829e-03],\n",
       "        [  5.55314865e-01,   1.41107392e+00,  -1.93849294e-03,\n",
       "          -1.29097549e-02,  -1.29979528e-02,  -2.06364351e-03,\n",
       "          -1.24198141e-03],\n",
       "        [  2.99807722e-01,   4.08080775e-01,  -7.36341505e-04,\n",
       "          -3.39529001e-04,   2.29835988e-03,  -1.38433097e-03,\n",
       "          -4.69537281e-04],\n",
       "        [ -1.44776241e-02,  -4.55219599e-01,   1.40477995e-04,\n",
       "           4.30219154e-03,   7.04107197e-03,  -5.57122103e-04,\n",
       "           4.50702025e-05],\n",
       "        [  5.49613590e-02,  -2.47032091e-01,  -9.72550729e-05,\n",
       "           2.54785433e-03,   5.08636572e-03,  -7.56746841e-04,\n",
       "          -1.01862834e-04],\n",
       "        [ -1.77704801e-02,  -4.68293348e-01,   1.58071967e-04,\n",
       "           4.49455439e-03,   7.27282024e-03,  -5.46406740e-04,\n",
       "           5.67108776e-05],\n",
       "        [ -3.84219019e-01,  -1.27926062e+00,   1.23994926e-03,\n",
       "           9.47439036e-03,   1.12523961e-02,   8.10524034e-04,\n",
       "           7.33319981e-04],\n",
       "        [  5.55551193e-02,  -2.44414897e-01,  -9.96190847e-05,\n",
       "           2.52280317e-03,   5.05388674e-03,  -7.57390814e-04,\n",
       "          -1.03267527e-04],\n",
       "        [ -3.32885751e-01,  -1.23573812e+00,   1.11226568e-03,\n",
       "           9.56422179e-03,   1.19546671e-02,   5.27381551e-04,\n",
       "           6.47817995e-04],\n",
       "        [ -3.39752597e-01,  -7.43108077e-01,   1.04319661e-03,\n",
       "           5.12198031e-03,   4.20391878e-03,   1.31508689e-03,\n",
       "           6.61191229e-04],\n",
       "        [ -3.23060731e-01,  -7.18740513e-01,   1.05057225e-03,\n",
       "           5.76942936e-03,   5.06485704e-03,   1.29165967e-03,\n",
       "           6.74585884e-04],\n",
       "        [ -3.38702811e-01,  -7.46462205e-01,   1.04765121e-03,\n",
       "           5.25016575e-03,   4.38216086e-03,   1.30957094e-03,\n",
       "           6.64570695e-04],\n",
       "        [ -3.62063522e-01,  -7.44059180e-01,   1.00096310e-03,\n",
       "           3.59891115e-03,   2.14806781e-03,   1.36566737e-03,\n",
       "           6.21547735e-04],\n",
       "        [ -3.59912083e-01,  -7.38584569e-01,   1.00053042e-03,\n",
       "           3.64790309e-03,   2.20791263e-03,   1.36512810e-03,\n",
       "           6.22487102e-04],\n",
       "        [ -2.85867456e-01,  -7.50810999e-01,   1.15098530e-03,\n",
       "           8.94616379e-03,   9.38605070e-03,   1.18214999e-03,\n",
       "           7.60196136e-04],\n",
       "        [ -3.01302549e-01,  -7.01613949e-01,   1.07657476e-03,\n",
       "           6.93744879e-03,   6.62792617e-03,   1.25367669e-03,\n",
       "           7.03248246e-04],\n",
       "        [ -2.86261008e-01,  -6.85401152e-01,   1.08922108e-03,\n",
       "           7.64202717e-03,   7.57003144e-03,   1.22918786e-03,\n",
       "           7.19363996e-04],\n",
       "        [ -2.67606095e-01,  -6.56120583e-01,   1.09680113e-03,\n",
       "           8.34309650e-03,   8.49595397e-03,   1.20576010e-03,\n",
       "           7.34090710e-04],\n",
       "        [ -2.66838743e-01,  -6.42737204e-01,   1.08484888e-03,\n",
       "           8.12150092e-03,   8.18863325e-03,   1.21243404e-03,\n",
       "           7.26490210e-04],\n",
       "        [ -3.11406164e-01,  -7.39759800e-01,   1.09271960e-03,\n",
       "           6.98534448e-03,   6.72435840e-03,   1.25008261e-03,\n",
       "           7.08508028e-04],\n",
       "        [ -2.60826245e-01,  -6.52239198e-01,   1.10615240e-03,\n",
       "           8.73394481e-03,   9.02090421e-03,   1.19278428e-03,\n",
       "           7.43826542e-04],\n",
       "        [ -2.97704236e-01,  -6.76104038e-01,   1.05914572e-03,\n",
       "           6.67978877e-03,   6.26051167e-03,   1.26278049e-03,\n",
       "           6.93607204e-04],\n",
       "        [ -2.61061477e-01,  -6.85941113e-01,   1.13730229e-03,\n",
       "           9.37804553e-03,   9.91842018e-03,   1.16973635e-03,\n",
       "           7.64215713e-04],\n",
       "        [ -2.95756511e-01,  -6.97306255e-01,   1.08263808e-03,\n",
       "           7.22764237e-03,   7.01827700e-03,   1.24330393e-03,\n",
       "           7.10087112e-04],\n",
       "        [ -3.23473927e-01,  -7.21252282e-01,   1.05317564e-03,\n",
       "           5.80474124e-03,   5.11114012e-03,   1.29195137e-03,\n",
       "           6.76242313e-04],\n",
       "        [ -2.62487318e-01,  -6.98486861e-01,   1.14667627e-03,\n",
       "           9.53044899e-03,   1.01333424e-02,   1.16461437e-03,\n",
       "           7.69689103e-04],\n",
       "        [ -2.73621445e-01,  -7.05206195e-01,   1.13180533e-03,\n",
       "           8.89761902e-03,   9.28319692e-03,   1.18585293e-03,\n",
       "           7.54045639e-04],\n",
       "        [ -3.01730187e-01,  -7.13719391e-01,   1.08749856e-03,\n",
       "           7.15066730e-03,   6.92449527e-03,   1.24660509e-03,\n",
       "           7.10276697e-04],\n",
       "        [ -3.13360147e-01,  -7.31585598e-01,   1.08207854e-03,\n",
       "           6.70137299e-03,   6.33151307e-03,   1.26113463e-03,\n",
       "           7.00587517e-04],\n",
       "        [ -2.58061410e-01,  -6.72882541e-01,   1.13064361e-03,\n",
       "           9.32652046e-03,   9.83878539e-03,   1.17176266e-03,\n",
       "           7.61388832e-04],\n",
       "        [ -2.48343452e-01,  -6.78178661e-01,   1.15416405e-03,\n",
       "           1.00985902e-02,   1.08864560e-02,   1.14549250e-03,\n",
       "           7.81995867e-04],\n",
       "        [ -2.72001142e-01,  -6.93301506e-01,   1.12374522e-03,\n",
       "           8.77592818e-03,   9.10915841e-03,   1.19043376e-03,\n",
       "           7.49592446e-04],\n",
       "        [ -2.82946589e-01,  -6.83201521e-01,   1.09337027e-03,\n",
       "           7.82523344e-03,   7.81625139e-03,   1.22290985e-03,\n",
       "           7.23824006e-04],\n",
       "        [ -2.36574637e-01,  -6.82760702e-01,   1.18116548e-03,\n",
       "           1.10009944e-02,   1.21089136e-02,   1.11520761e-03,\n",
       "           8.06011503e-04],\n",
       "        [ -3.10683762e-01,  -7.28511833e-01,   1.08361329e-03,\n",
       "           6.81550475e-03,   6.48560082e-03,   1.25634352e-03,\n",
       "           7.02901056e-04],\n",
       "        [ -2.51224064e-01,  -7.07050677e-01,   1.17562431e-03,\n",
       "           1.04645983e-02,   1.14046328e-02,   1.13185186e-03,\n",
       "           7.94593945e-04]])"
      ]
     },
     "execution_count": 6,
     "metadata": {},
     "output_type": "execute_result"
    }
   ],
   "source": [
    "dw_TPT = dw_T*dw_P.T\n",
    "dw_TPT"
   ]
  },
  {
   "cell_type": "code",
   "execution_count": 7,
   "metadata": {},
   "outputs": [
    {
     "data": {
      "text/plain": [
       "matrix([[ -4.00078085e-01,  -8.87433055e-01,   4.85052764e-03,\n",
       "          -6.13690600e+00],\n",
       "        [ -9.16174943e-01,   3.93705731e-01,  -1.58748645e-03,\n",
       "           2.72070569e+00],\n",
       "        [  2.13647974e-03,   2.06260716e-02,   1.62544306e-03,\n",
       "           1.42954403e-01],\n",
       "        [  1.65681696e-02,   1.71141581e-01,   1.41874080e-02,\n",
       "           1.18356236e+00],\n",
       "        [  1.64357839e-02,   1.58858202e-01,   1.41870543e-02,\n",
       "           1.09778331e+00],\n",
       "        [  3.11702604e-03,   4.79497738e-02,   4.14340813e-03,\n",
       "           3.33153659e-01],\n",
       "        [  1.44221062e-03,   1.44355456e-02,   1.07607413e-03,\n",
       "           9.99617321e-02]])"
      ]
     },
     "execution_count": 7,
     "metadata": {},
     "output_type": "execute_result"
    }
   ],
   "source": [
    "dw_W = np.mat([[-0.400078084730866,-0.887433055316278,0.00485052763742949,-6.13690599862006],[-0.916174943181891,0.393705731163782,-0.00158748644569273,2.72070569067267],[0.00213647974221093,0.0206260716232174,0.00162544306472077,0.142954403230132],[0.0165681695817885,0.171141581057008,0.0141874080109321,1.18356235941793],[0.016435783886095,0.158858201547857,0.0141870542922786,1.09778330890904],[0.00311702604093013,0.0479497738166229,0.00414340812829326,0.333153659316342],[0.00144221061938524,0.0144355455534063,0.00107607413100387,0.09996173214147]])\n",
    "dw_W"
   ]
  },
  {
   "cell_type": "code",
   "execution_count": 9,
   "metadata": {
    "scrolled": true
   },
   "outputs": [
    {
     "data": {
      "text/plain": [
       "matrix([[ -3.57677831e+00,   3.69589836e-01,  -1.23803276e-03,\n",
       "           2.54933379e+00],\n",
       "        [ -3.00246914e+00,   3.63020211e-01,  -1.54063727e-03,\n",
       "           2.50491035e+00],\n",
       "        [  5.58954077e-01,  -1.48811348e-01,   6.08097863e-04,\n",
       "          -1.02799463e+00],\n",
       "        [ -7.35467179e-01,   1.87922057e-03,   7.66989941e-05,\n",
       "           1.17146512e-02],\n",
       "        [ -5.26960111e+00,   5.90667045e-01,  -2.00130599e-03,\n",
       "           4.07504305e+00],\n",
       "        [ -6.50539053e-01,  -4.21114319e-02,   3.92857765e-04,\n",
       "          -2.92315957e-01],\n",
       "        [ -1.77106571e+00,   1.16703656e-01,  -2.57022107e-04,\n",
       "           8.03874247e-01],\n",
       "        [ -1.70381870e+00,   8.87888074e-02,  -6.65738552e-05,\n",
       "           6.10970967e-01],\n",
       "        [  1.01866523e+00,  -2.00965058e-01,   8.34346693e-04,\n",
       "          -1.38781619e+00],\n",
       "        [  5.05385787e-01,  -1.52129364e-01,   6.63453613e-04,\n",
       "          -1.05103094e+00],\n",
       "        [ -1.33848866e+00,   7.11791820e-02,  -1.40560802e-04,\n",
       "           4.89844967e-01],\n",
       "        [ -4.66485030e-01,  -4.78699835e-02,   3.33554343e-04,\n",
       "          -3.31812830e-01],\n",
       "        [  1.97050227e-01,  -1.43043840e-01,   7.52532329e-04,\n",
       "          -9.88746093e-01],\n",
       "        [ -4.76812407e-01,  -7.28323662e-02,   5.47334903e-04,\n",
       "          -5.04436396e-01],\n",
       "        [ -5.70422742e+00,   6.24499149e-01,  -2.00557475e-03,\n",
       "           4.30822020e+00],\n",
       "        [ -1.51539977e+00,   5.83120327e-02,   7.29128588e-05,\n",
       "           4.00564514e-01],\n",
       "        [ -4.93794295e-01,  -1.05176881e-01,   8.26754874e-04,\n",
       "          -7.28116265e-01],\n",
       "        [  4.23038604e-01,  -1.64542993e-01,   8.11328299e-04,\n",
       "          -1.13701027e+00],\n",
       "        [  2.04458875e-01,  -1.44828184e-01,   7.63656477e-04,\n",
       "          -1.00107124e+00],\n",
       "        [  4.36340929e-01,  -1.66697232e-01,   8.22213086e-04,\n",
       "          -1.15188282e+00],\n",
       "        [  1.32609228e+00,  -1.59199555e-01,   4.67362218e-04,\n",
       "          -1.09848882e+00],\n",
       "        [  2.01822559e-01,  -1.44334249e-01,   7.61557554e-04,\n",
       "          -9.97660471e-01],\n",
       "        [  1.26569250e+00,  -1.87509848e-01,   6.57029193e-04,\n",
       "          -1.29434823e+00],\n",
       "        [  8.16905807e-01,   1.05803071e-02,  -3.28140424e-04,\n",
       "           7.45819014e-02],\n",
       "        [  7.87927644e-01,   5.60783745e-03,  -2.64530107e-04,\n",
       "           4.01484652e-02],\n",
       "        [  8.19563829e-01,   8.37828227e-03,  -3.13388405e-04,\n",
       "           5.93603929e-02],\n",
       "        [  8.26644282e-01,   2.94190376e-02,  -4.85526926e-04,\n",
       "           2.04861605e-01],\n",
       "        [  8.20769631e-01,   2.96830352e-02,  -4.82240018e-04,\n",
       "           2.06676765e-01],\n",
       "        [  8.02553257e-01,  -3.87968535e-02,   7.29645926e-05,\n",
       "          -2.66867492e-01],\n",
       "        [  7.63576765e-01,  -6.51093404e-03,  -1.47517389e-04,\n",
       "          -4.36908478e-02],\n",
       "        [  7.42732347e-01,  -1.32066605e-02,  -7.69973049e-05,\n",
       "          -9.00257214e-02],\n",
       "        [  7.08469600e-01,  -1.79674010e-02,  -9.98007368e-06,\n",
       "          -1.23004385e-01],\n",
       "        [  6.95892344e-01,  -1.34660421e-02,  -3.50077413e-05,\n",
       "          -9.19012044e-02],\n",
       "        [  8.02569682e-01,  -1.25391397e-02,  -1.33904616e-04,\n",
       "          -8.53053611e-02],\n",
       "        [  7.02216200e-01,  -2.23059462e-02,   2.97086647e-05,\n",
       "          -1.53014720e-01],\n",
       "        [  7.38755286e-01,   2.36677551e-04,  -1.79429355e-04,\n",
       "           2.92288730e-03],\n",
       "        [  7.33212608e-01,  -3.51131894e-02,   1.03917305e-04,\n",
       "          -2.41517695e-01],\n",
       "        [  7.57422529e-01,  -9.62530675e-03,  -1.17825325e-04,\n",
       "          -6.52363174e-02],\n",
       "        [  7.90395529e-01,   4.99911106e-03,  -2.61382101e-04,\n",
       "           3.59436656e-02],\n",
       "        [  7.45283225e-01,  -3.87269321e-02,   1.22128655e-04,\n",
       "          -2.66484231e-01],\n",
       "        [  7.55869385e-01,  -3.17344497e-02,   5.77968303e-05,\n",
       "          -2.18115350e-01],\n",
       "        [  7.74846974e-01,  -1.08138252e-02,  -1.23145955e-04,\n",
       "          -7.34239846e-02],\n",
       "        [  7.95851268e-01,  -7.69769038e-03,  -1.65941063e-04,\n",
       "          -5.18403412e-02],\n",
       "        [  7.20046236e-01,  -3.26558626e-02,   9.58726450e-05,\n",
       "          -2.24549254e-01],\n",
       "        [  7.21040476e-01,  -4.30669257e-02,   1.77185976e-04,\n",
       "          -2.96536057e-01],\n",
       "        [  7.44309474e-01,  -2.85339008e-02,   4.25631393e-05,\n",
       "          -1.96005000e-01],\n",
       "        [  7.39398152e-01,  -1.52116612e-02,  -5.83346176e-05,\n",
       "          -1.03895373e-01],\n",
       "        [  7.20565023e-01,  -5.49668487e-02,   2.71634962e-04,\n",
       "          -3.78820334e-01],\n",
       "        [  7.91968813e-01,  -8.81879794e-03,  -1.54048326e-04,\n",
       "          -5.95991633e-02],\n",
       "        [  7.48659365e-01,  -5.17327272e-02,   2.21583451e-04,\n",
       "          -3.56408448e-01]])"
      ]
     },
     "execution_count": 9,
     "metadata": {},
     "output_type": "execute_result"
    }
   ],
   "source": [
    "dw_TPT*dw_W"
   ]
  },
  {
   "cell_type": "code",
   "execution_count": 8,
   "metadata": {},
   "outputs": [
    {
     "data": {
      "text/plain": [
       "matrix([[  9.66484958e+00,   1.57540000e+04,   8.33758794e+00,\n",
       "           4.06500000e+03,   4.26700000e+03,   8.30943074e+00,\n",
       "           8.25945820e+00],\n",
       "        [  9.62496342e+00,   1.51380000e+04,   8.33591109e+00,\n",
       "           4.05300000e+03,   4.25500000e+03,   8.30943074e+00,\n",
       "           8.25945820e+00],\n",
       "        [  9.13927392e+00,   9.31400000e+03,   8.33686964e+00,\n",
       "           4.07700000e+03,   4.26400000e+03,   8.30721263e+00,\n",
       "           8.26333267e+00],\n",
       "        [  9.37305428e+00,   1.17670000e+04,   8.33375101e+00,\n",
       "           4.07100000e+03,   4.26400000e+03,   8.30795254e+00,\n",
       "           8.25868150e+00],\n",
       "        [  9.78656040e+00,   1.77930000e+04,   8.33447156e+00,\n",
       "           4.06800000e+03,   4.26700000e+03,   8.31016902e+00,\n",
       "           8.26590733e+00],\n",
       "        [  9.35487352e+00,   1.15550000e+04,   8.33615082e+00,\n",
       "           4.07400000e+03,   4.27300000e+03,   8.30795254e+00,\n",
       "           8.26178468e+00],\n",
       "        [  9.49634604e+00,   1.33110000e+04,   8.33686964e+00,\n",
       "           4.07100000e+03,   4.26700000e+03,   8.31090676e+00,\n",
       "           8.26023429e+00],\n",
       "        [  9.48645581e+00,   1.31800000e+04,   8.33543148e+00,\n",
       "           4.06800000e+03,   4.27700000e+03,   8.31188956e+00,\n",
       "           8.26178468e+00],\n",
       "        [  8.98619632e+00,   7.99200000e+03,   8.33830573e+00,\n",
       "           4.07700000e+03,   4.27300000e+03,   8.31016902e+00,\n",
       "           8.26333267e+00],\n",
       "        [  9.15005944e+00,   9.41500000e+03,   8.33830573e+00,\n",
       "           4.07100000e+03,   4.27300000e+03,   8.30869192e+00,\n",
       "           8.26023429e+00],\n",
       "        [  9.44904226e+00,   1.26960000e+04,   8.33686964e+00,\n",
       "           4.06800000e+03,   4.26700000e+03,   8.31262603e+00,\n",
       "           8.26178468e+00],\n",
       "        [  9.33096381e+00,   1.12820000e+04,   8.33615082e+00,\n",
       "           4.07100000e+03,   4.27000000e+03,   8.31262603e+00,\n",
       "           8.26178468e+00],\n",
       "        [  9.21133987e+00,   1.00100000e+04,   8.33447156e+00,\n",
       "           4.07100000e+03,   4.28000000e+03,   8.31041499e+00,\n",
       "           8.25945820e+00],\n",
       "        [  9.32741204e+00,   1.12420000e+04,   8.33902301e+00,\n",
       "           4.07100000e+03,   4.28000000e+03,   8.30795254e+00,\n",
       "           8.26255897e+00],\n",
       "        [  9.81235862e+00,   1.82580000e+04,   8.33830573e+00,\n",
       "           4.07700000e+03,   4.26700000e+03,   8.30869192e+00,\n",
       "           8.26178468e+00],\n",
       "        [  9.46397433e+00,   1.28870000e+04,   8.33830573e+00,\n",
       "           4.08000000e+03,   4.26700000e+03,   8.31016902e+00,\n",
       "           8.26410576e+00],\n",
       "        [  9.32295452e+00,   1.11920000e+04,   8.33830573e+00,\n",
       "           4.07700000e+03,   4.28600000e+03,   8.30943074e+00,\n",
       "           8.26255897e+00],\n",
       "        [  9.16282939e+00,   9.53600000e+03,   8.33758794e+00,\n",
       "           4.07400000e+03,   4.27700000e+03,   8.30943074e+00,\n",
       "           8.26333267e+00],\n",
       "        [  9.20933987e+00,   9.99000000e+03,   8.33902301e+00,\n",
       "           4.07400000e+03,   4.27700000e+03,   8.30943074e+00,\n",
       "           8.26333267e+00],\n",
       "        [  9.15967846e+00,   9.50600000e+03,   8.33758794e+00,\n",
       "           4.07100000e+03,   4.28000000e+03,   8.31262603e+00,\n",
       "           8.26410576e+00],\n",
       "        [  8.72664342e+00,   6.16500000e+03,   8.34045601e+00,\n",
       "           4.07400000e+03,   4.27300000e+03,   8.31188956e+00,\n",
       "           8.26590733e+00],\n",
       "        [  9.20933987e+00,   9.99000000e+03,   8.34045601e+00,\n",
       "           4.08300000e+03,   4.26700000e+03,   8.31188956e+00,\n",
       "           8.26487826e+00],\n",
       "        [  8.84534520e+00,   6.94200000e+03,   8.33902301e+00,\n",
       "           4.07700000e+03,   4.27000000e+03,   8.31188956e+00,\n",
       "           8.26410576e+00],\n",
       "        [  8.36100711e+00,   4.27700000e+03,   8.33686964e+00,\n",
       "           4.07400000e+03,   4.28300000e+03,   8.31188956e+00,\n",
       "           8.26255897e+00],\n",
       "        [  8.35631997e+00,   4.25700000e+03,   8.34045601e+00,\n",
       "           4.08700000e+03,   4.27300000e+03,   8.31115255e+00,\n",
       "           8.26333267e+00],\n",
       "        [  8.36334247e+00,   4.28700000e+03,   8.33902301e+00,\n",
       "           4.08000000e+03,   4.27700000e+03,   8.31115255e+00,\n",
       "           8.26333267e+00],\n",
       "        [  8.35631997e+00,   4.25700000e+03,   8.33830573e+00,\n",
       "           4.08000000e+03,   4.27000000e+03,   8.31262603e+00,\n",
       "           8.26333267e+00],\n",
       "        [  8.35396813e+00,   4.24700000e+03,   8.34045601e+00,\n",
       "           4.07400000e+03,   4.27700000e+03,   8.31041499e+00,\n",
       "           8.26333267e+00],\n",
       "        [  8.37976852e+00,   4.35800000e+03,   8.34045601e+00,\n",
       "           4.08600000e+03,   4.28600000e+03,   8.31041499e+00,\n",
       "           8.26333267e+00],\n",
       "        [  8.35396813e+00,   4.24700000e+03,   8.33973977e+00,\n",
       "           4.08000000e+03,   4.28600000e+03,   8.31164395e+00,\n",
       "           8.26487826e+00],\n",
       "        [  8.35161075e+00,   4.23700000e+03,   8.34045601e+00,\n",
       "           4.08600000e+03,   4.28300000e+03,   8.31409733e+00,\n",
       "           8.26410576e+00],\n",
       "        [  8.34426736e+00,   4.20600000e+03,   8.34045601e+00,\n",
       "           4.08700000e+03,   4.28600000e+03,   8.31556648e+00,\n",
       "           8.26487826e+00],\n",
       "        [  8.33950090e+00,   4.18600000e+03,   8.33758794e+00,\n",
       "           4.09300000e+03,   4.28000000e+03,   8.31262603e+00,\n",
       "           8.26410576e+00],\n",
       "        [  8.36799689e+00,   4.30700000e+03,   8.33973977e+00,\n",
       "           4.08400000e+03,   4.28000000e+03,   8.31336195e+00,\n",
       "           8.26333267e+00],\n",
       "        [  8.34426736e+00,   4.20600000e+03,   8.34212526e+00,\n",
       "           4.08600000e+03,   4.28900000e+03,   8.31409733e+00,\n",
       "           8.26487826e+00],\n",
       "        [  8.34426736e+00,   4.20600000e+03,   8.33902301e+00,\n",
       "           4.08000000e+03,   4.28600000e+03,   8.31262603e+00,\n",
       "           8.26487826e+00],\n",
       "        [  8.35866628e+00,   4.26700000e+03,   8.34117175e+00,\n",
       "           4.09000000e+03,   4.28600000e+03,   8.31409733e+00,\n",
       "           8.26410576e+00],\n",
       "        [  8.35396813e+00,   4.24700000e+03,   8.33973977e+00,\n",
       "           4.08400000e+03,   4.28300000e+03,   8.31336195e+00,\n",
       "           8.26333267e+00],\n",
       "        [  8.35631997e+00,   4.25700000e+03,   8.34117175e+00,\n",
       "           4.07700000e+03,   4.28300000e+03,   8.31409733e+00,\n",
       "           8.26590733e+00],\n",
       "        [  8.36334247e+00,   4.28700000e+03,   8.34117175e+00,\n",
       "           4.08700000e+03,   4.28900000e+03,   8.31556648e+00,\n",
       "           8.26410576e+00],\n",
       "        [  8.36334247e+00,   4.28700000e+03,   8.34045601e+00,\n",
       "           4.08700000e+03,   4.28600000e+03,   8.31556648e+00,\n",
       "           8.26590733e+00],\n",
       "        [  8.35866628e+00,   4.26700000e+03,   8.33973977e+00,\n",
       "           4.07700000e+03,   4.28900000e+03,   8.31556648e+00,\n",
       "           8.26255897e+00],\n",
       "        [  8.36334247e+00,   4.28700000e+03,   8.34355383e+00,\n",
       "           4.07700000e+03,   4.28600000e+03,   8.31483218e+00,\n",
       "           8.26667844e+00],\n",
       "        [  8.35396813e+00,   4.24700000e+03,   8.34355383e+00,\n",
       "           4.09000000e+03,   4.28600000e+03,   8.31556648e+00,\n",
       "           8.26487826e+00],\n",
       "        [  8.35866628e+00,   4.26700000e+03,   8.34212526e+00,\n",
       "           4.09000000e+03,   4.28900000e+03,   8.31630025e+00,\n",
       "           8.26410576e+00],\n",
       "        [  8.35866628e+00,   4.26700000e+03,   8.33973977e+00,\n",
       "           4.08700000e+03,   4.28600000e+03,   8.31703348e+00,\n",
       "           8.26255897e+00],\n",
       "        [  8.35161075e+00,   4.23700000e+03,   8.33973977e+00,\n",
       "           4.08700000e+03,   4.28300000e+03,   8.31336195e+00,\n",
       "           8.26333267e+00],\n",
       "        [  8.36334247e+00,   4.28700000e+03,   8.34283980e+00,\n",
       "           4.08700000e+03,   4.29600000e+03,   8.31409733e+00,\n",
       "           8.26487826e+00],\n",
       "        [  8.36334247e+00,   4.28700000e+03,   8.34283980e+00,\n",
       "           4.08300000e+03,   4.28000000e+03,   8.31703348e+00,\n",
       "           8.26667844e+00],\n",
       "        [  8.37031600e+00,   4.31700000e+03,   8.34117175e+00,\n",
       "           4.09000000e+03,   4.28900000e+03,   8.31703348e+00,\n",
       "           8.26744896e+00]])"
      ]
     },
     "execution_count": 8,
     "metadata": {},
     "output_type": "execute_result"
    }
   ],
   "source": [
    "dw_X = np.mat([[9.66484958,15754,8.337587942,4065,4267,8.309430742,8.259458195],[9.624963418,15138,8.335911094,4053,4255,8.309430742,8.259458195],[9.139273924,9314,8.336869637,4077,4264,8.307212627,8.263332667],[9.373054282,11767,8.333751007,4071,4264,8.307952545,8.258681496],[9.786560401,17793,8.334471555,4068,4267,8.310169022,8.265907334],[9.354873523,11555,8.336150816,4074,4273,8.307952545,8.26178468],[9.49634604,13311,8.336869637,4071,4267,8.310906757,8.260234292],[9.486455808,13180,8.335431478,4068,4277,8.311889558,8.26178468],[8.98619632,7992,8.338305731,4077,4273,8.310169022,8.263332667],[9.150059441,9415,8.338305731,4071,4273,8.308691917,8.260234292],[9.449042262,12696,8.336869637,4068,4267,8.312626026,8.26178468],[9.330963814,11282,8.336150816,4071,4270,8.312626026,8.26178468],[9.211339872,10010,8.334471555,4071,4280,8.310414994,8.259458195],[9.327412044,11242,8.339023006,4071,4280,8.307952545,8.262558973],[9.812358619,18258,8.338305731,4077,4267,8.308691917,8.26178468],[9.46397433,12887,8.338305731,4080,4267,8.310169022,8.264105764],[9.322954516,11192,8.338305731,4077,4286,8.309430742,8.262558973],[9.162829389,9536,8.337587942,4074,4277,8.309430742,8.263332667],[9.209339872,9990,8.339023006,4074,4277,8.309430742,8.263332667],[9.159678457,9506,8.337587942,4071,4280,8.312626026,8.264105764],[8.726643416,6165,8.340456013,4074,4273,8.311889558,8.265907334],[9.209339872,9990,8.340456013,4083,4267,8.311889558,8.264878263],[8.845345196,6942,8.339023006,4077,4270,8.311889558,8.264105764],[8.361007108,4277,8.336869637,4074,4283,8.311889558,8.262558973],[8.356319966,4257,8.340456013,4087,4273,8.311152548,8.263332667],[8.363342467,4287,8.339023006,4080,4277,8.311152548,8.263332667],[8.356319966,4257,8.338305731,4080,4270,8.312626026,8.263332667],[8.35396813,4247,8.340456013,4074,4277,8.310414994,8.263332667],[8.379768516,4358,8.340456013,4086,4286,8.310414994,8.263332667],[8.35396813,4247,8.339739766,4080,4286,8.311643949,8.264878263],[8.351610751,4237,8.340456013,4086,4283,8.314097335,8.264105764],[8.344267356,4206,8.340456013,4087,4286,8.315566484,8.264878263],[8.339500903,4186,8.337587942,4093,4280,8.312626026,8.264105764],[8.367996885,4307,8.339739766,4084,4280,8.313361951,8.263332667],[8.344267356,4206,8.342125263,4086,4289,8.314097335,8.264878263],[8.344267356,4206,8.339023006,4080,4286,8.312626026,8.264878263],[8.358666283,4267,8.341171747,4090,4286,8.314097335,8.264105764],[8.35396813,4247,8.339739766,4084,4283,8.313361951,8.263332667],[8.356319966,4257,8.341171747,4077,4283,8.314097335,8.265907334],[8.363342467,4287,8.341171747,4087,4289,8.315566484,8.264105764],[8.363342467,4287,8.340456013,4087,4286,8.315566484,8.265907334],[8.358666283,4267,8.339739766,4077,4289,8.315566484,8.262558973],[8.363342467,4287,8.343553835,4077,4286,8.314832179,8.266678443],[8.35396813,4247,8.343553835,4090,4286,8.315566484,8.264878263],[8.358666283,4267,8.342125263,4090,4289,8.316300249,8.264105764],[8.358666283,4267,8.339739766,4087,4286,8.317033476,8.262558973],[8.351610751,4237,8.339739766,4087,4283,8.313361951,8.263332667],[8.363342467,4287,8.342839804,4087,4296,8.314097335,8.264878263],[8.363342467,4287,8.342839804,4083,4280,8.317033476,8.266678443],[8.370315996,4317,8.341171747,4090,4289,8.317033476,8.267448958]])\n",
    "dw_X"
   ]
  },
  {
   "cell_type": "code",
   "execution_count": 15,
   "metadata": {
    "scrolled": true
   },
   "outputs": [
    {
     "data": {
      "text/plain": [
       "matrix([[-14299.75002453,   7568.09129156,     93.30246181,  52302.89338956],\n",
       "        [-13735.76635297,   7321.64392548,     93.93966372,  50599.807074  ],\n",
       "        [ -8399.22361131,   5034.6698552 ,    103.65100675,  34795.68309405],\n",
       "        [-10646.79369742,   5999.19560385,     99.672905  ,  41461.03742678],\n",
       "        [-16167.82971805,   8371.26275616,     90.10873447,  57853.21649718],\n",
       "        [-10452.35969957,   5917.6893659 ,    100.17961689,  40897.79078408],\n",
       "        [-12061.36781056,   6607.44464259,     97.2650041 ,  45664.34531842],\n",
       "        [-11941.23028058,   6556.95316584,     97.57222857,  45315.42099119],\n",
       "        [ -7187.83115909,   4515.75661992,    105.87661939,  31209.73083386],\n",
       "        [ -8491.71307937,   5074.82749278,    103.5332871 ,  35073.18724313],\n",
       "        [-11497.95099221,   6364.84427693,     98.19852538,  43987.85165818],\n",
       "        [-10202.33337163,   5809.23914431,    100.52778069,  40148.34238215],\n",
       "        [ -9036.74664098,   5310.14002028,    102.68833936,  36699.31548836],\n",
       "        [-10165.52060239,   5795.08249536,    100.7331196 ,  40050.51271549],\n",
       "        [-16593.71227677,   8555.85324993,     89.49836075,  59128.83802724],\n",
       "        [-11672.74756356,   6442.08246466,     98.06563145,  44521.61717547],\n",
       "        [-10119.51204507,   5777.38121934,    100.98272404,  39928.19325033],\n",
       "        [ -8602.45990359,   5123.60347667,    103.44057885,  35410.2565373 ],\n",
       "        [ -9018.42193256,   5302.30463328,    102.72008794,  36645.17169555],\n",
       "        [ -8574.97378076,   5111.75841521,    103.48820117,  35328.3985082 ],\n",
       "        [ -5513.92538731,   3796.17332418,    108.73314933,  26237.04483966],\n",
       "        [ -9018.43716391,   5302.25649526,    102.70591825,  36644.84710222],\n",
       "        [ -6225.84041664,   4102.01413199,    107.50024492,  28350.56165185],\n",
       "        [ -3783.87646616,   3054.7698412 ,    111.87041132,  21113.57335701],\n",
       "        [ -3765.50005723,   3047.53619444,    111.94470769,  21063.59682982],\n",
       "        [ -3793.03835218,   3058.77854656,    111.85455119,  21141.28089598],\n",
       "        [ -3765.66534177,   3045.86165507,    111.80283728,  21052.01872688],\n",
       "        [ -3756.48701224,   3042.01178111,    111.83288   ,  21025.40878275],\n",
       "        [ -3857.84601302,   3089.17364395,    111.95472653,  21351.33157797],\n",
       "        [ -3756.23967664,   3044.46842088,    112.04569353,  21042.39066823],\n",
       "        [ -3747.02687435,   3041.08385173,    112.10413074,  21019.00694509],\n",
       "        [ -3718.55663196,   3029.53328862,    112.21006269,  20939.18761337],\n",
       "        [ -3700.23044824,   3021.73689288,    112.24177374,  20885.31595828],\n",
       "        [ -3811.24812473,   3067.80979235,    111.92214515,  21203.69488396],\n",
       "        [ -3718.52389379,   3029.83868562,    112.23843307,  20941.29715011],\n",
       "        [ -3718.67262138,   3028.335127  ,    112.11073632,  20930.90149237],\n",
       "        [ -3774.39936385,   3054.04991804,    112.15585233,  21108.61251836],\n",
       "        [ -3756.22270819,   3044.67647267,    112.05988745,  21043.8319856 ],\n",
       "        [ -3765.50136666,   3047.41355378,    111.94472028,  21062.74038007],\n",
       "        [ -3792.72512613,   3061.88310317,    112.12413031,  21162.74108717],\n",
       "        [ -3792.77443241,   3061.40653981,    112.08156992,  21159.44781501],\n",
       "        [ -3774.56544341,   3052.30167067,    112.01397928,  21096.51968774],\n",
       "        [ -3792.94010866,   3059.69516382,    111.93969866,  21147.61246671],\n",
       "        [ -3756.07397457,   3046.18010345,    112.18759006,  21054.22814387],\n",
       "        [ -3774.35004759,   3054.52661794,    112.19842417,  21111.9067385 ],\n",
       "        [ -3774.44906449,   3053.53658222,    112.11329828,  21105.06245014],\n",
       "        [ -3747.01031111,   3041.25493211,    112.11831311,  21020.19008279],\n",
       "        [ -3792.61007554,   3062.9950857 ,    112.22343714,  21170.42539656],\n",
       "        [ -3792.93930901,   3059.76895492,    111.93970874,  21148.12777231],\n",
       "        [ -3820.16345047,   3074.20162991,    112.11911144,  21247.870972  ]])"
      ]
     },
     "execution_count": 15,
     "metadata": {},
     "output_type": "execute_result"
    }
   ],
   "source": [
    "dw_XW = dw_X * dw_W\n",
    "dw_XW"
   ]
  },
  {
   "cell_type": "code",
   "execution_count": 16,
   "metadata": {},
   "outputs": [
    {
     "data": {
      "image/png": "[encoded data removed]",
      "text/plain": [
       "<Figure size 432x288 with 1 Axes>"
      ]
     },
     "metadata": {
      "needs_background": "light"
     },
     "output_type": "display_data"
    }
   ],
   "source": [
    "plt.plot(dw_XW, dw_T, 'o', color='black');"
   ]
  },
  {
   "cell_type": "code",
   "execution_count": 18,
   "metadata": {},
   "outputs": [
    {
     "data": {
      "text/plain": [
       "(50, 4)"
      ]
     },
     "execution_count": 18,
     "metadata": {},
     "output_type": "execute_result"
    }
   ],
   "source": [
    "dw_T.shape"
   ]
  },
  {
   "cell_type": "code",
   "execution_count": 20,
   "metadata": {},
   "outputs": [],
   "source": [
    "dw_XWQT = dw_XW*dw_Q.T"
   ]
  },
  {
   "cell_type": "code",
   "execution_count": 11,
   "metadata": {},
   "outputs": [],
   "source": [
    "dw_Y = np.mat([[4147],[4159],[4144],[4159],[4153],[4150],[4147],[4150],[4153],[4159],[4172],[4172],[4150],[4150],[4169],[4169],[4169],[4169],[4156],[4156],[4156],[4156],[4172],[4165],[4162],[4153],[4165],[4165],[4165],[4169],[4159],[4166],[4172],[4169],[4165],[4165],[4172],[4159],[4169],[4178],[4181],[4178],[4165],[4169],[4178],[4172],[4178],[4178],[4172],[4175]])"
   ]
  },
  {
   "cell_type": "code",
   "execution_count": 12,
   "metadata": {},
   "outputs": [
    {
     "ename": "NameError",
     "evalue": "name 'dw_XWQT' is not defined",
     "output_type": "error",
     "traceback": [
      "\u001b[1;31m---------------------------------------------------------------------------\u001b[0m",
      "\u001b[1;31mNameError\u001b[0m                                 Traceback (most recent call last)",
      "\u001b[1;32m<ipython-input-12-3d1df44d0e08>\u001b[0m in \u001b[0;36m<module>\u001b[1;34m\u001b[0m\n\u001b[1;32m----> 1\u001b[1;33m \u001b[0mplt\u001b[0m\u001b[1;33m.\u001b[0m\u001b[0mplot\u001b[0m\u001b[1;33m(\u001b[0m\u001b[0mdw_Y\u001b[0m\u001b[1;33m,\u001b[0m \u001b[0mdw_XWQT\u001b[0m\u001b[1;33m,\u001b[0m \u001b[1;34m'o'\u001b[0m\u001b[1;33m,\u001b[0m \u001b[0mcolor\u001b[0m\u001b[1;33m=\u001b[0m\u001b[1;34m'black'\u001b[0m\u001b[1;33m)\u001b[0m\u001b[1;33m;\u001b[0m\u001b[1;33m\u001b[0m\u001b[0m\n\u001b[0m",
      "\u001b[1;31mNameError\u001b[0m: name 'dw_XWQT' is not defined"
     ]
    }
   ],
   "source": [
    "plt.plot(dw_Y, dw_XWQT, 'o', color='black');"
   ]
  },
  {
   "cell_type": "code",
   "execution_count": 13,
   "metadata": {},
   "outputs": [],
   "source": [
    "dw_TQT = dw_T*dw_Q.T"
   ]
  },
  {
   "cell_type": "code",
   "execution_count": 14,
   "metadata": {},
   "outputs": [
    {
     "data": {
      "image/png": "[encoded data removed]",
      "text/plain": [
       "<Figure size 432x288 with 1 Axes>"
      ]
     },
     "metadata": {
      "needs_background": "light"
     },
     "output_type": "display_data"
    }
   ],
   "source": [
    "plt.plot(dw_Y, dw_TQT, 'o', color='black');"
   ]
  },
  {
   "cell_type": "code",
   "execution_count": 16,
   "metadata": {},
   "outputs": [],
   "source": [
    "df_Y = pd.DataFrame(dw_Y)"
   ]
  },
  {
   "cell_type": "code",
   "execution_count": 17,
   "metadata": {},
   "outputs": [],
   "source": [
    "df_TQT = pd.DataFrame(dw_TQT)"
   ]
  },
  {
   "cell_type": "code",
   "execution_count": 15,
   "metadata": {},
   "outputs": [],
   "source": [
    "df_YY = pd.DataFrame()"
   ]
  },
  {
   "cell_type": "code",
   "execution_count": 18,
   "metadata": {},
   "outputs": [],
   "source": [
    "df_YY['Y'] = df_Y[0]"
   ]
  },
  {
   "cell_type": "code",
   "execution_count": 19,
   "metadata": {},
   "outputs": [],
   "source": [
    "df_YY['TQT'] = df_TQT[0]"
   ]
  },
  {
   "cell_type": "code",
   "execution_count": 20,
   "metadata": {},
   "outputs": [
    {
     "data": {
      "text/html": [
       "<div>\n",
       "<style scoped>\n",
       "    .dataframe tbody tr th:only-of-type {\n",
       "        vertical-align: middle;\n",
       "    }\n",
       "\n",
       "    .dataframe tbody tr th {\n",
       "        vertical-align: top;\n",
       "    }\n",
       "\n",
       "    .dataframe thead th {\n",
       "        text-align: right;\n",
       "    }\n",
       "</style>\n",
       "<table border=\"1\" class=\"dataframe\">\n",
       "  <thead>\n",
       "    <tr style=\"text-align: right;\">\n",
       "      <th></th>\n",
       "      <th>Y</th>\n",
       "      <th>TQT</th>\n",
       "    </tr>\n",
       "  </thead>\n",
       "  <tbody>\n",
       "    <tr>\n",
       "      <th>Y</th>\n",
       "      <td>1.000000</td>\n",
       "      <td>0.386531</td>\n",
       "    </tr>\n",
       "    <tr>\n",
       "      <th>TQT</th>\n",
       "      <td>0.386531</td>\n",
       "      <td>1.000000</td>\n",
       "    </tr>\n",
       "  </tbody>\n",
       "</table>\n",
       "</div>"
      ],
      "text/plain": [
       "            Y       TQT\n",
       "Y    1.000000  0.386531\n",
       "TQT  0.386531  1.000000"
      ]
     },
     "execution_count": 20,
     "metadata": {},
     "output_type": "execute_result"
    }
   ],
   "source": [
    "corr = df_YY.corr()\n",
    "corr*corr"
   ]
  },
  {
   "cell_type": "code",
   "execution_count": 21,
   "metadata": {},
   "outputs": [],
   "source": [
    "dw_Yhat = np.mat([[4159.44203],[4156.180677],[4159.020086],[4158.251989],[4161.092112],[4159.689107],[4159.105774],[4159.883108],[4160.602812],[4159.336002],[4158.570953],[4159.003622],[4160.090045],[4160.123279],[4162.520284],[4160.109299],[4161.601216],[4160.187859],[4160.145327],[4160.23237],[4161.73281],[4160.150855],[4160.977213],[4166.035307],[4166.54411],[4166.059248],[4165.322776],[4165.398959],[4167.708993],[4167.240457],[4167.706357],[4168.291402],[4168.305642],[4166.913285],[4168.506767],[4167.351591],[4168.496355],[4167.409955],[4166.544206],[4168.454456],[4168.102848],[4167.230895],[4166.861931],[4168.59054],[4168.897431],[4168.155243],[4167.809873],[4169.272287],[4166.937893],[4168.802362]])"
   ]
  },
  {
   "cell_type": "code",
   "execution_count": 22,
   "metadata": {},
   "outputs": [
    {
     "data": {
      "image/png": "[encoded data removed]",
      "text/plain": [
       "<Figure size 432x288 with 1 Axes>"
      ]
     },
     "metadata": {
      "needs_background": "light"
     },
     "output_type": "display_data"
    }
   ],
   "source": [
    "plt.plot(dw_Yhat, dw_TQT, 'o', color='black');"
   ]
  },
  {
   "cell_type": "code",
   "execution_count": 46,
   "metadata": {
    "scrolled": true
   },
   "outputs": [
    {
     "data": {
      "text/plain": [
       "(7, 50)"
      ]
     },
     "execution_count": 46,
     "metadata": {},
     "output_type": "execute_result"
    }
   ],
   "source": [
    "dw_X.I.shape"
   ]
  },
  {
   "cell_type": "code",
   "execution_count": 25,
   "metadata": {},
   "outputs": [],
   "source": [
    "dw_Ypred = np.mat([[4133.722937],[4150.49341],[4169.596871],[4165.719895],[4161.57261],[4169.036623],[4165.26619],[4167.328632],[4173.589673],[4150.403588],[4147.930059],[4169.725673],[4171.160005],[4174.377561],[4149.937631],[4155.923846],[4171.753156],[4155.93592],[4157.512126],[4158.460615],[4136.870875],[4149.459439],[4128.344635],[4196.18564],[4141.084887],[4191.665553],[4183.836513],[4198.101325],[4195.113228],[4201.237641],[4191.065467],[4193.026267],[4179.753136],[4190.512418],[4197.344026],[4201.031711],[4189.981654],[4193.445957],[4201.268172],[4159.658247],[4156.413151],[4171.463632],[4168.253575],[4152.677713],[4156.073472],[4156.321482],[4152.774359],[4167.354796],[4154.587418],[4156.36309]])"
   ]
  },
  {
   "cell_type": "code",
   "execution_count": 26,
   "metadata": {},
   "outputs": [
    {
     "data": {
      "image/png": "[encoded data removed]",
      "text/plain": [
       "<Figure size 432x288 with 1 Axes>"
      ]
     },
     "metadata": {
      "needs_background": "light"
     },
     "output_type": "display_data"
    }
   ],
   "source": [
    "plt.plot(dw_Ypred, dw_TQT, 'o', color='black');"
   ]
  },
  {
   "cell_type": "code",
   "execution_count": 23,
   "metadata": {
    "scrolled": true
   },
   "outputs": [
    {
     "data": {
      "text/plain": [
       "matrix([[ -14537.31963046,  105950.70801319, -721501.27016958,\n",
       "           15259.0953962 ],\n",
       "        [ -13965.59974096,  101794.13639733, -689684.46242888,\n",
       "           14660.47429934],\n",
       "        [  -8557.26670136,   62483.16630033, -385851.29260465,\n",
       "            8998.99749375],\n",
       "        [ -10835.11417092,   79040.16276025, -513726.31420779,\n",
       "           11383.49887065],\n",
       "        [ -16430.61164252,  119712.86288782, -827722.76397248,\n",
       "           17241.09039523],\n",
       "        [ -10638.1216145 ,   77608.64860668, -502528.33010672,\n",
       "           11177.33582656],\n",
       "        [ -12268.78180168,   89461.32645747, -594139.56648867,\n",
       "           12884.33170571],\n",
       "        [ -12147.05929608,   88576.72818821, -587209.00038643,\n",
       "           12756.93403493],\n",
       "        [  -7329.58506762,   53559.67859562, -316849.99555378,\n",
       "            7713.85705301],\n",
       "        [  -8651.01675598,   63164.64918639, -391053.02827658,\n",
       "            9097.14316912],\n",
       "        [ -11697.7495264 ,   85310.47488666, -562123.57422363,\n",
       "           12286.53519386],\n",
       "        [ -10384.69093064,   75766.29963036, -488373.8960602 ,\n",
       "           10912.00461077],\n",
       "        [  -9203.43700232,   67180.29130919, -421960.9540822 ,\n",
       "            9675.46720253],\n",
       "        [ -10347.43377068,   75495.78415204, -486154.99681937,\n",
       "           10873.04590522],\n",
       "        [ -16862.28867294,  122851.011334  , -851863.3993444 ,\n",
       "           17693.03993529],\n",
       "        [ -11874.97067815,   86599.13815558, -571955.28211285,\n",
       "           12472.12612764],\n",
       "        [ -10300.86955343,   75157.73458204, -483408.48996245,\n",
       "           10824.36122169],\n",
       "        [  -8763.29470487,   63981.01336201, -397273.57088119,\n",
       "            9214.71437592],\n",
       "        [  -9184.86633363,   67045.33338612, -420929.04347741,\n",
       "            9656.03089666],\n",
       "        [  -8735.43675426,   63778.49100855, -395700.25431356,\n",
       "            9185.54752678],\n",
       "        [  -5633.09088967,   41228.14453256, -221693.8661536 ,\n",
       "            5937.89701707],\n",
       "        [  -9184.88005389,   67045.48887887, -420973.07655981,\n",
       "            9656.05335518],\n",
       "        [  -6354.60655375,   46472.69295261, -262184.60005176,\n",
       "            6693.20515375],\n",
       "        [  -3879.76860586,   28484.04210377, -123206.51973392,\n",
       "            4102.52036283],\n",
       "        [  -3861.16512585,   28349.03316458, -122168.50421242,\n",
       "            4083.07691969],\n",
       "        [  -3889.05632897,   28551.60873683, -123747.78555557,\n",
       "            4112.25122221],\n",
       "        [  -3861.27784501,   28349.48596145, -122279.37828801,\n",
       "            4083.14172495],\n",
       "        [  -3851.97866427,   28281.86604536, -121724.64717669,\n",
       "            4073.40322484],\n",
       "        [  -3954.81812091,   29030.11719267, -127264.5141621 ,\n",
       "            4181.16549126],\n",
       "        [  -3851.80844493,   28281.13572019, -121543.0535508 ,\n",
       "            4073.2986045 ],\n",
       "        [  -3842.48939778,   28213.54569509, -121002.15334994,\n",
       "            4063.56460545],\n",
       "        [  -3813.6565722 ,   28004.0986987 , -119336.95048698,\n",
       "            4033.40066382],\n",
       "        [  -3795.08565217,   27869.16981   , -118315.56557393,\n",
       "            4013.96857452],\n",
       "        [  -3907.54960094,   28686.27843903, -124708.8957847 ,\n",
       "            4131.64632338],\n",
       "        [  -3813.63342073,   28003.98086143, -119306.62334804,\n",
       "            4033.3837482 ],\n",
       "        [  -3813.73495018,   28004.39180072, -119407.42863551,\n",
       "            4033.442569  ],\n",
       "        [  -3870.26890447,   28415.71398465, -122484.14303597,\n",
       "            4092.68070098],\n",
       "        [  -3851.79800742,   28281.12794358, -121543.17560689,\n",
       "            4073.29756093],\n",
       "        [  -3861.16258548,   28348.91950478, -122134.53895056,\n",
       "            4083.06044214],\n",
       "        [  -3888.84055791,   28550.6768201 , -123515.72912281,\n",
       "            4112.11771183],\n",
       "        [  -3888.87490441,   28550.83651983, -123556.12338612,\n",
       "            4112.14061257],\n",
       "        [  -3870.38010488,   28416.09859751, -122574.63830327,\n",
       "            4092.73562138],\n",
       "        [  -3888.98685894,   28551.25519867, -123656.80540651,\n",
       "            4112.20047167],\n",
       "        [  -3851.69647421,   28280.71699406, -121442.36981995,\n",
       "            4073.23873867],\n",
       "        [  -3870.23455228,   28415.55427307, -122443.74873558,\n",
       "            4092.65779856],\n",
       "        [  -3870.30249102,   28415.83959909, -122514.3497626 ,\n",
       "            4092.69866027],\n",
       "        [  -3842.47820492,   28213.5038334 , -120992.08527813,\n",
       "            4063.55862042],\n",
       "        [  -3888.76041351,   28550.30417587, -123421.4740122 ,\n",
       "            4112.06427512],\n",
       "        [  -3888.98837566,   28551.32338218, -123677.18523084,\n",
       "            4112.21035647],\n",
       "        [  -3916.66557256,   28753.04651929, -125048.1912139 ,\n",
       "            4141.26267135]])"
      ]
     },
     "execution_count": 23,
     "metadata": {},
     "output_type": "execute_result"
    }
   ],
   "source": [
    "dw_XP = dw_X*dw_P\n",
    "dw_XP"
   ]
  },
  {
   "cell_type": "code",
   "execution_count": 47,
   "metadata": {
    "scrolled": true
   },
   "outputs": [
    {
     "data": {
      "text/plain": [
       "(matrix([[ -4.00078085e-01,  -8.87433055e-01,   4.85052764e-03,\n",
       "           -6.13690600e+00],\n",
       "         [ -9.16174943e-01,   3.93705731e-01,  -1.58748645e-03,\n",
       "            2.72070569e+00],\n",
       "         [  2.13647974e-03,   2.06260716e-02,   1.62544306e-03,\n",
       "            1.42954403e-01],\n",
       "         [  1.65681696e-02,   1.71141581e-01,   1.41874080e-02,\n",
       "            1.18356236e+00],\n",
       "         [  1.64357839e-02,   1.58858202e-01,   1.41870543e-02,\n",
       "            1.09778331e+00],\n",
       "         [  3.11702604e-03,   4.79497738e-02,   4.14340813e-03,\n",
       "            3.33153659e-01],\n",
       "         [  1.44221062e-03,   1.44355456e-02,   1.07607413e-03,\n",
       "            9.99617321e-02]]),\n",
       " matrix([[ -4.02269942e-01,  -9.13669077e-01,  -1.79246499e-01,\n",
       "           -7.33992455e-02,   3.90182077e-01,  -8.73364131e-01,\n",
       "           -7.74538207e-02],\n",
       "         [ -9.59942509e+00,   1.03537904e+01,  -7.20923669e+02,\n",
       "           -3.57423023e+02,   1.48569107e+03,  -3.48370832e+03,\n",
       "           -3.13574216e+02],\n",
       "         [  1.07892452e+01,  -3.53111698e+00,   3.61554558e+00,\n",
       "            3.15576851e+01,   3.15568983e+01,   9.21636770e+00,\n",
       "            2.39355973e+00],\n",
       "         [  1.25994786e+00,  -1.44044982e+00,   1.04264584e+02,\n",
       "            5.17160715e+01,  -2.14841006e+02,   5.03828660e+02,\n",
       "            4.53518954e+01]]),\n",
       " matrix([[ -4.00078085e-01,  -9.16174943e-01,   2.13647974e-03,\n",
       "            1.65681696e-02,   1.64357839e-02,   3.11702604e-03,\n",
       "            1.44221062e-03],\n",
       "         [ -8.87433055e-01,   3.93705731e-01,   2.06260716e-02,\n",
       "            1.71141581e-01,   1.58858202e-01,   4.79497738e-02,\n",
       "            1.44355456e-02],\n",
       "         [  4.85052764e-03,  -1.58748645e-03,   1.62544306e-03,\n",
       "            1.41874080e-02,   1.41870543e-02,   4.14340813e-03,\n",
       "            1.07607413e-03],\n",
       "         [ -6.13690600e+00,   2.72070569e+00,   1.42954403e-01,\n",
       "            1.18356236e+00,   1.09778331e+00,   3.33153659e-01,\n",
       "            9.99617321e-02]]))"
      ]
     },
     "execution_count": 47,
     "metadata": {},
     "output_type": "execute_result"
    }
   ],
   "source": [
    "dw_W,dw_W.I,dw_W.T"
   ]
  },
  {
   "cell_type": "code",
   "execution_count": 26,
   "metadata": {
    "scrolled": false
   },
   "outputs": [
    {
     "data": {
      "text/plain": [
       "matrix([[-14299.75002453,   7568.09129156,     93.30246181,  52302.89338956],\n",
       "        [-13735.76635297,   7321.64392548,     93.93966372,  50599.807074  ],\n",
       "        [ -8399.22361131,   5034.6698552 ,    103.65100675,  34795.68309405],\n",
       "        [-10646.79369742,   5999.19560385,     99.672905  ,  41461.03742678],\n",
       "        [-16167.82971805,   8371.26275616,     90.10873447,  57853.21649718],\n",
       "        [-10452.35969957,   5917.6893659 ,    100.17961689,  40897.79078408],\n",
       "        [-12061.36781056,   6607.44464259,     97.2650041 ,  45664.34531842],\n",
       "        [-11941.23028058,   6556.95316584,     97.57222857,  45315.42099119],\n",
       "        [ -7187.83115909,   4515.75661992,    105.87661939,  31209.73083386],\n",
       "        [ -8491.71307937,   5074.82749278,    103.5332871 ,  35073.18724313],\n",
       "        [-11497.95099221,   6364.84427693,     98.19852538,  43987.85165818],\n",
       "        [-10202.33337163,   5809.23914431,    100.52778069,  40148.34238215],\n",
       "        [ -9036.74664098,   5310.14002028,    102.68833936,  36699.31548836],\n",
       "        [-10165.52060239,   5795.08249536,    100.7331196 ,  40050.51271549],\n",
       "        [-16593.71227677,   8555.85324993,     89.49836075,  59128.83802724],\n",
       "        [-11672.74756356,   6442.08246466,     98.06563145,  44521.61717547],\n",
       "        [-10119.51204507,   5777.38121934,    100.98272404,  39928.19325033],\n",
       "        [ -8602.45990359,   5123.60347667,    103.44057885,  35410.2565373 ],\n",
       "        [ -9018.42193256,   5302.30463328,    102.72008794,  36645.17169555],\n",
       "        [ -8574.97378076,   5111.75841521,    103.48820117,  35328.3985082 ],\n",
       "        [ -5513.92538731,   3796.17332418,    108.73314933,  26237.04483966],\n",
       "        [ -9018.43716391,   5302.25649526,    102.70591825,  36644.84710222],\n",
       "        [ -6225.84041664,   4102.01413199,    107.50024492,  28350.56165185],\n",
       "        [ -3783.87646616,   3054.7698412 ,    111.87041132,  21113.57335701],\n",
       "        [ -3765.50005723,   3047.53619444,    111.94470769,  21063.59682982],\n",
       "        [ -3793.03835218,   3058.77854656,    111.85455119,  21141.28089598],\n",
       "        [ -3765.66534177,   3045.86165507,    111.80283728,  21052.01872688],\n",
       "        [ -3756.48701224,   3042.01178111,    111.83288   ,  21025.40878275],\n",
       "        [ -3857.84601302,   3089.17364395,    111.95472653,  21351.33157797],\n",
       "        [ -3756.23967664,   3044.46842088,    112.04569353,  21042.39066823],\n",
       "        [ -3747.02687435,   3041.08385173,    112.10413074,  21019.00694509],\n",
       "        [ -3718.55663196,   3029.53328862,    112.21006269,  20939.18761337],\n",
       "        [ -3700.23044824,   3021.73689288,    112.24177374,  20885.31595828],\n",
       "        [ -3811.24812473,   3067.80979235,    111.92214515,  21203.69488396],\n",
       "        [ -3718.52389379,   3029.83868562,    112.23843307,  20941.29715011],\n",
       "        [ -3718.67262138,   3028.335127  ,    112.11073632,  20930.90149237],\n",
       "        [ -3774.39936385,   3054.04991804,    112.15585233,  21108.61251836],\n",
       "        [ -3756.22270819,   3044.67647267,    112.05988745,  21043.8319856 ],\n",
       "        [ -3765.50136666,   3047.41355378,    111.94472028,  21062.74038007],\n",
       "        [ -3792.72512613,   3061.88310317,    112.12413031,  21162.74108717],\n",
       "        [ -3792.77443241,   3061.40653981,    112.08156992,  21159.44781501],\n",
       "        [ -3774.56544341,   3052.30167067,    112.01397928,  21096.51968774],\n",
       "        [ -3792.94010866,   3059.69516382,    111.93969866,  21147.61246671],\n",
       "        [ -3756.07397457,   3046.18010345,    112.18759006,  21054.22814387],\n",
       "        [ -3774.35004759,   3054.52661794,    112.19842417,  21111.9067385 ],\n",
       "        [ -3774.44906449,   3053.53658222,    112.11329828,  21105.06245014],\n",
       "        [ -3747.01031111,   3041.25493211,    112.11831311,  21020.19008279],\n",
       "        [ -3792.61007554,   3062.9950857 ,    112.22343714,  21170.42539656],\n",
       "        [ -3792.93930901,   3059.76895492,    111.93970874,  21148.12777231],\n",
       "        [ -3820.16345047,   3074.20162991,    112.11911144,  21247.870972  ]])"
      ]
     },
     "execution_count": 26,
     "metadata": {},
     "output_type": "execute_result"
    }
   ],
   "source": [
    "dw_XW = dw_X*dw_W\n",
    "dw_XW"
   ]
  },
  {
   "cell_type": "code",
   "execution_count": 33,
   "metadata": {
    "scrolled": true
   },
   "outputs": [
    {
     "data": {
      "image/png": "[encoded data removed]",
      "text/plain": [
       "<Figure size 432x288 with 1 Axes>"
      ]
     },
     "metadata": {
      "needs_background": "light"
     },
     "output_type": "display_data"
    }
   ],
   "source": [
    "plt.plot(dw_T, dw_XTIP, 'o', color='black');"
   ]
  },
  {
   "cell_type": "code",
   "execution_count": 63,
   "metadata": {},
   "outputs": [
    {
     "ename": "ValueError",
     "evalue": "shapes (7,4) and (7,50) not aligned: 4 (dim 1) != 7 (dim 0)",
     "output_type": "error",
     "traceback": [
      "\u001b[1;31m---------------------------------------------------------------------------\u001b[0m",
      "\u001b[1;31mValueError\u001b[0m                                Traceback (most recent call last)",
      "\u001b[1;32m<ipython-input-63-2e722a60fc8e>\u001b[0m in \u001b[0;36m<module>\u001b[1;34m\u001b[0m\n\u001b[1;32m----> 1\u001b[1;33m \u001b[0mplt\u001b[0m\u001b[1;33m.\u001b[0m\u001b[0mplot\u001b[0m\u001b[1;33m(\u001b[0m\u001b[0mdw_T\u001b[0m\u001b[1;33m,\u001b[0m \u001b[1;33m(\u001b[0m\u001b[0mdw_W\u001b[0m\u001b[1;33m*\u001b[0m\u001b[0mdw_X\u001b[0m\u001b[1;33m.\u001b[0m\u001b[0mI\u001b[0m\u001b[1;33m)\u001b[0m\u001b[1;33m.\u001b[0m\u001b[0mT\u001b[0m\u001b[1;33m,\u001b[0m \u001b[1;34m'o'\u001b[0m\u001b[1;33m,\u001b[0m \u001b[0mcolor\u001b[0m\u001b[1;33m=\u001b[0m\u001b[1;34m'black'\u001b[0m\u001b[1;33m)\u001b[0m\u001b[1;33m;\u001b[0m\u001b[1;33m\u001b[0m\u001b[0m\n\u001b[0m",
      "\u001b[1;32mc:\\users\\user\\appdata\\local\\programs\\python\\python35\\lib\\site-packages\\numpy\\matrixlib\\defmatrix.py\u001b[0m in \u001b[0;36m__mul__\u001b[1;34m(self, other)\u001b[0m\n\u001b[0;32m    307\u001b[0m         \u001b[1;32mif\u001b[0m \u001b[0misinstance\u001b[0m\u001b[1;33m(\u001b[0m\u001b[0mother\u001b[0m\u001b[1;33m,\u001b[0m \u001b[1;33m(\u001b[0m\u001b[0mN\u001b[0m\u001b[1;33m.\u001b[0m\u001b[0mndarray\u001b[0m\u001b[1;33m,\u001b[0m \u001b[0mlist\u001b[0m\u001b[1;33m,\u001b[0m \u001b[0mtuple\u001b[0m\u001b[1;33m)\u001b[0m\u001b[1;33m)\u001b[0m \u001b[1;33m:\u001b[0m\u001b[1;33m\u001b[0m\u001b[0m\n\u001b[0;32m    308\u001b[0m             \u001b[1;31m# This promotes 1-D vectors to row vectors\u001b[0m\u001b[1;33m\u001b[0m\u001b[1;33m\u001b[0m\u001b[0m\n\u001b[1;32m--> 309\u001b[1;33m             \u001b[1;32mreturn\u001b[0m \u001b[0mN\u001b[0m\u001b[1;33m.\u001b[0m\u001b[0mdot\u001b[0m\u001b[1;33m(\u001b[0m\u001b[0mself\u001b[0m\u001b[1;33m,\u001b[0m \u001b[0masmatrix\u001b[0m\u001b[1;33m(\u001b[0m\u001b[0mother\u001b[0m\u001b[1;33m)\u001b[0m\u001b[1;33m)\u001b[0m\u001b[1;33m\u001b[0m\u001b[0m\n\u001b[0m\u001b[0;32m    310\u001b[0m         \u001b[1;32mif\u001b[0m \u001b[0misscalar\u001b[0m\u001b[1;33m(\u001b[0m\u001b[0mother\u001b[0m\u001b[1;33m)\u001b[0m \u001b[1;32mor\u001b[0m \u001b[1;32mnot\u001b[0m \u001b[0mhasattr\u001b[0m\u001b[1;33m(\u001b[0m\u001b[0mother\u001b[0m\u001b[1;33m,\u001b[0m \u001b[1;34m'__rmul__'\u001b[0m\u001b[1;33m)\u001b[0m \u001b[1;33m:\u001b[0m\u001b[1;33m\u001b[0m\u001b[0m\n\u001b[0;32m    311\u001b[0m             \u001b[1;32mreturn\u001b[0m \u001b[0mN\u001b[0m\u001b[1;33m.\u001b[0m\u001b[0mdot\u001b[0m\u001b[1;33m(\u001b[0m\u001b[0mself\u001b[0m\u001b[1;33m,\u001b[0m \u001b[0mother\u001b[0m\u001b[1;33m)\u001b[0m\u001b[1;33m\u001b[0m\u001b[0m\n",
      "\u001b[1;31mValueError\u001b[0m: shapes (7,4) and (7,50) not aligned: 4 (dim 1) != 7 (dim 0)"
     ]
    }
   ],
   "source": [
    "plt.plot(dw_T, (dw_W*dw_X.I).T, 'o', color='black');"
   ]
  },
  {
   "cell_type": "code",
   "execution_count": 34,
   "metadata": {},
   "outputs": [
    {
     "data": {
      "text/plain": [
       "((50, 4), (50, 4))"
      ]
     },
     "execution_count": 34,
     "metadata": {},
     "output_type": "execute_result"
    }
   ],
   "source": [
    "dw_XTIP.shape, dw_T.shape"
   ]
  },
  {
   "cell_type": "code",
   "execution_count": 45,
   "metadata": {},
   "outputs": [
    {
     "data": {
      "image/png": "[encoded data removed]",
      "text/plain": [
       "<Figure size 432x288 with 1 Axes>"
      ]
     },
     "metadata": {
      "needs_background": "light"
     },
     "output_type": "display_data"
    }
   ],
   "source": [
    "plt.plot(dw_T[:,0], dw_XTIW[:,0], 'o', color='black');"
   ]
  },
  {
   "cell_type": "code",
   "execution_count": 43,
   "metadata": {},
   "outputs": [
    {
     "data": {
      "text/plain": [
       "matrix([[  1.48479778e-01,   5.15223331e-01,   1.93618416e-02,\n",
       "           3.57016276e+00],\n",
       "        [  1.88620523e-01,   8.76202369e-01,   4.56791377e-02,\n",
       "           6.07713448e+00],\n",
       "        [ -1.29558453e-01,  -7.45749428e-01,  -4.62571854e-02,\n",
       "          -5.17934852e+00],\n",
       "        [ -7.05405199e-02,   1.78398034e-01,   3.52469909e-02,\n",
       "           1.24951179e+00],\n",
       "        [  2.36894423e-01,   1.11409258e-01,  -4.90985511e-02,\n",
       "           7.52139549e-01],\n",
       "        [ -9.74298093e-02,  -4.89820709e-01,  -2.72376628e-02,\n",
       "          -3.39960638e+00],\n",
       "        [ -5.61075265e-03,   4.27380423e-01,   4.62121410e-02,\n",
       "           2.97612700e+00],\n",
       "        [ -2.82052917e-02,   2.74384641e-01,   3.39077210e-02,\n",
       "           1.91486756e+00],\n",
       "        [ -1.40988853e-01,  -4.56007423e-01,  -1.31820904e-02,\n",
       "          -3.16029564e+00],\n",
       "        [ -1.13781312e-01,  -2.70634577e-01,   1.31301498e-03,\n",
       "          -1.87362591e+00],\n",
       "        [ -1.83261308e-02,   5.19892563e-01,   5.76795771e-02,\n",
       "           3.62164712e+00],\n",
       "        [ -8.98366511e-02,   3.74747237e-01,   5.93869557e-02,\n",
       "           2.61942811e+00],\n",
       "        [ -1.45871424e-01,   9.91742873e-02,   4.48171175e-02,\n",
       "           7.07400096e-01],\n",
       "        [ -9.13537536e-02,  -7.86708866e-01,  -5.78518563e-02,\n",
       "          -5.46832935e+00],\n",
       "        [  2.47829606e-01,   2.03747228e-01,  -3.71282904e-02,\n",
       "           1.39261768e+00],\n",
       "        [ -5.65319170e-02,  -3.38019338e-01,  -2.14243639e-02,\n",
       "          -2.34678950e+00],\n",
       "        [ -1.39809864e-01,  -7.02348301e-01,  -3.81350040e-02,\n",
       "          -4.87380573e+00],\n",
       "        [ -1.40620481e-01,  -6.12995223e-01,  -2.97487393e-02,\n",
       "          -4.25281017e+00],\n",
       "        [ -1.27025380e-01,  -6.47539570e-01,  -3.55931212e-02,\n",
       "          -4.49530858e+00],\n",
       "        [ -1.37013252e-01,  -1.96394272e-01,   1.14486925e-02,\n",
       "          -1.35194046e+00],\n",
       "        [ -5.87190389e-02,  -4.05010378e-01,  -2.80917861e-02,\n",
       "          -2.81529386e+00],\n",
       "        [ -1.42202663e-01,  -3.68417434e-01,  -3.30458594e-03,\n",
       "          -2.54998819e+00],\n",
       "        [ -1.08186000e-01,  -1.78360673e-01,   7.28940567e-03,\n",
       "          -1.23114590e+00],\n",
       "        [  6.70929398e-02,   2.08227823e-01,   4.05323635e-03,\n",
       "           1.44227700e+00],\n",
       "        [  5.15888095e-02,  -5.81601784e-02,  -1.74949269e-02,\n",
       "          -4.11716451e-01],\n",
       "        [  6.36539845e-02,  -2.43076043e-02,  -1.79188603e-02,\n",
       "          -1.77192202e-01],\n",
       "        [  7.72885993e-02,   3.88167076e-01,   2.06416351e-02,\n",
       "           2.69317227e+00],\n",
       "        [  1.06174504e-01,  -1.15279655e-01,  -3.65235706e-02,\n",
       "          -8.16735775e-01],\n",
       "        [  1.53428440e-02,  -4.48258223e-01,  -4.88891697e-02,\n",
       "          -3.12291463e+00],\n",
       "        [  5.27153571e-02,  -3.17863557e-01,  -4.59835992e-02,\n",
       "          -2.21911437e+00],\n",
       "        [  3.37032822e-02,   1.62707703e-01,   8.74182469e-03,\n",
       "           1.12952305e+00],\n",
       "        [  2.49653502e-02,   2.53163332e-01,   1.95532137e-02,\n",
       "           1.76106164e+00],\n",
       "        [ -1.75358516e-04,  -6.10504139e-03,  -2.17334032e-03,\n",
       "          -4.06528907e-02],\n",
       "        [  3.71516469e-02,   2.18777310e-01,   1.37273952e-02,\n",
       "           1.51910075e+00],\n",
       "        [  3.41870529e-02,  -9.05051043e-02,  -1.67884102e-02,\n",
       "          -6.33629149e-01],\n",
       "        [  5.31481623e-02,  -1.21990277e-01,  -2.65135268e-02,\n",
       "          -8.54879661e-01],\n",
       "        [  8.29943776e-03,   3.20957344e-02,   1.90191597e-03,\n",
       "           2.23355492e-01],\n",
       "        [  3.85766021e-02,   1.74096418e-01,   8.76889659e-03,\n",
       "           1.20810979e+00],\n",
       "        [  7.73248352e-02,   1.59248617e-02,  -1.74511606e-02,\n",
       "           1.01603314e-01],\n",
       "        [  1.15031220e-02,   2.48640584e-01,   2.32312026e-02,\n",
       "           1.73092932e+00],\n",
       "        [  1.39744466e-02,   1.08574668e-01,   6.74654101e-03,\n",
       "           7.55696608e-01],\n",
       "        [  5.31928734e-02,   5.93824122e-01,   4.85828007e-02,\n",
       "           4.12895742e+00],\n",
       "        [  7.93272150e-02,  -9.03612429e-02,  -2.78140622e-02,\n",
       "          -6.39142046e-01],\n",
       "        [  2.27476287e-02,   1.19318182e-01,   8.38691880e-03,\n",
       "           8.28435495e-01],\n",
       "        [  4.60610138e-03,   3.15608439e-01,   3.23521896e-02,\n",
       "           2.19804844e+00],\n",
       "        [  1.10517174e-02,   7.89248552e-01,   7.87495704e-02,\n",
       "           5.49545133e+00],\n",
       "        [  2.58156071e-02,   1.43540913e-01,   8.71196063e-03,\n",
       "           9.97118396e-01],\n",
       "        [  7.21523752e-03,  -2.78340893e-01,  -2.91701011e-02,\n",
       "          -1.93803822e+00],\n",
       "        [  5.77192887e-02,   3.51979464e-01,   2.22591842e-02,\n",
       "           2.44398449e+00],\n",
       "        [ -8.35341777e-03,   4.75732296e-02,   5.30061605e-03,\n",
       "           3.34229063e-01]])"
      ]
     },
     "execution_count": 43,
     "metadata": {},
     "output_type": "execute_result"
    }
   ],
   "source": [
    "dw_XTIW = dw_X.T.I*dw_W\n",
    "dw_XTIW"
   ]
  },
  {
   "cell_type": "code",
   "execution_count": null,
   "metadata": {},
   "outputs": [],
   "source": []
  }
 ],
 "metadata": {
  "kernelspec": {
   "display_name": "Python 3",
   "language": "python",
   "name": "python3"
  },
  "language_info": {
   "codemirror_mode": {
    "name": "ipython",
    "version": 3
   },
   "file_extension": ".py",
   "mimetype": "text/x-python",
   "name": "python",
   "nbconvert_exporter": "python",
   "pygments_lexer": "ipython3",
   "version": "3.7.1"
  }
 },
 "nbformat": 4,
 "nbformat_minor": 2
}
