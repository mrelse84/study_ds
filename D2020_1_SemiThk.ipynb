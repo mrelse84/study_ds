{
 "cells": [
  {
   "cell_type": "markdown",
   "metadata": {},
   "source": [
    "# Dacon 2020년 Stage 1 - 반도체 박막 두께 분석"
   ]
  },
  {
   "cell_type": "code",
   "execution_count": 2,
   "metadata": {},
   "outputs": [],
   "source": [
    "#데이터를 불러옵니다.\n",
    "\n",
    "import pandas as pd\n",
    "import warnings\n",
    "warnings.filterwarnings('ignore')\n",
    "train = pd.read_csv('D:/sglee/data/dacon/stage1/train.csv')\n",
    "test = pd.read_csv('D:/sglee/data/dacon/stage1/test.csv')"
   ]
  },
  {
   "cell_type": "code",
   "execution_count": 3,
   "metadata": {},
   "outputs": [],
   "source": [
    "#독립변수와 종속변수를 분리합니다.\n",
    "train_X = train.iloc[:,4:]\n",
    "train_Y = train.iloc[:,0:4]\n",
    "test_X = test.iloc[:,1:]"
   ]
  },
  {
   "cell_type": "markdown",
   "metadata": {},
   "source": [
    "#케라스를 통해 모델 생성을 시작합니다.\n",
    "import keras\n",
    "from keras.models import Sequential\n",
    "from keras.layers import Dense\n",
    "model = Sequential()\n",
    "model.add(Dense(units=160, activation='relu', input_dim=226))\n",
    "model.add(Dense(units=160, activation='relu'))\n",
    "model.add(Dense(units=160, activation='relu'))\n",
    "model.add(Dense(units=4, activation='linear'))"
   ]
  },
  {
   "cell_type": "code",
   "execution_count": 6,
   "metadata": {},
   "outputs": [],
   "source": [
    "#케라스를 통해 모델 생성을 시작합니다.\n",
    "import tensorflow as tf\n",
    "model = tf.keras.Sequential()\n",
    "model.add(tf.keras.layers.Dense(units=160, activation='relu', input_dim=226))\n",
    "model.add(tf.keras.layers.Dense(units=160, activation='relu'))\n",
    "model.add(tf.keras.layers.Dense(units=160, activation='relu'))\n",
    "model.add(tf.keras.layers.Dense(units=4, activation='linear'))"
   ]
  },
  {
   "cell_type": "code",
   "execution_count": 7,
   "metadata": {},
   "outputs": [],
   "source": [
    "#모델을 컴파일합니다.\n",
    "model.compile(loss='mae', optimizer='adam', metrics=['mae'])"
   ]
  },
  {
   "cell_type": "code",
   "execution_count": 8,
   "metadata": {},
   "outputs": [
    {
     "name": "stdout",
     "output_type": "stream",
     "text": [
      "Train on 769500 samples, validate on 40500 samples\n",
      "Epoch 1/20\n",
      "769500/769500 [==============================] - 5s 6us/sample - loss: 95.2338 - mae: 95.2338 - val_loss: 94.5194 - val_mae: 94.5194\n",
      "Epoch 2/20\n",
      "769500/769500 [==============================] - 4s 5us/sample - loss: 74.6239 - mae: 74.6239 - val_loss: 93.6423 - val_mae: 93.6423\n",
      "Epoch 3/20\n",
      "769500/769500 [==============================] - 4s 5us/sample - loss: 73.4790 - mae: 73.4790 - val_loss: 92.4770 - val_mae: 92.4770\n",
      "Epoch 4/20\n",
      "769500/769500 [==============================] - 4s 5us/sample - loss: 71.0900 - mae: 71.0900 - val_loss: 91.5979 - val_mae: 91.5979\n",
      "Epoch 5/20\n",
      "769500/769500 [==============================] - 4s 5us/sample - loss: 67.3230 - mae: 67.3230 - val_loss: 89.9920 - val_mae: 89.9920\n",
      "Epoch 6/20\n",
      "769500/769500 [==============================] - 4s 6us/sample - loss: 64.5043 - mae: 64.5043 - val_loss: 88.2832 - val_mae: 88.2832\n",
      "Epoch 7/20\n",
      "769500/769500 [==============================] - 4s 5us/sample - loss: 63.1032 - mae: 63.1032 - val_loss: 85.4164 - val_mae: 85.4164\n",
      "Epoch 8/20\n",
      "769500/769500 [==============================] - 4s 6us/sample - loss: 61.9486 - mae: 61.9486 - val_loss: 81.8453 - val_mae: 81.8453\n",
      "Epoch 9/20\n",
      "769500/769500 [==============================] - 4s 6us/sample - loss: 60.7261 - mae: 60.7261 - val_loss: 79.2338 - val_mae: 79.2338\n",
      "Epoch 10/20\n",
      "769500/769500 [==============================] - 4s 6us/sample - loss: 59.5045 - mae: 59.5045 - val_loss: 77.1648 - val_mae: 77.1648\n",
      "Epoch 11/20\n",
      "769500/769500 [==============================] - 4s 5us/sample - loss: 58.2131 - mae: 58.2131 - val_loss: 75.5573 - val_mae: 75.5573\n",
      "Epoch 12/20\n",
      "769500/769500 [==============================] - 4s 6us/sample - loss: 57.1041 - mae: 57.1042 - val_loss: 74.2322 - val_mae: 74.2322\n",
      "Epoch 13/20\n",
      "769500/769500 [==============================] - 4s 5us/sample - loss: 56.2703 - mae: 56.2703 - val_loss: 74.9388 - val_mae: 74.9388\n",
      "Epoch 14/20\n",
      "769500/769500 [==============================] - 4s 5us/sample - loss: 55.5516 - mae: 55.5516 - val_loss: 74.1928 - val_mae: 74.1928\n",
      "Epoch 15/20\n",
      "769500/769500 [==============================] - 4s 5us/sample - loss: 54.9228 - mae: 54.9228 - val_loss: 73.0684 - val_mae: 73.0684\n",
      "Epoch 16/20\n",
      "769500/769500 [==============================] - 4s 5us/sample - loss: 54.3281 - mae: 54.3281 - val_loss: 73.0668 - val_mae: 73.0668\n",
      "Epoch 17/20\n",
      "769500/769500 [==============================] - 4s 5us/sample - loss: 53.7249 - mae: 53.7249 - val_loss: 72.0272 - val_mae: 72.0272\n",
      "Epoch 18/20\n",
      "769500/769500 [==============================] - 4s 5us/sample - loss: 53.1515 - mae: 53.1515 - val_loss: 69.4886 - val_mae: 69.4886\n",
      "Epoch 19/20\n",
      "769500/769500 [==============================] - 4s 5us/sample - loss: 52.5783 - mae: 52.5783 - val_loss: 70.5767 - val_mae: 70.5767\n",
      "Epoch 20/20\n",
      "769500/769500 [==============================] - 4s 5us/sample - loss: 52.0396 - mae: 52.0396 - val_loss: 68.4690 - val_mae: 68.4690\n"
     ]
    },
    {
     "data": {
      "text/plain": [
       "<tensorflow.python.keras.callbacks.History at 0x2959a13f470>"
      ]
     },
     "execution_count": 8,
     "metadata": {},
     "output_type": "execute_result"
    }
   ],
   "source": [
    "#모델을 학습합니다.\n",
    "model.fit(train_X, train_Y, epochs=20, batch_size=10000, validation_split = 0.05)"
   ]
  },
  {
   "cell_type": "code",
   "execution_count": null,
   "metadata": {},
   "outputs": [],
   "source": [
    "#예측값을 생성합니다.\n",
    "pred_test = model.predict(test_X)"
   ]
  },
  {
   "cell_type": "code",
   "execution_count": null,
   "metadata": {},
   "outputs": [],
   "source": [
    "#submission 파일을 생성합니다.\n",
    "sample_sub = pd.read_csv('sample_submission.csv', index_col=0)\n",
    "submission = sample_sub+pred_test\n",
    "submission.to_csv('submission.csv')"
   ]
  }
 ],
 "metadata": {
  "kernelspec": {
   "display_name": "Python 3",
   "language": "python",
   "name": "python3"
  },
  "language_info": {
   "codemirror_mode": {
    "name": "ipython",
    "version": 3
   },
   "file_extension": ".py",
   "mimetype": "text/x-python",
   "name": "python",
   "nbconvert_exporter": "python",
   "pygments_lexer": "ipython3",
   "version": "3.7.1"
  }
 },
 "nbformat": 4,
 "nbformat_minor": 2
}
