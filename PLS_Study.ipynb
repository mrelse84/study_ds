{
 "cells": [
  {
   "cell_type": "markdown",
   "metadata": {},
   "source": [
    "# PLS Study (2019.10.29(화))"
   ]
  },
  {
   "cell_type": "code",
   "execution_count": 1,
   "metadata": {},
   "outputs": [],
   "source": [
    "import numpy as np\n",
    "import pandas as pd\n",
    "import matplotlib.pyplot as plt"
   ]
  },
  {
   "cell_type": "markdown",
   "metadata": {},
   "source": [
    "## 함수 정의 : PLS1"
   ]
  },
  {
   "cell_type": "code",
   "execution_count": 2,
   "metadata": {},
   "outputs": [],
   "source": [
    "def PLS1(X, y, l):\n",
    "    Xdeflate = X\n",
    "    w = Xdeflate.T*y / np.linalg.norm(Xdeflate.T*y)\n",
    "    for k in range(l):\n",
    "        t = Xdeflate * w\n",
    "        tscale = t.T * t\n",
    "        t = t / tscale\n",
    "        p = Xdeflate.T * t\n",
    "        q = y.T * t\n",
    "        if q[0,0] == 0:\n",
    "            l = k\n",
    "            print('break')\n",
    "            break\n",
    "        if k <= l - 1:\n",
    "            Xdeflate = Xdeflate - tscale[0,0] * t * p.T\n",
    "            w = Xdeflate.T * y\n",
    "            if k == 0:\n",
    "                W = w\n",
    "                P = p\n",
    "                Q = np.mat(q[0,0])\n",
    "                T = t\n",
    "            else:\n",
    "                W = np.c_[W, w]\n",
    "                P = np.c_[P, p]\n",
    "                Q = np.c_[Q, q]\n",
    "                T = np.c_[T, t]\n",
    "    print('W = \\n', W)\n",
    "    print('P = \\n', P)\n",
    "    print('Q = \\n', Q)\n",
    "    print('T = \\n', T)\n",
    "    B = W * (P.T*W).I*Q.T\n",
    "    B0 = Q[0,0] - P[:,0].T * B\n",
    "    print('B = \\n', B)\n",
    "    print('B0 = \\n', B0)\n",
    "    return B, B0, W, P, Q, T"
   ]
  },
  {
   "cell_type": "markdown",
   "metadata": {},
   "source": [
    "## 결과 표시"
   ]
  },
  {
   "cell_type": "code",
   "execution_count": 3,
   "metadata": {},
   "outputs": [],
   "source": [
    "def EvalPLS(X,y,l):\n",
    "    B, B0, W, P, Q, T = PLS1(X,y, l)\n",
    "    y_hat = X*B+B0\n",
    "    fig, axes = plt.subplots(1,2)\n",
    "    fig.set_size_inches(16,6)\n",
    "    axes[0].plot(y, y_hat, 'o')\n",
    "    Y = np.c_[y, y_hat]\n",
    "    df_Y = pd.DataFrame(Y)\n",
    "    print(df_Y.corr())\n",
    "    y_block = T*Q.T\n",
    "    F = y - y_block\n",
    "    axes[1].plot(y, y_block, 'o')\n",
    "    print('F mean = ', np.mean(F))\n",
    "    return B, B0, W, P, Q, T"
   ]
  },
  {
   "cell_type": "markdown",
   "metadata": {},
   "source": [
    "## NIPALS"
   ]
  },
  {
   "cell_type": "code",
   "execution_count": 16,
   "metadata": {},
   "outputs": [],
   "source": [
    "def NIPALS(X,y,l):\n",
    "    Xdeflate = X\n",
    "    Ydeflate = y\n",
    "    for k in range(l):\n",
    "        w = Xdeflate.T*Ydeflate / np.linalg.norm(Xdeflate.T*Ydeflate)\n",
    "        t = Xdeflate*w\n",
    "        p = ((t.T*t).I*(t.T*Xdeflate)).T\n",
    "        b = (t.T*t).I*(t.T*Ydeflate)\n",
    "        Xdeflate = Xdeflate - t*p.T\n",
    "        Ydeflate = Ydeflate - t*b\n",
    "        if k == 0:\n",
    "            W = w\n",
    "            P = p\n",
    "            B = np.mat(b[0,0])\n",
    "            T = t\n",
    "        else:\n",
    "            W = np.c_[W, w]\n",
    "            P = np.c_[P, p]\n",
    "            B = np.c_[B, b]\n",
    "            T = np.c_[T, t]\n",
    "\n",
    "    print('W = \\n', W)\n",
    "    print('P = \\n', P)\n",
    "    print('B = \\n', B)\n",
    "    print('T = \\n', T)\n",
    "    y_hat = T*B.T\n",
    "    fig, axes = plt.subplots(1,2)\n",
    "    fig.set_size_inches(16,6)\n",
    "    axes[0].plot(y, y_hat, 'o')\n",
    "    Y = np.c_[y, y_hat]\n",
    "    df_Y = pd.DataFrame(Y)\n",
    "    print(df_Y.corr())\n",
    "    return W, P, B, T"
   ]
  },
  {
   "cell_type": "markdown",
   "metadata": {},
   "source": [
    "## 1. 예제 데이터"
   ]
  },
  {
   "cell_type": "code",
   "execution_count": 4,
   "metadata": {},
   "outputs": [
    {
     "data": {
      "text/plain": [
       "matrix([[-1.193 , -1.03  ,  1.5012],\n",
       "        [-0.037 , -0.7647,  0.354 ],\n",
       "        [-0.5919, -0.3257, -0.091 ],\n",
       "        [ 0.3792,  1.0739, -0.714 ],\n",
       "        [ 1.4427,  1.0464, -1.0502]])"
      ]
     },
     "execution_count": 4,
     "metadata": {},
     "output_type": "execute_result"
    }
   ],
   "source": [
    "ex_X = np.mat([[-1.193,\t1.5012,\t-1.03], [-0.037,\t0.354,\t-0.7647], [-0.5919,\t-0.091,\t-0.3257], [0.3792,\t-0.714,\t1.0739], [1.4427,\t-1.0502,\t1.0464]])\n",
    "ex_X = ex_X[:,[0,2,1]]\n",
    "ex_X # 5x3"
   ]
  },
  {
   "cell_type": "code",
   "execution_count": 5,
   "metadata": {},
   "outputs": [
    {
     "data": {
      "text/plain": [
       "matrix([[-1.1841],\n",
       "        [-0.2161],\n",
       "        [-0.5457],\n",
       "        [ 0.5485],\n",
       "        [ 1.3973]])"
      ]
     },
     "execution_count": 5,
     "metadata": {},
     "output_type": "execute_result"
    }
   ],
   "source": [
    "ex_y = np.mat([[-1.1841], [-0.2161], [-0.5457], [0.5485], [1.3973]])\n",
    "ex_y # 5x1"
   ]
  },
  {
   "cell_type": "code",
   "execution_count": 6,
   "metadata": {},
   "outputs": [
    {
     "name": "stdout",
     "output_type": "stream",
     "text": [
      "W = \n",
      " [[  2.45079377e-01  -1.07276611e-03  -7.30533472e-17]\n",
      " [ -1.27149437e-01   3.88835269e-02  -4.84785823e-17]\n",
      " [  1.39993270e-01   3.71941553e-02   7.58157426e-17]]\n",
      "P = \n",
      " [[  0.57287314   2.56866036  -0.3703683 ]\n",
      " [  0.57572088  -1.7325963   13.4243855 ]\n",
      " [ -0.58534733   1.07273497  12.84113655]]\n",
      "Q = \n",
      " [[ 0.59006555  1.63785752  2.99408552]]\n",
      "T = \n",
      " [[ -0.19502798   0.29173073  18.17399067]\n",
      " [ -0.05879648   2.19064796 -13.08012182]\n",
      " [ -0.04460955  -2.11308683 -19.79628808]\n",
      " [  0.11181812  -2.14339169  11.37386224]\n",
      " [  0.18661084   1.77430313   3.32490926]]\n",
      "B = \n",
      " [[ 0.79622434]\n",
      " [ 0.23900393]\n",
      " [ 0.00626899]]\n",
      "B0 = \n",
      " [[ -1.11022302e-16]]\n",
      "          0         1\n",
      "0  1.000000  0.999985\n",
      "1  0.999985  1.000000\n",
      "F mean =  0.00209832804756\n"
     ]
    },
    {
     "data": {
      "image/png": "[encoded data removed]",
      "text/plain": [
       "<Figure size 1152x432 with 2 Axes>"
      ]
     },
     "metadata": {
      "needs_background": "light"
     },
     "output_type": "display_data"
    }
   ],
   "source": [
    "B, B0, W, P, Q, T = EvalPLS(ex_X,ex_y, 3)"
   ]
  },
  {
   "cell_type": "code",
   "execution_count": 7,
   "metadata": {},
   "outputs": [
    {
     "name": "stdout",
     "output_type": "stream",
     "text": [
      "W = \n",
      " [[  1.54042221e-01  -1.74321668e-16]\n",
      " [ -1.69120220e-01  -1.53607682e-16]]\n",
      "P = \n",
      " [[ 0.71059062  2.94363261]\n",
      " [ 0.70489572 -3.23176198]]\n",
      "Q = \n",
      " [[ 0.7299359   1.57584675]]\n",
      "T = \n",
      " [[-0.21429915 -0.75108815]\n",
      " [-0.07375917  3.56356494]\n",
      " [-0.08934909 -1.2798366 ]\n",
      " [ 0.13648852 -3.41545355]\n",
      " [ 0.24090973  1.88330287]]\n",
      "B = \n",
      " [[ 0.79374475]\n",
      " [ 0.23536578]]\n",
      "B0 = \n",
      " [[  1.11022302e-16]]\n",
      "          0         1\n",
      "0  1.000000  0.999983\n",
      "1  0.999983  1.000000\n",
      "F mean =  -0.000172939254221\n"
     ]
    },
    {
     "data": {
      "image/png": "[encoded data removed]",
      "text/plain": [
       "<Figure size 1152x432 with 2 Axes>"
      ]
     },
     "metadata": {
      "needs_background": "light"
     },
     "output_type": "display_data"
    }
   ],
   "source": [
    "B, B0, W, P, Q, T = EvalPLS(ex_X[:,[0,1]],ex_y, 2)"
   ]
  },
  {
   "cell_type": "code",
   "execution_count": 19,
   "metadata": {
    "scrolled": true
   },
   "outputs": [
    {
     "name": "stdout",
     "output_type": "stream",
     "text": [
      "W = \n",
      " [[ 0.61059034  0.79169572 -0.01993285]\n",
      " [ 0.55615285 -0.41073903  0.72248699]\n",
      " [-0.56380266  0.45222929  0.69109712]]\n",
      "P = \n",
      " [[ 0.57287314  0.79516115 -0.01993285]\n",
      " [ 0.57572088 -0.536347    0.72248699]\n",
      " [-0.58534733  0.33207861  0.69109712]]\n",
      "B = \n",
      " [[ 0.59006555  0.50701941  0.16113869]]\n",
      "T = \n",
      " [[-2.14765227  0.05513845  0.32667938]\n",
      " [-0.64746807  0.41404252 -0.23511655]\n",
      " [-0.49124136 -0.39938311 -0.35584034]\n",
      " [ 1.2313435  -0.40511087  0.20444636]\n",
      " [ 2.05496258  0.33535143  0.05976559]]\n",
      "          0         1\n",
      "0  1.000000  0.999985\n",
      "1  0.999985  1.000000\n"
     ]
    },
    {
     "data": {
      "image/png": "[encoded data removed]",
      "text/plain": [
       "<Figure size 1152x432 with 2 Axes>"
      ]
     },
     "metadata": {
      "needs_background": "light"
     },
     "output_type": "display_data"
    }
   ],
   "source": [
    "W, P, B, T = NIPALS(ex_X,ex_y, 3)"
   ]
  },
  {
   "cell_type": "code",
   "execution_count": 18,
   "metadata": {
    "scrolled": true
   },
   "outputs": [
    {
     "name": "stdout",
     "output_type": "stream",
     "text": [
      "W = \n",
      " [[ 0.73929446  0.67338229]\n",
      " [ 0.67338229 -0.73929446]]\n",
      "P = \n",
      " [[ 0.71059062  0.67338229]\n",
      " [ 0.70489572 -0.73929446]]\n",
      "B = \n",
      " [[ 0.7299359   0.36048904]]\n",
      "T = \n",
      " [[-1.57556204 -0.10903226]\n",
      " [-0.54228933  0.5173075 ]\n",
      " [-0.656909   -0.18578841]\n",
      " [ 1.0034857  -0.49580681]\n",
      " [ 1.77120734  0.27339104]]\n",
      "          0         1\n",
      "0  1.000000  0.999983\n",
      "1  0.999983  1.000000\n"
     ]
    },
    {
     "data": {
      "image/png": "[encoded data removed]",
      "text/plain": [
       "<Figure size 1152x432 with 2 Axes>"
      ]
     },
     "metadata": {
      "needs_background": "light"
     },
     "output_type": "display_data"
    }
   ],
   "source": [
    "W, P, B, T = NIPALS(ex_X[:,[0,1]],ex_y, 2)"
   ]
  },
  {
   "cell_type": "markdown",
   "metadata": {},
   "source": [
    "## Signe-S 결과"
   ]
  },
  {
   "cell_type": "code",
   "execution_count": 17,
   "metadata": {},
   "outputs": [
    {
     "name": "stdout",
     "output_type": "stream",
     "text": [
      "T =  [[-1.21788456 -0.03252836]\n",
      " [-0.43998221  0.41967164]\n",
      " [-0.50251103 -0.12254588]\n",
      " [ 0.79689548 -0.41826448]\n",
      " [ 1.36348232  0.15366707]]\n"
     ]
    }
   ],
   "source": [
    "s_T = np.mat([[-1.21788456023991,-0.0325283580170382],[-0.439982206094296,0.419671643436694],[-0.502511032773304,-0.122545876853121],[0.796895482183825,-0.418264476213434],[1.36348231692368,0.153667067646899]])\n",
    "print('T = ', s_T)"
   ]
  },
  {
   "cell_type": "code",
   "execution_count": 18,
   "metadata": {},
   "outputs": [
    {
     "name": "stdout",
     "output_type": "stream",
     "text": [
      "P =  [[ 0.69041932  0.30772011]\n",
      " [ 0.72492492 -1.08930667]]\n"
     ]
    }
   ],
   "source": [
    "s_P = np.mat([[0.69041931822398,0.307720114473186],[0.72492492415778,-1.08930667220358]])\n",
    "print('P = ', s_P)"
   ]
  },
  {
   "cell_type": "code",
   "execution_count": 19,
   "metadata": {},
   "outputs": [
    {
     "name": "stdout",
     "output_type": "stream",
     "text": [
      "Q = \n",
      " [[ 0.93901116  0.49801304]]\n"
     ]
    }
   ],
   "source": [
    "s_Q = np.mat([0.939011157015289,0.498013041308944])\n",
    "print('Q = \\n', s_Q) # 1x2"
   ]
  },
  {
   "cell_type": "code",
   "execution_count": 20,
   "metadata": {},
   "outputs": [
    {
     "name": "stdout",
     "output_type": "stream",
     "text": [
      "W = \n",
      " [[ 0.72279598  0.69106148]\n",
      " [ 0.69106148 -0.72279598]]\n"
     ]
    }
   ],
   "source": [
    "s_W = np.mat([[0.722795977563944,0.691061484107877],[0.691061484107878,-0.722795977563944]])\n",
    "print('W = \\n', s_W)"
   ]
  },
  {
   "cell_type": "code",
   "execution_count": 21,
   "metadata": {},
   "outputs": [
    {
     "name": "stdout",
     "output_type": "stream",
     "text": [
      "B = \n",
      " [[ 0.77402206]\n",
      " [ 0.22951749]]\n"
     ]
    }
   ],
   "source": [
    "s_B = np.mat([[0.774022057113114],[0.229517488097672]])\n",
    "print('B = \\n', s_B)"
   ]
  },
  {
   "cell_type": "code",
   "execution_count": 22,
   "metadata": {},
   "outputs": [
    {
     "name": "stdout",
     "output_type": "stream",
     "text": [
      "B0 = \n",
      " [[ -1.54096502e-05]]\n"
     ]
    }
   ],
   "source": [
    "s_B0 = np.mat(-1.5409650238027E-05)\n",
    "print('B0 = \\n', s_B0)"
   ]
  },
  {
   "cell_type": "code",
   "execution_count": 29,
   "metadata": {},
   "outputs": [
    {
     "name": "stdout",
     "output_type": "stream",
     "text": [
      "y_predicted = \n",
      " [[-1.18936423]\n",
      " [-0.20935276]\n",
      " [-0.54647615]\n",
      " [ 0.55374731]\n",
      " [ 1.39142229]]\n"
     ]
    }
   ],
   "source": [
    "y_hat = ex_X[:,[0,1]]*B+B0\n",
    "print('y_predicted = \\n', y_hat)"
   ]
  },
  {
   "cell_type": "code",
   "execution_count": 24,
   "metadata": {},
   "outputs": [
    {
     "data": {
      "text/plain": [
       "matrix([[-1.193 , -1.03  ,  1.5012],\n",
       "        [-0.037 , -0.7647,  0.354 ],\n",
       "        [-0.5919, -0.3257, -0.091 ],\n",
       "        [ 0.3792,  1.0739, -0.714 ],\n",
       "        [ 1.4427,  1.0464, -1.0502]])"
      ]
     },
     "execution_count": 24,
     "metadata": {},
     "output_type": "execute_result"
    }
   ],
   "source": [
    "ex_X"
   ]
  },
  {
   "cell_type": "code",
   "execution_count": 31,
   "metadata": {},
   "outputs": [
    {
     "data": {
      "text/plain": [
       "matrix([[ -2.36320654,   2.27627958],\n",
       "        [ 10.43741337, -11.56858618],\n",
       "        [ -3.83085937,   4.07314546],\n",
       "        [ -9.95685298,  11.1341431 ],\n",
       "        [  5.71493993,  -5.91657037]])"
      ]
     },
     "execution_count": 31,
     "metadata": {},
     "output_type": "execute_result"
    }
   ],
   "source": [
    "T*P.T"
   ]
  },
  {
   "cell_type": "code",
   "execution_count": 32,
   "metadata": {},
   "outputs": [
    {
     "data": {
      "text/plain": [
       "matrix([[-0.85086066, -0.84744152],\n",
       "        [-0.17463081, -0.77610519],\n",
       "        [-0.38465316, -0.23079273],\n",
       "        [ 0.42148364,  1.03330768],\n",
       "        [ 0.98866098,  0.82103175]])"
      ]
     },
     "execution_count": 32,
     "metadata": {},
     "output_type": "execute_result"
    }
   ],
   "source": [
    "s_T*s_P.T"
   ]
  },
  {
   "cell_type": "code",
   "execution_count": 34,
   "metadata": {},
   "outputs": [
    {
     "data": {
      "text/plain": [
       "[<matplotlib.lines.Line2D at 0x1d9182ca748>,\n",
       " <matplotlib.lines.Line2D at 0x1d9182ca8d0>]"
      ]
     },
     "execution_count": 34,
     "metadata": {},
     "output_type": "execute_result"
    },
    {
     "data": {
      "image/png": "[encoded data removed]",
      "text/plain": [
       "<Figure size 432x288 with 1 Axes>"
      ]
     },
     "metadata": {
      "needs_background": "light"
     },
     "output_type": "display_data"
    }
   ],
   "source": [
    "plt.plot(T-s_T)"
   ]
  },
  {
   "cell_type": "code",
   "execution_count": 38,
   "metadata": {},
   "outputs": [
    {
     "data": {
      "text/plain": [
       "[<matplotlib.lines.Line2D at 0x1d9180ba278>,\n",
       " <matplotlib.lines.Line2D at 0x1d9180bae80>]"
      ]
     },
     "execution_count": 38,
     "metadata": {},
     "output_type": "execute_result"
    },
    {
     "data": {
      "image/png": "[encoded data removed]",
      "text/plain": [
       "<Figure size 432x288 with 1 Axes>"
      ]
     },
     "metadata": {
      "needs_background": "light"
     },
     "output_type": "display_data"
    }
   ],
   "source": [
    "plt.plot(W-s_W)"
   ]
  },
  {
   "cell_type": "code",
   "execution_count": null,
   "metadata": {},
   "outputs": [],
   "source": []
  }
 ],
 "metadata": {
  "kernelspec": {
   "display_name": "Python 3",
   "language": "python",
   "name": "python3"
  },
  "language_info": {
   "codemirror_mode": {
    "name": "ipython",
    "version": 3
   },
   "file_extension": ".py",
   "mimetype": "text/x-python",
   "name": "python",
   "nbconvert_exporter": "python",
   "pygments_lexer": "ipython3",
   "version": "3.7.1"
  }
 },
 "nbformat": 4,
 "nbformat_minor": 2
}
