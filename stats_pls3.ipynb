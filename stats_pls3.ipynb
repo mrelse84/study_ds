{
 "cells": [
  {
   "cell_type": "markdown",
   "metadata": {},
   "source": [
    "# PLS 예제"
   ]
  },
  {
   "cell_type": "code",
   "execution_count": 1,
   "metadata": {},
   "outputs": [],
   "source": [
    "import numpy as np"
   ]
  },
  {
   "cell_type": "code",
   "execution_count": 2,
   "metadata": {},
   "outputs": [
    {
     "data": {
      "text/plain": [
       "matrix([[-1.193 ,  1.5012, -1.03  ],\n",
       "        [-0.037 ,  0.354 , -0.7647],\n",
       "        [-0.5919, -0.091 , -0.3257],\n",
       "        [ 0.3792, -0.714 ,  1.0739],\n",
       "        [ 1.4427, -1.0502,  1.0464]])"
      ]
     },
     "execution_count": 2,
     "metadata": {},
     "output_type": "execute_result"
    }
   ],
   "source": [
    "X = np.mat([[-1.193,\t1.5012,\t-1.03], [-0.037,\t0.354,\t-0.7647], [-0.5919,\t-0.091,\t-0.3257], [0.3792,\t-0.714,\t1.0739], [1.4427,\t-1.0502,\t1.0464]])\n",
    "X # 5x3"
   ]
  },
  {
   "cell_type": "code",
   "execution_count": 3,
   "metadata": {},
   "outputs": [
    {
     "data": {
      "text/plain": [
       "matrix([[-1.1841],\n",
       "        [-0.2161],\n",
       "        [-0.5457],\n",
       "        [ 0.5485],\n",
       "        [ 1.3973]])"
      ]
     },
     "execution_count": 3,
     "metadata": {},
     "output_type": "execute_result"
    }
   ],
   "source": [
    "y = np.mat([[-1.1841], [-0.2161], [-0.5457], [0.5485], [1.3973]])\n",
    "y # 5x1"
   ]
  },
  {
   "cell_type": "code",
   "execution_count": 4,
   "metadata": {},
   "outputs": [
    {
     "data": {
      "text/plain": [
       "matrix([[ 0.61357714,  0.78917981,  0.00552615],\n",
       "        [-0.52856319,  0.38526164,  0.1559682 ],\n",
       "        [ 0.58663792, -0.4782977 ,  0.13474807]])"
      ]
     },
     "execution_count": 4,
     "metadata": {},
     "output_type": "execute_result"
    }
   ],
   "source": [
    "W = np.mat([[0.613577138,\t0.789179813,\t0.005526153], [-0.528563193,\t0.38526164,\t0.155968198], [0.586637918,\t-0.478297702,\t0.134748071]])\n",
    "W # 3x3"
   ]
  },
  {
   "cell_type": "code",
   "execution_count": 5,
   "metadata": {},
   "outputs": [
    {
     "data": {
      "text/plain": [
       "matrix([[ 0.57546721,  0.29601323, -1.15469533],\n",
       "        [-0.54716769,  0.67927821,  3.04150567],\n",
       "        [ 0.60973518, -1.05518486,  3.94812973]])"
      ]
     },
     "execution_count": 5,
     "metadata": {},
     "output_type": "execute_result"
    }
   ],
   "source": [
    "P = np.mat([[0.575467211,\t0.296013231,\t-1.154695331], [-0.547167689,\t0.679278215,\t3.041505672], [0.609735177,\t-1.055184862,\t3.948129733]])\n",
    "P # 3x3"
   ]
  },
  {
   "cell_type": "code",
   "execution_count": 6,
   "metadata": {},
   "outputs": [
    {
     "data": {
      "text/plain": [
       "matrix([[ 0.78412099,  0.62449431,  1.0165944 ]])"
      ]
     },
     "execution_count": 6,
     "metadata": {},
     "output_type": "execute_result"
    }
   ],
   "source": [
    "q = np.mat([0.784120985,\t0.62449431,\t1.016594405])\n",
    "q # 1x3"
   ]
  },
  {
   "cell_type": "code",
   "execution_count": 7,
   "metadata": {},
   "outputs": [
    {
     "data": {
      "text/plain": [
       "matrix([[-1.59402304,  0.08716292,  0.05006507],\n",
       "        [-0.50559226,  0.36469956, -0.04302134],\n",
       "        [-0.39262221, -0.25449267, -0.04735302],\n",
       "        [ 0.94290668, -0.37574148,  0.03791186],\n",
       "        [ 1.54933082,  0.17837167,  0.00239743]])"
      ]
     },
     "execution_count": 7,
     "metadata": {},
     "output_type": "execute_result"
    }
   ],
   "source": [
    "T = np.mat([[-1.594023043,\t0.087162916,\t0.050065067], [-0.505592256,\t0.364699564,\t-0.043021342], [-0.392622207,\t-0.254492672,\t-0.04735302], [0.942906681,\t-0.375741479,\t0.037911861], [1.549330825,\t0.17837167,\t0.002397434]])\n",
    "T # 5x3"
   ]
  },
  {
   "cell_type": "code",
   "execution_count": 8,
   "metadata": {},
   "outputs": [
    {
     "data": {
      "text/plain": [
       "matrix([[ 0.74125913],\n",
       "        [-0.01080648],\n",
       "        [ 0.23693031]])"
      ]
     },
     "execution_count": 8,
     "metadata": {},
     "output_type": "execute_result"
    }
   ],
   "source": [
    "b = np.mat([[0.74125913], [-0.010806479], [0.23693031]])\n",
    "b # 1x3"
   ]
  },
  {
   "cell_type": "code",
   "execution_count": 9,
   "metadata": {},
   "outputs": [
    {
     "data": {
      "text/plain": [
       "matrix([[-2.12971365,  0.12950989,  0.08875625],\n",
       "        [-0.65841574,  0.47293722, -0.04803358],\n",
       "        [-0.50614503, -0.34639278, -0.06135148],\n",
       "        [ 1.24005303, -0.48946373,  0.03544018],\n",
       "        [ 2.05416272,  0.23345723, -0.01482484]])"
      ]
     },
     "execution_count": 9,
     "metadata": {},
     "output_type": "execute_result"
    }
   ],
   "source": [
    "XW = X*W\n",
    "XW"
   ]
  },
  {
   "cell_type": "code",
   "execution_count": 10,
   "metadata": {},
   "outputs": [],
   "source": [
    "import matplotlib.pyplot as plt"
   ]
  },
  {
   "cell_type": "code",
   "execution_count": 11,
   "metadata": {},
   "outputs": [
    {
     "data": {
      "image/png": "[encoded data removed]",
      "text/plain": [
       "<Figure size 432x288 with 1 Axes>"
      ]
     },
     "metadata": {
      "needs_background": "light"
     },
     "output_type": "display_data"
    }
   ],
   "source": [
    "plt.plot(T, XW, 'o', color='black');"
   ]
  },
  {
   "cell_type": "code",
   "execution_count": 16,
   "metadata": {},
   "outputs": [
    {
     "data": {
      "text/plain": [
       "matrix([[-1.97913347,  0.18906991,  0.09529854],\n",
       "        [-0.33908439,  0.40095547, -0.03415951],\n",
       "        [-0.92028369, -0.51999644, -0.07934466],\n",
       "        [ 0.91285667, -0.41083086,  0.0212244 ],\n",
       "        [ 2.3256065 ,  0.34082739, -0.00303136]])"
      ]
     },
     "execution_count": 16,
     "metadata": {},
     "output_type": "execute_result"
    }
   ],
   "source": [
    "WW = W*((P.T*W).I)\n",
    "XWW = X*WW\n",
    "XWW"
   ]
  },
  {
   "cell_type": "code",
   "execution_count": 17,
   "metadata": {},
   "outputs": [
    {
     "data": {
      "image/png": "[encoded data removed]",
      "text/plain": [
       "<Figure size 432x288 with 1 Axes>"
      ]
     },
     "metadata": {
      "needs_background": "light"
     },
     "output_type": "display_data"
    }
   ],
   "source": [
    "plt.plot(T, XWW, 'o', color='black');"
   ]
  },
  {
   "cell_type": "code",
   "execution_count": 33,
   "metadata": {},
   "outputs": [
    {
     "data": {
      "text/plain": [
       "matrix([[-2.15524318,  1.87731464,  1.35990454],\n",
       "        [-0.66866669,  1.03064715, -2.22428127],\n",
       "        [-0.4733336 ,  0.07736275, -0.87324416],\n",
       "        [ 1.25346351, -1.52612155,  2.09046421],\n",
       "        [ 2.04372239, -1.45910394, -0.35327003]])"
      ]
     },
     "execution_count": 33,
     "metadata": {},
     "output_type": "execute_result"
    }
   ],
   "source": [
    "W0 = np.mat([[0.5729,0.291,-1.3029],[0.5757,-0.9905,4.2671],[-0.5854,0.8022,2.7982]])\n",
    "W0\n",
    "\n",
    "X0 = X[:,[0,2,1]]\n",
    "X0\n",
    "\n",
    "XW0 = X0@W0\n",
    "XW0"
   ]
  },
  {
   "cell_type": "code",
   "execution_count": 25,
   "metadata": {},
   "outputs": [
    {
     "data": {
      "text/plain": [
       "-2.1552431800000003"
      ]
     },
     "execution_count": 25,
     "metadata": {},
     "output_type": "execute_result"
    }
   ],
   "source": [
    "-1.193*0.5729+-1.03*0.5757+1.5012*-0.5854"
   ]
  },
  {
   "cell_type": "code",
   "execution_count": 34,
   "metadata": {},
   "outputs": [
    {
     "data": {
      "text/plain": [
       "matrix([[-1.193 , -1.03  ],\n",
       "        [-0.037 , -0.7647],\n",
       "        [-0.5919, -0.3257],\n",
       "        [ 0.3792,  1.0739],\n",
       "        [ 1.4427,  1.0464]])"
      ]
     },
     "execution_count": 34,
     "metadata": {},
     "output_type": "execute_result"
    }
   ],
   "source": [
    "X12 = X0[:,[0,1]]\n",
    "X12"
   ]
  },
  {
   "cell_type": "code",
   "execution_count": 36,
   "metadata": {},
   "outputs": [
    {
     "data": {
      "text/plain": [
       "matrix([[ 0.77402206],\n",
       "        [ 0.22951749]])"
      ]
     },
     "execution_count": 36,
     "metadata": {},
     "output_type": "execute_result"
    }
   ],
   "source": [
    "b12 = np.mat([[0.774022057113114],[0.229517488097672]])\n",
    "b12"
   ]
  },
  {
   "cell_type": "code",
   "execution_count": 38,
   "metadata": {},
   "outputs": [
    {
     "data": {
      "text/plain": [
       "matrix([[-1.15981133],\n",
       "        [-0.20415084],\n",
       "        [-0.5328975 ],\n",
       "        [ 0.53998799],\n",
       "        [ 1.35684872]])"
      ]
     },
     "execution_count": 38,
     "metadata": {},
     "output_type": "execute_result"
    }
   ],
   "source": [
    "Y12 = X12*b12\n",
    "Y12"
   ]
  },
  {
   "cell_type": "code",
   "execution_count": 40,
   "metadata": {},
   "outputs": [
    {
     "data": {
      "image/png": "[encoded data removed]",
      "text/plain": [
       "<Figure size 432x288 with 1 Axes>"
      ]
     },
     "metadata": {
      "needs_background": "light"
     },
     "output_type": "display_data"
    }
   ],
   "source": [
    "plt.plot(y, Y12, 'o', color='black');"
   ]
  },
  {
   "cell_type": "code",
   "execution_count": 41,
   "metadata": {},
   "outputs": [
    {
     "data": {
      "text/plain": [
       "matrix([[ 0.72279598,  0.69106148],\n",
       "        [ 0.69106148, -0.72279598]])"
      ]
     },
     "execution_count": 41,
     "metadata": {},
     "output_type": "execute_result"
    }
   ],
   "source": [
    "W12 = np.mat([[0.722795977563944,0.691061484107877],[0.691061484107878,-0.722795977563944]])\n",
    "W12"
   ]
  },
  {
   "cell_type": "code",
   "execution_count": 42,
   "metadata": {},
   "outputs": [
    {
     "data": {
      "text/plain": [
       "matrix([[-1.57408893, -0.07995649],\n",
       "        [-0.55519817,  0.52715281],\n",
       "        [-0.65290166, -0.17362464],\n",
       "        [ 1.01621516, -0.51416009],\n",
       "        [ 1.76590449,  0.24066069]])"
      ]
     },
     "execution_count": 42,
     "metadata": {},
     "output_type": "execute_result"
    }
   ],
   "source": [
    "T12 = X12*W12\n",
    "T12 # 5x2"
   ]
  },
  {
   "cell_type": "code",
   "execution_count": 43,
   "metadata": {},
   "outputs": [
    {
     "data": {
      "text/plain": [
       "matrix([[ 0.93901116,  0.49801304]])"
      ]
     },
     "execution_count": 43,
     "metadata": {},
     "output_type": "execute_result"
    }
   ],
   "source": [
    "Q12 = np.mat([0.939011157015289,0.498013041308944])\n",
    "Q12 # 1x2"
   ]
  },
  {
   "cell_type": "code",
   "execution_count": 44,
   "metadata": {},
   "outputs": [
    {
     "data": {
      "text/plain": [
       "matrix([[-1.51790644],\n",
       "        [-0.2588083 ],\n",
       "        [-0.69954928],\n",
       "        [ 0.69817895],\n",
       "        [ 1.77805619]])"
      ]
     },
     "execution_count": 44,
     "metadata": {},
     "output_type": "execute_result"
    }
   ],
   "source": [
    "Y12t = T12*Q12.T\n",
    "Y12t"
   ]
  },
  {
   "cell_type": "code",
   "execution_count": 48,
   "metadata": {},
   "outputs": [
    {
     "data": {
      "image/png": "[encoded data removed]",
      "text/plain": [
       "<Figure size 432x288 with 1 Axes>"
      ]
     },
     "metadata": {
      "needs_background": "light"
     },
     "output_type": "display_data"
    }
   ],
   "source": [
    "plt.plot(y, Y12t, 'o', color='black');"
   ]
  },
  {
   "cell_type": "code",
   "execution_count": 49,
   "metadata": {},
   "outputs": [
    {
     "data": {
      "image/png": "[encoded data removed]",
      "text/plain": [
       "<Figure size 432x288 with 1 Axes>"
      ]
     },
     "metadata": {
      "needs_background": "light"
     },
     "output_type": "display_data"
    }
   ],
   "source": [
    "plt.plot(Y12, Y12t, 'o', color='black');"
   ]
  },
  {
   "cell_type": "code",
   "execution_count": 50,
   "metadata": {},
   "outputs": [
    {
     "data": {
      "text/plain": [
       "matrix([[ 0.35809512],\n",
       "        [ 0.05465746],\n",
       "        [ 0.16665178],\n",
       "        [-0.15819095],\n",
       "        [-0.42120746]])"
      ]
     },
     "execution_count": 50,
     "metadata": {},
     "output_type": "execute_result"
    }
   ],
   "source": [
    "Y12-Y12t"
   ]
  },
  {
   "cell_type": "code",
   "execution_count": 18,
   "metadata": {},
   "outputs": [],
   "source": [
    "import pandas as pd"
   ]
  },
  {
   "cell_type": "code",
   "execution_count": null,
   "metadata": {},
   "outputs": [],
   "source": [
    "df_y = pd.DataFrame(y)\n",
    "df_Y12 = pd.DataFrame(Y12)\n",
    "df_Y12t = pd.DataFrame(Y12t)"
   ]
  },
  {
   "cell_type": "code",
   "execution_count": 77,
   "metadata": {},
   "outputs": [
    {
     "data": {
      "text/html": [
       "<div>\n",
       "<style scoped>\n",
       "    .dataframe tbody tr th:only-of-type {\n",
       "        vertical-align: middle;\n",
       "    }\n",
       "\n",
       "    .dataframe tbody tr th {\n",
       "        vertical-align: top;\n",
       "    }\n",
       "\n",
       "    .dataframe thead th {\n",
       "        text-align: right;\n",
       "    }\n",
       "</style>\n",
       "<table border=\"1\" class=\"dataframe\">\n",
       "  <thead>\n",
       "    <tr style=\"text-align: right;\">\n",
       "      <th></th>\n",
       "      <th>0</th>\n",
       "    </tr>\n",
       "  </thead>\n",
       "  <tbody>\n",
       "    <tr>\n",
       "      <th>0</th>\n",
       "      <td>-1.1841</td>\n",
       "    </tr>\n",
       "    <tr>\n",
       "      <th>1</th>\n",
       "      <td>-0.2161</td>\n",
       "    </tr>\n",
       "    <tr>\n",
       "      <th>2</th>\n",
       "      <td>-0.5457</td>\n",
       "    </tr>\n",
       "    <tr>\n",
       "      <th>3</th>\n",
       "      <td>0.5485</td>\n",
       "    </tr>\n",
       "    <tr>\n",
       "      <th>4</th>\n",
       "      <td>1.3973</td>\n",
       "    </tr>\n",
       "  </tbody>\n",
       "</table>\n",
       "</div>"
      ],
      "text/plain": [
       "        0\n",
       "0 -1.1841\n",
       "1 -0.2161\n",
       "2 -0.5457\n",
       "3  0.5485\n",
       "4  1.3973"
      ]
     },
     "execution_count": 77,
     "metadata": {},
     "output_type": "execute_result"
    }
   ],
   "source": [
    "df_y"
   ]
  },
  {
   "cell_type": "code",
   "execution_count": 78,
   "metadata": {},
   "outputs": [
    {
     "data": {
      "text/html": [
       "<div>\n",
       "<style scoped>\n",
       "    .dataframe tbody tr th:only-of-type {\n",
       "        vertical-align: middle;\n",
       "    }\n",
       "\n",
       "    .dataframe tbody tr th {\n",
       "        vertical-align: top;\n",
       "    }\n",
       "\n",
       "    .dataframe thead th {\n",
       "        text-align: right;\n",
       "    }\n",
       "</style>\n",
       "<table border=\"1\" class=\"dataframe\">\n",
       "  <thead>\n",
       "    <tr style=\"text-align: right;\">\n",
       "      <th></th>\n",
       "      <th>0</th>\n",
       "    </tr>\n",
       "  </thead>\n",
       "  <tbody>\n",
       "    <tr>\n",
       "      <th>0</th>\n",
       "      <td>-1.159811</td>\n",
       "    </tr>\n",
       "    <tr>\n",
       "      <th>1</th>\n",
       "      <td>-0.204151</td>\n",
       "    </tr>\n",
       "    <tr>\n",
       "      <th>2</th>\n",
       "      <td>-0.532898</td>\n",
       "    </tr>\n",
       "    <tr>\n",
       "      <th>3</th>\n",
       "      <td>0.539988</td>\n",
       "    </tr>\n",
       "    <tr>\n",
       "      <th>4</th>\n",
       "      <td>1.356849</td>\n",
       "    </tr>\n",
       "  </tbody>\n",
       "</table>\n",
       "</div>"
      ],
      "text/plain": [
       "          0\n",
       "0 -1.159811\n",
       "1 -0.204151\n",
       "2 -0.532898\n",
       "3  0.539988\n",
       "4  1.356849"
      ]
     },
     "execution_count": 78,
     "metadata": {},
     "output_type": "execute_result"
    }
   ],
   "source": [
    "df_Y12"
   ]
  },
  {
   "cell_type": "code",
   "execution_count": 79,
   "metadata": {},
   "outputs": [
    {
     "data": {
      "text/html": [
       "<div>\n",
       "<style scoped>\n",
       "    .dataframe tbody tr th:only-of-type {\n",
       "        vertical-align: middle;\n",
       "    }\n",
       "\n",
       "    .dataframe tbody tr th {\n",
       "        vertical-align: top;\n",
       "    }\n",
       "\n",
       "    .dataframe thead th {\n",
       "        text-align: right;\n",
       "    }\n",
       "</style>\n",
       "<table border=\"1\" class=\"dataframe\">\n",
       "  <thead>\n",
       "    <tr style=\"text-align: right;\">\n",
       "      <th></th>\n",
       "      <th>0</th>\n",
       "    </tr>\n",
       "  </thead>\n",
       "  <tbody>\n",
       "    <tr>\n",
       "      <th>0</th>\n",
       "      <td>-1.517906</td>\n",
       "    </tr>\n",
       "    <tr>\n",
       "      <th>1</th>\n",
       "      <td>-0.258808</td>\n",
       "    </tr>\n",
       "    <tr>\n",
       "      <th>2</th>\n",
       "      <td>-0.699549</td>\n",
       "    </tr>\n",
       "    <tr>\n",
       "      <th>3</th>\n",
       "      <td>0.698179</td>\n",
       "    </tr>\n",
       "    <tr>\n",
       "      <th>4</th>\n",
       "      <td>1.778056</td>\n",
       "    </tr>\n",
       "  </tbody>\n",
       "</table>\n",
       "</div>"
      ],
      "text/plain": [
       "          0\n",
       "0 -1.517906\n",
       "1 -0.258808\n",
       "2 -0.699549\n",
       "3  0.698179\n",
       "4  1.778056"
      ]
     },
     "execution_count": 79,
     "metadata": {},
     "output_type": "execute_result"
    }
   ],
   "source": [
    "df_Y12t"
   ]
  },
  {
   "cell_type": "code",
   "execution_count": 80,
   "metadata": {},
   "outputs": [],
   "source": [
    "df_Y_all = pd.DataFrame()"
   ]
  },
  {
   "cell_type": "code",
   "execution_count": 82,
   "metadata": {},
   "outputs": [],
   "source": [
    "df_Y_all['y'] = df_y[0]"
   ]
  },
  {
   "cell_type": "code",
   "execution_count": 83,
   "metadata": {},
   "outputs": [],
   "source": [
    "df_Y_all['Y12'] = df_Y12[0]"
   ]
  },
  {
   "cell_type": "code",
   "execution_count": 85,
   "metadata": {},
   "outputs": [],
   "source": [
    "df_Y_all['Y12t'] = df_Y12t[0]"
   ]
  },
  {
   "cell_type": "code",
   "execution_count": 86,
   "metadata": {},
   "outputs": [
    {
     "data": {
      "text/html": [
       "<div>\n",
       "<style scoped>\n",
       "    .dataframe tbody tr th:only-of-type {\n",
       "        vertical-align: middle;\n",
       "    }\n",
       "\n",
       "    .dataframe tbody tr th {\n",
       "        vertical-align: top;\n",
       "    }\n",
       "\n",
       "    .dataframe thead th {\n",
       "        text-align: right;\n",
       "    }\n",
       "</style>\n",
       "<table border=\"1\" class=\"dataframe\">\n",
       "  <thead>\n",
       "    <tr style=\"text-align: right;\">\n",
       "      <th></th>\n",
       "      <th>y</th>\n",
       "      <th>Y12</th>\n",
       "      <th>Y12t</th>\n",
       "    </tr>\n",
       "  </thead>\n",
       "  <tbody>\n",
       "    <tr>\n",
       "      <th>0</th>\n",
       "      <td>-1.1841</td>\n",
       "      <td>-1.159811</td>\n",
       "      <td>-1.517906</td>\n",
       "    </tr>\n",
       "    <tr>\n",
       "      <th>1</th>\n",
       "      <td>-0.2161</td>\n",
       "      <td>-0.204151</td>\n",
       "      <td>-0.258808</td>\n",
       "    </tr>\n",
       "    <tr>\n",
       "      <th>2</th>\n",
       "      <td>-0.5457</td>\n",
       "      <td>-0.532898</td>\n",
       "      <td>-0.699549</td>\n",
       "    </tr>\n",
       "    <tr>\n",
       "      <th>3</th>\n",
       "      <td>0.5485</td>\n",
       "      <td>0.539988</td>\n",
       "      <td>0.698179</td>\n",
       "    </tr>\n",
       "    <tr>\n",
       "      <th>4</th>\n",
       "      <td>1.3973</td>\n",
       "      <td>1.356849</td>\n",
       "      <td>1.778056</td>\n",
       "    </tr>\n",
       "  </tbody>\n",
       "</table>\n",
       "</div>"
      ],
      "text/plain": [
       "        y       Y12      Y12t\n",
       "0 -1.1841 -1.159811 -1.517906\n",
       "1 -0.2161 -0.204151 -0.258808\n",
       "2 -0.5457 -0.532898 -0.699549\n",
       "3  0.5485  0.539988  0.698179\n",
       "4  1.3973  1.356849  1.778056"
      ]
     },
     "execution_count": 86,
     "metadata": {},
     "output_type": "execute_result"
    }
   ],
   "source": [
    "df_Y_all"
   ]
  },
  {
   "cell_type": "code",
   "execution_count": 87,
   "metadata": {},
   "outputs": [
    {
     "data": {
      "text/html": [
       "<div>\n",
       "<style scoped>\n",
       "    .dataframe tbody tr th:only-of-type {\n",
       "        vertical-align: middle;\n",
       "    }\n",
       "\n",
       "    .dataframe tbody tr th {\n",
       "        vertical-align: top;\n",
       "    }\n",
       "\n",
       "    .dataframe thead th {\n",
       "        text-align: right;\n",
       "    }\n",
       "</style>\n",
       "<table border=\"1\" class=\"dataframe\">\n",
       "  <thead>\n",
       "    <tr style=\"text-align: right;\">\n",
       "      <th></th>\n",
       "      <th>y</th>\n",
       "      <th>Y12</th>\n",
       "      <th>Y12t</th>\n",
       "    </tr>\n",
       "  </thead>\n",
       "  <tbody>\n",
       "    <tr>\n",
       "      <th>y</th>\n",
       "      <td>1.000000</td>\n",
       "      <td>0.999983</td>\n",
       "      <td>0.999971</td>\n",
       "    </tr>\n",
       "    <tr>\n",
       "      <th>Y12</th>\n",
       "      <td>0.999983</td>\n",
       "      <td>1.000000</td>\n",
       "      <td>0.999988</td>\n",
       "    </tr>\n",
       "    <tr>\n",
       "      <th>Y12t</th>\n",
       "      <td>0.999971</td>\n",
       "      <td>0.999988</td>\n",
       "      <td>1.000000</td>\n",
       "    </tr>\n",
       "  </tbody>\n",
       "</table>\n",
       "</div>"
      ],
      "text/plain": [
       "             y       Y12      Y12t\n",
       "y     1.000000  0.999983  0.999971\n",
       "Y12   0.999983  1.000000  0.999988\n",
       "Y12t  0.999971  0.999988  1.000000"
      ]
     },
     "execution_count": 87,
     "metadata": {},
     "output_type": "execute_result"
    }
   ],
   "source": [
    "df_Y_all.corr()"
   ]
  },
  {
   "cell_type": "code",
   "execution_count": 90,
   "metadata": {},
   "outputs": [
    {
     "data": {
      "text/plain": [
       "array([0, 1, 2, 3, 4])"
      ]
     },
     "execution_count": 90,
     "metadata": {},
     "output_type": "execute_result"
    }
   ],
   "source": [
    "x = np.arange(0,5)\n",
    "x"
   ]
  },
  {
   "cell_type": "code",
   "execution_count": 94,
   "metadata": {},
   "outputs": [
    {
     "data": {
      "text/plain": [
       "[<matplotlib.lines.Line2D at 0x21557a45c18>]"
      ]
     },
     "execution_count": 94,
     "metadata": {},
     "output_type": "execute_result"
    },
    {
     "data": {
      "image/png": "[encoded data removed]",
      "text/plain": [
       "<Figure size 432x288 with 1 Axes>"
      ]
     },
     "metadata": {
      "needs_background": "light"
     },
     "output_type": "display_data"
    }
   ],
   "source": [
    "plt.plot(-y,'o')"
   ]
  },
  {
   "cell_type": "code",
   "execution_count": 97,
   "metadata": {},
   "outputs": [
    {
     "data": {
      "text/plain": [
       "[<matplotlib.lines.Line2D at 0x21559ac54a8>]"
      ]
     },
     "execution_count": 97,
     "metadata": {},
     "output_type": "execute_result"
    },
    {
     "data": {
      "image/png": "[encoded data removed]",
      "text/plain": [
       "<Figure size 432x288 with 1 Axes>"
      ]
     },
     "metadata": {
      "needs_background": "light"
     },
     "output_type": "display_data"
    }
   ],
   "source": [
    "plt.plot(XW0[:,0],y,'o')"
   ]
  },
  {
   "cell_type": "markdown",
   "metadata": {},
   "source": [
    "# 다윈아이씨티 온도 데이터"
   ]
  },
  {
   "cell_type": "code",
   "execution_count": 19,
   "metadata": {},
   "outputs": [
    {
     "data": {
      "text/plain": [
       "matrix([[  9.66484958e+00,   1.57540000e+04,   8.33758794e+00,\n",
       "           4.06500000e+03,   4.26700000e+03,   8.30943074e+00,\n",
       "           8.25945820e+00],\n",
       "        [  9.62496342e+00,   1.51380000e+04,   8.33591109e+00,\n",
       "           4.05300000e+03,   4.25500000e+03,   8.30943074e+00,\n",
       "           8.25945820e+00],\n",
       "        [  9.13927392e+00,   9.31400000e+03,   8.33686964e+00,\n",
       "           4.07700000e+03,   4.26400000e+03,   8.30721263e+00,\n",
       "           8.26333267e+00],\n",
       "        [  9.37305428e+00,   1.17670000e+04,   8.33375101e+00,\n",
       "           4.07100000e+03,   4.26400000e+03,   8.30795254e+00,\n",
       "           8.25868150e+00],\n",
       "        [  9.78656040e+00,   1.77930000e+04,   8.33447156e+00,\n",
       "           4.06800000e+03,   4.26700000e+03,   8.31016902e+00,\n",
       "           8.26590733e+00],\n",
       "        [  9.35487352e+00,   1.15550000e+04,   8.33615082e+00,\n",
       "           4.07400000e+03,   4.27300000e+03,   8.30795254e+00,\n",
       "           8.26178468e+00],\n",
       "        [  9.49634604e+00,   1.33110000e+04,   8.33686964e+00,\n",
       "           4.07100000e+03,   4.26700000e+03,   8.31090676e+00,\n",
       "           8.26023429e+00],\n",
       "        [  9.48645581e+00,   1.31800000e+04,   8.33543148e+00,\n",
       "           4.06800000e+03,   4.27700000e+03,   8.31188956e+00,\n",
       "           8.26178468e+00],\n",
       "        [  8.98619632e+00,   7.99200000e+03,   8.33830573e+00,\n",
       "           4.07700000e+03,   4.27300000e+03,   8.31016902e+00,\n",
       "           8.26333267e+00],\n",
       "        [  9.15005944e+00,   9.41500000e+03,   8.33830573e+00,\n",
       "           4.07100000e+03,   4.27300000e+03,   8.30869192e+00,\n",
       "           8.26023429e+00],\n",
       "        [  9.44904226e+00,   1.26960000e+04,   8.33686964e+00,\n",
       "           4.06800000e+03,   4.26700000e+03,   8.31262603e+00,\n",
       "           8.26178468e+00],\n",
       "        [  9.33096381e+00,   1.12820000e+04,   8.33615082e+00,\n",
       "           4.07100000e+03,   4.27000000e+03,   8.31262603e+00,\n",
       "           8.26178468e+00],\n",
       "        [  9.21133987e+00,   1.00100000e+04,   8.33447156e+00,\n",
       "           4.07100000e+03,   4.28000000e+03,   8.31041499e+00,\n",
       "           8.25945820e+00],\n",
       "        [  9.32741204e+00,   1.12420000e+04,   8.33902301e+00,\n",
       "           4.07100000e+03,   4.28000000e+03,   8.30795254e+00,\n",
       "           8.26255897e+00],\n",
       "        [  9.81235862e+00,   1.82580000e+04,   8.33830573e+00,\n",
       "           4.07700000e+03,   4.26700000e+03,   8.30869192e+00,\n",
       "           8.26178468e+00],\n",
       "        [  9.46397433e+00,   1.28870000e+04,   8.33830573e+00,\n",
       "           4.08000000e+03,   4.26700000e+03,   8.31016902e+00,\n",
       "           8.26410576e+00],\n",
       "        [  9.32295452e+00,   1.11920000e+04,   8.33830573e+00,\n",
       "           4.07700000e+03,   4.28600000e+03,   8.30943074e+00,\n",
       "           8.26255897e+00],\n",
       "        [  9.16282939e+00,   9.53600000e+03,   8.33758794e+00,\n",
       "           4.07400000e+03,   4.27700000e+03,   8.30943074e+00,\n",
       "           8.26333267e+00],\n",
       "        [  9.20933987e+00,   9.99000000e+03,   8.33902301e+00,\n",
       "           4.07400000e+03,   4.27700000e+03,   8.30943074e+00,\n",
       "           8.26333267e+00],\n",
       "        [  9.15967846e+00,   9.50600000e+03,   8.33758794e+00,\n",
       "           4.07100000e+03,   4.28000000e+03,   8.31262603e+00,\n",
       "           8.26410576e+00],\n",
       "        [  8.72664342e+00,   6.16500000e+03,   8.34045601e+00,\n",
       "           4.07400000e+03,   4.27300000e+03,   8.31188956e+00,\n",
       "           8.26590733e+00],\n",
       "        [  9.20933987e+00,   9.99000000e+03,   8.34045601e+00,\n",
       "           4.08300000e+03,   4.26700000e+03,   8.31188956e+00,\n",
       "           8.26487826e+00],\n",
       "        [  8.84534520e+00,   6.94200000e+03,   8.33902301e+00,\n",
       "           4.07700000e+03,   4.27000000e+03,   8.31188956e+00,\n",
       "           8.26410576e+00],\n",
       "        [  8.36100711e+00,   4.27700000e+03,   8.33686964e+00,\n",
       "           4.07400000e+03,   4.28300000e+03,   8.31188956e+00,\n",
       "           8.26255897e+00],\n",
       "        [  8.35631997e+00,   4.25700000e+03,   8.34045601e+00,\n",
       "           4.08700000e+03,   4.27300000e+03,   8.31115255e+00,\n",
       "           8.26333267e+00],\n",
       "        [  8.36334247e+00,   4.28700000e+03,   8.33902301e+00,\n",
       "           4.08000000e+03,   4.27700000e+03,   8.31115255e+00,\n",
       "           8.26333267e+00],\n",
       "        [  8.35631997e+00,   4.25700000e+03,   8.33830573e+00,\n",
       "           4.08000000e+03,   4.27000000e+03,   8.31262603e+00,\n",
       "           8.26333267e+00],\n",
       "        [  8.35396813e+00,   4.24700000e+03,   8.34045601e+00,\n",
       "           4.07400000e+03,   4.27700000e+03,   8.31041499e+00,\n",
       "           8.26333267e+00],\n",
       "        [  8.37976852e+00,   4.35800000e+03,   8.34045601e+00,\n",
       "           4.08600000e+03,   4.28600000e+03,   8.31041499e+00,\n",
       "           8.26333267e+00],\n",
       "        [  8.35396813e+00,   4.24700000e+03,   8.33973977e+00,\n",
       "           4.08000000e+03,   4.28600000e+03,   8.31164395e+00,\n",
       "           8.26487826e+00],\n",
       "        [  8.35161075e+00,   4.23700000e+03,   8.34045601e+00,\n",
       "           4.08600000e+03,   4.28300000e+03,   8.31409733e+00,\n",
       "           8.26410576e+00],\n",
       "        [  8.34426736e+00,   4.20600000e+03,   8.34045601e+00,\n",
       "           4.08700000e+03,   4.28600000e+03,   8.31556648e+00,\n",
       "           8.26487826e+00],\n",
       "        [  8.33950090e+00,   4.18600000e+03,   8.33758794e+00,\n",
       "           4.09300000e+03,   4.28000000e+03,   8.31262603e+00,\n",
       "           8.26410576e+00],\n",
       "        [  8.36799689e+00,   4.30700000e+03,   8.33973977e+00,\n",
       "           4.08400000e+03,   4.28000000e+03,   8.31336195e+00,\n",
       "           8.26333267e+00],\n",
       "        [  8.34426736e+00,   4.20600000e+03,   8.34212526e+00,\n",
       "           4.08600000e+03,   4.28900000e+03,   8.31409733e+00,\n",
       "           8.26487826e+00],\n",
       "        [  8.34426736e+00,   4.20600000e+03,   8.33902301e+00,\n",
       "           4.08000000e+03,   4.28600000e+03,   8.31262603e+00,\n",
       "           8.26487826e+00],\n",
       "        [  8.35866628e+00,   4.26700000e+03,   8.34117175e+00,\n",
       "           4.09000000e+03,   4.28600000e+03,   8.31409733e+00,\n",
       "           8.26410576e+00],\n",
       "        [  8.35396813e+00,   4.24700000e+03,   8.33973977e+00,\n",
       "           4.08400000e+03,   4.28300000e+03,   8.31336195e+00,\n",
       "           8.26333267e+00],\n",
       "        [  8.35631997e+00,   4.25700000e+03,   8.34117175e+00,\n",
       "           4.07700000e+03,   4.28300000e+03,   8.31409733e+00,\n",
       "           8.26590733e+00],\n",
       "        [  8.36334247e+00,   4.28700000e+03,   8.34117175e+00,\n",
       "           4.08700000e+03,   4.28900000e+03,   8.31556648e+00,\n",
       "           8.26410576e+00],\n",
       "        [  8.36334247e+00,   4.28700000e+03,   8.34045601e+00,\n",
       "           4.08700000e+03,   4.28600000e+03,   8.31556648e+00,\n",
       "           8.26590733e+00],\n",
       "        [  8.35866628e+00,   4.26700000e+03,   8.33973977e+00,\n",
       "           4.07700000e+03,   4.28900000e+03,   8.31556648e+00,\n",
       "           8.26255897e+00],\n",
       "        [  8.36334247e+00,   4.28700000e+03,   8.34355383e+00,\n",
       "           4.07700000e+03,   4.28600000e+03,   8.31483218e+00,\n",
       "           8.26667844e+00],\n",
       "        [  8.35396813e+00,   4.24700000e+03,   8.34355383e+00,\n",
       "           4.09000000e+03,   4.28600000e+03,   8.31556648e+00,\n",
       "           8.26487826e+00],\n",
       "        [  8.35866628e+00,   4.26700000e+03,   8.34212526e+00,\n",
       "           4.09000000e+03,   4.28900000e+03,   8.31630025e+00,\n",
       "           8.26410576e+00],\n",
       "        [  8.35866628e+00,   4.26700000e+03,   8.33973977e+00,\n",
       "           4.08700000e+03,   4.28600000e+03,   8.31703348e+00,\n",
       "           8.26255897e+00],\n",
       "        [  8.35161075e+00,   4.23700000e+03,   8.33973977e+00,\n",
       "           4.08700000e+03,   4.28300000e+03,   8.31336195e+00,\n",
       "           8.26333267e+00],\n",
       "        [  8.36334247e+00,   4.28700000e+03,   8.34283980e+00,\n",
       "           4.08700000e+03,   4.29600000e+03,   8.31409733e+00,\n",
       "           8.26487826e+00],\n",
       "        [  8.36334247e+00,   4.28700000e+03,   8.34283980e+00,\n",
       "           4.08300000e+03,   4.28000000e+03,   8.31703348e+00,\n",
       "           8.26667844e+00],\n",
       "        [  8.37031600e+00,   4.31700000e+03,   8.34117175e+00,\n",
       "           4.09000000e+03,   4.28900000e+03,   8.31703348e+00,\n",
       "           8.26744896e+00]])"
      ]
     },
     "execution_count": 19,
     "metadata": {},
     "output_type": "execute_result"
    }
   ],
   "source": [
    "dw_X7 = np.mat([[9.66484958,15754,8.337587942,4065,4267,8.309430742,8.259458195],[9.624963418,15138,8.335911094,4053,4255,8.309430742,8.259458195],[9.139273924,9314,8.336869637,4077,4264,8.307212627,8.263332667],[9.373054282,11767,8.333751007,4071,4264,8.307952545,8.258681496],[9.786560401,17793,8.334471555,4068,4267,8.310169022,8.265907334],[9.354873523,11555,8.336150816,4074,4273,8.307952545,8.26178468],[9.49634604,13311,8.336869637,4071,4267,8.310906757,8.260234292],[9.486455808,13180,8.335431478,4068,4277,8.311889558,8.26178468],[8.98619632,7992,8.338305731,4077,4273,8.310169022,8.263332667],[9.150059441,9415,8.338305731,4071,4273,8.308691917,8.260234292],[9.449042262,12696,8.336869637,4068,4267,8.312626026,8.26178468],[9.330963814,11282,8.336150816,4071,4270,8.312626026,8.26178468],[9.211339872,10010,8.334471555,4071,4280,8.310414994,8.259458195],[9.327412044,11242,8.339023006,4071,4280,8.307952545,8.262558973],[9.812358619,18258,8.338305731,4077,4267,8.308691917,8.26178468],[9.46397433,12887,8.338305731,4080,4267,8.310169022,8.264105764],[9.322954516,11192,8.338305731,4077,4286,8.309430742,8.262558973],[9.162829389,9536,8.337587942,4074,4277,8.309430742,8.263332667],[9.209339872,9990,8.339023006,4074,4277,8.309430742,8.263332667],[9.159678457,9506,8.337587942,4071,4280,8.312626026,8.264105764],[8.726643416,6165,8.340456013,4074,4273,8.311889558,8.265907334],[9.209339872,9990,8.340456013,4083,4267,8.311889558,8.264878263],[8.845345196,6942,8.339023006,4077,4270,8.311889558,8.264105764],[8.361007108,4277,8.336869637,4074,4283,8.311889558,8.262558973],[8.356319966,4257,8.340456013,4087,4273,8.311152548,8.263332667],[8.363342467,4287,8.339023006,4080,4277,8.311152548,8.263332667],[8.356319966,4257,8.338305731,4080,4270,8.312626026,8.263332667],[8.35396813,4247,8.340456013,4074,4277,8.310414994,8.263332667],[8.379768516,4358,8.340456013,4086,4286,8.310414994,8.263332667],[8.35396813,4247,8.339739766,4080,4286,8.311643949,8.264878263],[8.351610751,4237,8.340456013,4086,4283,8.314097335,8.264105764],[8.344267356,4206,8.340456013,4087,4286,8.315566484,8.264878263],[8.339500903,4186,8.337587942,4093,4280,8.312626026,8.264105764],[8.367996885,4307,8.339739766,4084,4280,8.313361951,8.263332667],[8.344267356,4206,8.342125263,4086,4289,8.314097335,8.264878263],[8.344267356,4206,8.339023006,4080,4286,8.312626026,8.264878263],[8.358666283,4267,8.341171747,4090,4286,8.314097335,8.264105764],[8.35396813,4247,8.339739766,4084,4283,8.313361951,8.263332667],[8.356319966,4257,8.341171747,4077,4283,8.314097335,8.265907334],[8.363342467,4287,8.341171747,4087,4289,8.315566484,8.264105764],[8.363342467,4287,8.340456013,4087,4286,8.315566484,8.265907334],[8.358666283,4267,8.339739766,4077,4289,8.315566484,8.262558973],[8.363342467,4287,8.343553835,4077,4286,8.314832179,8.266678443],[8.35396813,4247,8.343553835,4090,4286,8.315566484,8.264878263],[8.358666283,4267,8.342125263,4090,4289,8.316300249,8.264105764],[8.358666283,4267,8.339739766,4087,4286,8.317033476,8.262558973],[8.351610751,4237,8.339739766,4087,4283,8.313361951,8.263332667],[8.363342467,4287,8.342839804,4087,4296,8.314097335,8.264878263],[8.363342467,4287,8.342839804,4083,4280,8.317033476,8.266678443],[8.370315996,4317,8.341171747,4090,4289,8.317033476,8.267448958]])\n",
    "dw_X7 # 50x7"
   ]
  },
  {
   "cell_type": "code",
   "execution_count": 20,
   "metadata": {
    "scrolled": true
   },
   "outputs": [
    {
     "data": {
      "text/plain": [
       "matrix([[4147],\n",
       "        [4159],\n",
       "        [4144],\n",
       "        [4159],\n",
       "        [4153],\n",
       "        [4150],\n",
       "        [4147],\n",
       "        [4150],\n",
       "        [4153],\n",
       "        [4159],\n",
       "        [4172],\n",
       "        [4172],\n",
       "        [4150],\n",
       "        [4150],\n",
       "        [4169],\n",
       "        [4169],\n",
       "        [4169],\n",
       "        [4169],\n",
       "        [4156],\n",
       "        [4156],\n",
       "        [4156],\n",
       "        [4156],\n",
       "        [4172],\n",
       "        [4165],\n",
       "        [4162],\n",
       "        [4153],\n",
       "        [4165],\n",
       "        [4165],\n",
       "        [4165],\n",
       "        [4169],\n",
       "        [4159],\n",
       "        [4166],\n",
       "        [4172],\n",
       "        [4169],\n",
       "        [4165],\n",
       "        [4165],\n",
       "        [4172],\n",
       "        [4159],\n",
       "        [4169],\n",
       "        [4178],\n",
       "        [4181],\n",
       "        [4178],\n",
       "        [4165],\n",
       "        [4169],\n",
       "        [4178],\n",
       "        [4172],\n",
       "        [4178],\n",
       "        [4178],\n",
       "        [4172],\n",
       "        [4175]])"
      ]
     },
     "execution_count": 20,
     "metadata": {},
     "output_type": "execute_result"
    }
   ],
   "source": [
    "dw_y = np.mat([[4147],[4159],[4144],[4159],[4153],[4150],[4147],[4150],[4153],[4159],[4172],[4172],[4150],[4150],[4169],[4169],[4169],[4169],[4156],[4156],[4156],[4156],[4172],[4165],[4162],[4153],[4165],[4165],[4165],[4169],[4159],[4166],[4172],[4169],[4165],[4165],[4172],[4159],[4169],[4178],[4181],[4178],[4165],[4169],[4178],[4172],[4178],[4178],[4172],[4175]])\n",
    "dw_y # 50x1"
   ]
  },
  {
   "cell_type": "code",
   "execution_count": 21,
   "metadata": {},
   "outputs": [
    {
     "data": {
      "text/plain": [
       "matrix([[ -4.00078085e-01,  -8.87433055e-01,   4.85052800e-03,\n",
       "          -6.13690600e+00],\n",
       "        [ -9.16174943e-01,   3.93705731e-01,  -1.58748600e-03,\n",
       "           2.72070569e+00],\n",
       "        [  2.13648000e-03,   2.06260720e-02,   1.62544300e-03,\n",
       "           1.42954403e-01],\n",
       "        [  1.65681700e-02,   1.71141581e-01,   1.41874080e-02,\n",
       "           1.18356236e+00],\n",
       "        [  1.64357840e-02,   1.58858202e-01,   1.41870540e-02,\n",
       "           1.09778331e+00],\n",
       "        [  3.11702600e-03,   4.79497740e-02,   4.14340800e-03,\n",
       "           3.33153659e-01],\n",
       "        [  1.44221100e-03,   1.44355460e-02,   1.07607400e-03,\n",
       "           9.99617320e-02]])"
      ]
     },
     "execution_count": 21,
     "metadata": {},
     "output_type": "execute_result"
    }
   ],
   "source": [
    "dw_W = np.mat([[-0.400078085,-0.887433055,0.004850528,-6.136905999],[-0.916174943,0.393705731,-0.001587486,2.720705691],[0.00213648,0.020626072,0.001625443,0.142954403],[0.01656817,0.171141581,0.014187408,1.183562359],[0.016435784,0.158858202,0.014187054,1.097783309],[0.003117026,0.047949774,0.004143408,0.333153659],[0.001442211,0.014435546,0.001076074,0.099961732]])\n",
    "dw_W # 7x4"
   ]
  },
  {
   "cell_type": "code",
   "execution_count": 22,
   "metadata": {
    "scrolled": true
   },
   "outputs": [
    {
     "data": {
      "text/plain": [
       "matrix([[ -1.76684539e+00,   1.31197404e-01,  -4.20878987e-04,\n",
       "           9.04098121e-01],\n",
       "        [ -1.64099995e+00,   9.87278669e-02,  -9.25958170e-04,\n",
       "           6.79814323e-01],\n",
       "        [ -4.14543553e-01,  -7.03955340e-02,   1.68576022e-04,\n",
       "          -4.87468302e-01],\n",
       "        [ -9.38810210e-01,  -1.45973230e-02,  -1.51104969e-05,\n",
       "          -1.02563747e-01],\n",
       "        [ -2.18273388e+00,   2.23654774e-01,  -6.07635581e-04,\n",
       "           1.54267734e+00],\n",
       "        [ -8.93727654e-01,  -1.74858229e-02,   2.83058685e-04,\n",
       "          -1.22466051e-01],\n",
       "        [ -1.26213327e+00,   3.69869378e-02,  -2.72502202e-05,\n",
       "           2.53557104e-01],\n",
       "        [ -1.23466140e+00,   3.41059463e-02,   1.45240178e-04,\n",
       "           2.33673285e-01],\n",
       "        [ -1.24511758e-01,  -8.27104096e-02,   3.18217910e-04,\n",
       "          -5.72120617e-01],\n",
       "        [ -4.36362130e-01,  -6.80945249e-02,   2.38266237e-04,\n",
       "          -4.71605578e-01],\n",
       "        [ -1.13387808e+00,   1.49484777e-02,  -4.81855605e-05,\n",
       "           1.01395948e-01],\n",
       "        [ -8.36125788e-01,  -2.66443941e-02,   1.66664084e-04,\n",
       "          -1.85684406e-01],\n",
       "        [ -5.64537457e-01,  -5.50406574e-02,   4.08684356e-04,\n",
       "          -3.81573784e-01],\n",
       "        [ -8.27386804e-01,  -2.52645634e-02,   3.89052837e-04,\n",
       "          -1.76144806e-01],\n",
       "        [ -2.27681416e+00,   2.48310096e-01,  -4.58152875e-04,\n",
       "           1.71299527e+00],\n",
       "        [ -1.17345870e+00,   2.48913024e-02,   2.27290763e-04,\n",
       "           1.70078028e-01],\n",
       "        [ -8.16452013e-01,  -2.32455194e-02,   6.81076826e-04,\n",
       "          -1.62168154e-01],\n",
       "        [ -4.62351223e-01,  -6.40127348e-02,   4.11585724e-04,\n",
       "          -4.43429512e-01],\n",
       "        [ -5.60223992e-01,  -5.52655146e-02,   4.18411095e-04,\n",
       "          -3.83116449e-01],\n",
       "        [ -4.55858064e-01,  -6.45063097e-02,   4.19396289e-04,\n",
       "          -4.46830857e-01],\n",
       "        [  2.88881097e-01,  -7.50943365e-02,  -9.23177959e-07,\n",
       "          -5.18736239e-01],\n",
       "        [ -5.60225925e-01,  -5.50761473e-02,   4.17501590e-04,\n",
       "          -3.81789462e-01],\n",
       "        [  1.10787336e-01,  -8.35891228e-02,   1.35606056e-04,\n",
       "          -5.77780642e-01],\n",
       "        [  7.42782509e-01,  -5.45672454e-03,  -3.61603718e-04,\n",
       "          -3.64445729e-02],\n",
       "        [  7.47915060e-01,  -2.99002908e-03,  -2.82592848e-04,\n",
       "          -1.93645791e-02],\n",
       "        [  7.40284088e-01,  -5.83013995e-03,  -3.49179754e-04,\n",
       "          -3.90228348e-02],\n",
       "        [  7.47634499e-01,  -5.81222020e-03,  -5.21196351e-04,\n",
       "          -3.88765326e-02],\n",
       "        [  7.50165264e-01,  -5.20342368e-03,  -5.14114529e-04,\n",
       "          -3.46744496e-02],\n",
       "        [  7.22914512e-01,  -5.85329186e-03,   3.70110875e-05,\n",
       "          -3.92221101e-02],\n",
       "        [  7.50582900e-01,  -1.03401518e-03,  -1.53381577e-04,\n",
       "          -5.85078911e-03],\n",
       "        [  7.53196630e-01,   6.62592981e-04,  -7.22704440e-05,\n",
       "           5.89351571e-03],\n",
       "        [  7.61122103e-01,   3.71461473e-03,   1.37942013e-05,\n",
       "           2.70097189e-02],\n",
       "        [  7.66165016e-01,   4.98880659e-03,  -3.27818462e-06,\n",
       "           3.58325292e-02],\n",
       "        [  7.35469177e-01,  -4.94825483e-03,  -1.64197223e-04,\n",
       "          -3.29324159e-02],\n",
       "        [  7.61173592e-01,   4.17123186e-03,   5.63294992e-05,\n",
       "           3.01619728e-02],\n",
       "        [  7.60912118e-01,   1.50828224e-03,  -1.69423460e-04,\n",
       "           1.17471961e-02],\n",
       "        [  7.45847415e-01,   8.20731661e-04,   1.09624100e-04,\n",
       "           6.97215924e-03],\n",
       "        [  7.50618753e-01,  -5.86550944e-04,  -1.20894762e-04,\n",
       "          -2.75010543e-03],\n",
       "        [  7.47911545e-01,  -3.16818464e-03,  -2.80560661e-04,\n",
       "          -2.06059687e-02],\n",
       "        [  7.40823689e-01,  -4.15507071e-04,   1.20117575e-04,\n",
       "          -1.58686053e-03],\n",
       "        [  7.40743728e-01,  -1.18759268e-03,   5.09701510e-05,\n",
       "          -6.92226547e-03],\n",
       "        [  7.45556834e-01,  -2.21271921e-03,  -1.36367697e-04,\n",
       "          -1.40089685e-02],\n",
       "        [  7.40463023e-01,  -4.10094837e-03,  -1.90945743e-04,\n",
       "          -2.70701984e-02],\n",
       "        [  7.50885317e-01,   2.13725189e-03,   1.09798436e-04,\n",
       "           1.60868253e-02],\n",
       "        [  7.45935790e-01,   1.70795943e-03,   1.88428219e-04,\n",
       "           1.31069847e-02],\n",
       "        [  7.45765083e-01,   1.15792571e-05,   4.32226878e-05,\n",
       "           1.37959529e-03],\n",
       "        [  7.53220997e-01,   9.05703989e-04,  -5.20914145e-05,\n",
       "           7.57356546e-03],\n",
       "        [  7.41012487e-01,   1.38752729e-03,   2.80869026e-04,\n",
       "           1.08714319e-02],\n",
       "        [  7.40476929e-01,  -3.81979522e-03,  -1.77293833e-04,\n",
       "          -2.51149675e-02],\n",
       "        [  7.33393920e-01,  -1.19677490e-03,   2.14693636e-04,\n",
       "          -6.99869610e-03]])"
      ]
     },
     "execution_count": 22,
     "metadata": {},
     "output_type": "execute_result"
    }
   ],
   "source": [
    "dw_T0 = np.mat([[-1.76684538934945,0.13119740388398,-0.000420878987103716,0.904098120850372],[-1.64099995084076,0.0987278669149501,-0.000925958169727716,0.679814323400961],[-0.414543553443289,-0.0703955339838507,0.00016857602239604,-0.48746830238135],[-0.938810209652307,-0.0145973230492114,-1.51104969252949E-05,-0.102563746709354],[-2.18273388465149,0.22365477351833,-0.000607635581253396,1.54267734437989],[-0.893727653907816,-0.0174858228997138,0.000283058685386682,-0.12246605085029],[-1.26213326864061,0.0369869378243537,-2.72502202012794E-05,0.253557103615558],[-1.23466140452743,0.0341059462850918,0.000145240177953296,0.233673285090367],[-0.124511757714411,-0.0827104095953522,0.000318217909634922,-0.572120616900309],[-0.436362130163163,-0.0680945248646091,0.000238266236741298,-0.471605577904898],[-1.13387807576373,0.0149484777242269,-4.81855605431303E-05,0.101395947743723],[-0.836125788075635,-0.026644394128934,0.000166664084072349,-0.185684405776635],[-0.56453745704446,-0.0550406574223869,0.000408684355944399,-0.381573783648148],[-0.827386803789967,-0.0252645634297197,0.000389052836769279,-0.176144805545994],[-2.27681416027691,0.248310096319934,-0.000458152874855982,1.71299527194306],[-1.17345870357744,0.0248913024170148,0.000227290762590808,0.17007802845754],[-0.816452012859893,-0.0232455193718589,0.000681076825694121,-0.162168153566334],[-0.462351223091608,-0.0640127348432499,0.000411585723603699,-0.443429511983052],[-0.560223991571728,-0.0552655146293747,0.00041841109471915,-0.383116449477627],[-0.455858064453037,-0.064506309669165,0.000419396289177126,-0.446830857141049],[0.288881097196705,-0.0750943364882701,-9.23177958632345E-07,-0.518736239170416],[-0.560225925378656,-0.0550761472862586,0.000417501589816462,-0.381789462258643],[0.110787335965246,-0.0835891228024268,0.000135606056484222,-0.577780642043729],[0.742782508773264,-0.0054567245380605,-0.000361603717746121,-0.0364445729423004],[0.747915059653549,-0.0029900290836462,-0.000282592848322982,-0.019364579053888],[0.740284088224916,-0.00583013994532867,-0.000349179753603988,-0.0390228348136287],[0.747634498744043,-0.00581222020249986,-0.000521196351398255,-0.0388765325588489],[0.750165263641665,-0.00520342368213399,-0.000514114529321395,-0.0346744496199548],[0.722914511733402,-0.00585329185567769,3.7011087535373E-05,-0.0392221100969648],[0.750582899557263,-0.00103401517780146,-0.000153381577169555,-0.00585078910795402],[0.753196629802056,0.000662592981409547,-7.22704440310648E-05,0.00589351571366676],[0.761122103383972,0.00371461473150274,1.37942012726803E-05,0.027009718853717],[0.766165016147053,0.00498880659219892,-3.27818461803541E-06,0.0358325291833701],[0.73546917697934,-0.0049482548271556,-0.000164197223450833,-0.0329324159400049],[0.761173591752472,0.00417123186167266,5.63294992342494E-05,0.030161972784001],[0.760912118393507,0.00150828223853744,-0.000169423460217075,0.0117471961408234],[0.745847415152593,0.000820731660967567,0.000109624100103314,0.00697215924495033],[0.75061875254674,-0.000586550944328791,-0.000120894762367059,-0.00275010542514017],[0.747911545159517,-0.00316818464346037,-0.000280560661088393,-0.020605968658738],[0.740823689319739,-0.00041550707130603,0.000120117574548506,-0.00158686053186135],[0.740743727975788,-0.00118759268178538,5.09701510109622E-05,-0.0069222654732997],[0.745556833989172,-0.00221271920604495,-0.000136367697399255,-0.0140089685155293],[0.740463022635213,-0.00410094836955343,-0.000190945742931655,-0.0270701983803008],[0.750885317181269,0.00213725188729712,0.00010979843607517,0.0160868252832118],[0.745935789524014,0.00170795943440393,0.00018842821873205,0.0131069847235115],[0.745765082841996,1.15792570607544E-05,4.32226878004541E-05,0.00137959529416267],[0.753220996747042,0.000905703988527807,-5.20914144526123E-05,0.00757356546378371],[0.741012486810073,0.00138752729454491,0.000280869026436905,0.0108714319290709],[0.740476928776455,-0.00381979521833602,-0.000177293832658639,-0.0251149675238353],[0.733393920165738,-0.00119677490448826,0.000214693635612565,-0.00699869609555493]])\n",
    "dw_T0 # 50x4"
   ]
  },
  {
   "cell_type": "code",
   "execution_count": 23,
   "metadata": {},
   "outputs": [],
   "source": [
    "import math"
   ]
  },
  {
   "cell_type": "code",
   "execution_count": 156,
   "metadata": {},
   "outputs": [
    {
     "name": "stderr",
     "output_type": "stream",
     "text": [
      "c:\\users\\user\\appdata\\local\\programs\\python\\python35\\lib\\site-packages\\ipykernel_launcher.py:1: RuntimeWarning: invalid value encountered in log\n",
      "  \"\"\"Entry point for launching an IPython kernel.\n"
     ]
    },
    {
     "data": {
      "text/plain": [
       "matrix([[         nan,   8.93169617,   4.53584655,  10.86480697],\n",
       "        [         nan,   8.89859016,   4.54265276,  10.83170304],\n",
       "        [         nan,   8.52410323,   4.64102958,  10.45724861],\n",
       "        [         nan,   8.69938067,   4.60189391,  10.63250941],\n",
       "        [         nan,   9.03256002,   4.50101718,  10.96566433],\n",
       "        [         nan,   8.68570134,   4.60696478,  10.61883133],\n",
       "        [         nan,   8.79595227,   4.5774393 ,  10.72907308],\n",
       "        [         nan,   8.78828132,   4.58059296,  10.72140267],\n",
       "        [         nan,   8.41532803,   4.66227447,  10.34848521],\n",
       "        [         nan,   8.53204781,   4.6398932 ,  10.46519222],\n",
       "        [         nan,   8.75854505,   4.58699124,  10.69166878],\n",
       "        [         nan,   8.66720489,   4.61043415,  10.60033643],\n",
       "        [         nan,   8.57737348,   4.6316986 ,  10.51051338],\n",
       "        [         nan,   8.66476499,   4.61247468,  10.59789675],\n",
       "        [         nan,   9.05437092,   4.49422039,  10.98747404],\n",
       "        [         nan,   8.77060713,   4.58563701,  10.70373013],\n",
       "        [         nan,   8.66170578,   4.61494949,  10.59483795],\n",
       "        [         nan,   8.54161327,   4.63899736,  10.47475679],\n",
       "        [         nan,   8.57589684,   4.63200773,  10.50903696],\n",
       "        [         nan,   8.53929874,   4.63945764,  10.47244241],\n",
       "        [         nan,   8.24174882,   4.68889672,  10.17492762],\n",
       "        [         nan,   8.57588776,   4.63186977,  10.5090281 ],\n",
       "        [         nan,   8.31923338,   4.67749314,  10.25240212],\n",
       "        [         nan,   8.02445953,   4.71734117,   9.9576714 ],\n",
       "        [         nan,   8.02208874,   4.71800507,   9.95530156],\n",
       "        [         nan,   8.02577095,   4.71719938,   9.95898285],\n",
       "        [         nan,   8.02153911,   4.71673694,   9.95475174],\n",
       "        [         nan,   8.02027435,   4.71700562,   9.95348693],\n",
       "        [         nan,   8.03565891,   4.71809457,   9.96886939],\n",
       "        [         nan,   8.02108159,   4.71890677,   9.95429429],\n",
       "        [         nan,   8.01996926,   4.71942818,   9.9531824 ],\n",
       "        [         nan,   8.01616386,   4.72037268,   9.94937769],\n",
       "        [         nan,   8.01358708,   4.72065524,   9.94680161],\n",
       "        [         nan,   8.02871916,   4.7178035 ,   9.96193073],\n",
       "        [         nan,   8.01626466,   4.72062548,   9.94947843],\n",
       "        [         nan,   8.01576828,   4.71948711,   9.94898189],\n",
       "        [         nan,   8.02422383,   4.71988945,   9.95743641],\n",
       "        [         nan,   8.02114993,   4.71903344,   9.95436278],\n",
       "        [         nan,   8.0220485 ,   4.71800519,   9.9552609 ],\n",
       "        [         nan,   8.0267854 ,   4.71960657,   9.95999742],\n",
       "        [         nan,   8.02662974,   4.71922691,   9.95984179],\n",
       "        [         nan,   8.02365123,   4.71862368,   9.95686336],\n",
       "        [         nan,   8.02607057,   4.71796033,   9.95928229],\n",
       "        [         nan,   8.02164366,   4.72017239,   9.95485668],\n",
       "        [         nan,   8.02437991,   4.72026895,   9.95759246],\n",
       "        [         nan,   8.02405573,   4.71950996,   9.95726822],\n",
       "        [         nan,   8.02002552,   4.71955469,   9.95323869],\n",
       "        [         nan,   8.0271485 ,   4.72049186,   9.96036046],\n",
       "        [         nan,   8.02609469,   4.71796042,   9.95930666],\n",
       "        [         nan,   8.03080051,   4.71956181,   9.96401198]])"
      ]
     },
     "execution_count": 156,
     "metadata": {},
     "output_type": "execute_result"
    }
   ],
   "source": [
    "np.log(dw_T)"
   ]
  },
  {
   "cell_type": "code",
   "execution_count": 24,
   "metadata": {},
   "outputs": [
    {
     "data": {
      "text/plain": [
       "matrix([[-14299.75001947,   7568.09129069,     93.30246754,  52302.89339339],\n",
       "        [-13735.76634804,   7321.64392471,     93.93966918,  50599.80707764],\n",
       "        [ -8399.22360742,   5034.66985538,    103.65100961,  34795.68309577],\n",
       "        [-10646.79369309,   5999.19560363,     99.67290895,  41461.03742931],\n",
       "        [-16167.82971263,   8371.26275495,     90.10874111,  57853.21650168],\n",
       "        [-10452.35969528,   5917.68936572,    100.17962075,  40897.79078654],\n",
       "        [-12061.36780594,   6607.44464211,     97.26500874,  45664.34532146],\n",
       "        [-11941.23027599,   6556.95316539,     97.57223315,  45315.42099418],\n",
       "        [ -7187.83115544,   4515.75662032,    105.87662166,  31209.73083515],\n",
       "        [ -8491.71307547,   5074.82749294,    103.53329   ,  35073.18724489],\n",
       "        [-11497.95098771,   6364.84427656,     98.19852975,  43987.85166101],\n",
       "        [-10202.33336738,   5809.23914417,    100.52778443,  40148.34238452],\n",
       "        [ -9036.74663696,   5310.14002036,    102.68834253,  36699.31549031],\n",
       "        [-10165.52059815,   5795.08249523,    100.73312332,  40050.51271785],\n",
       "        [-16593.71227125,   8555.85324865,     89.4983676 ,  59128.83803189],\n",
       "        [-11672.74755902,   6442.08246426,     98.0656359 ,  44521.61717836],\n",
       "        [-10119.51204084,   5777.38121922,    100.98272773,  39928.19325267],\n",
       "        [ -8602.45989966,   5123.60347682,    103.44058181,  35410.2565391 ],\n",
       "        [ -9018.42192855,   5302.30463335,    102.7200911 ,  36645.1716975 ],\n",
       "        [ -8574.97377684,   5111.75841537,    103.48820411,  35328.39850999],\n",
       "        [ -5513.92538399,   3796.17332489,    108.73315079,  26237.04484035],\n",
       "        [ -9018.4371599 ,   5302.25649533,    102.70592141,  36644.84710416],\n",
       "        [ -6225.84041319,   4102.01413256,    107.50024672,  28350.5616528 ],\n",
       "        [ -3783.87646319,   3054.76984222,    111.87041193,  21113.57335709],\n",
       "        [ -3765.50005425,   3047.53619546,    111.94470829,  21063.59682989],\n",
       "        [ -3793.03834921,   3058.77854757,    111.8545518 ,  21141.28089606],\n",
       "        [ -3765.6653388 ,   3045.86165608,    111.80283788,  21052.01872695],\n",
       "        [ -3756.48700928,   3042.01178213,    111.8328806 ,  21025.40878282],\n",
       "        [ -3857.84601002,   3089.17364495,    111.95472718,  21351.33157807],\n",
       "        [ -3756.23967367,   3044.4684219 ,    112.04569412,  21042.3906683 ],\n",
       "        [ -3747.02687138,   3041.08385275,    112.10413133,  21019.00694515],\n",
       "        [ -3718.556629  ,   3029.53328964,    112.21006327,  20939.18761342],\n",
       "        [ -3700.23044527,   3021.7368939 ,    112.24177432,  20885.31595832],\n",
       "        [ -3811.24812175,   3067.80979336,    111.92214577,  21203.69488405],\n",
       "        [ -3718.52389083,   3029.83868665,    112.23843365,  20941.29715016],\n",
       "        [ -3718.67261841,   3028.33512803,    112.1107369 ,  20930.90149242],\n",
       "        [ -3774.39936087,   3054.04991906,    112.15585293,  21108.61251843],\n",
       "        [ -3756.22270522,   3044.67647369,    112.05988805,  21043.83198567],\n",
       "        [ -3765.50136369,   3047.4135548 ,    111.94472088,  21062.74038014],\n",
       "        [ -3792.72512315,   3061.88310419,    112.12413092,  21162.74108725],\n",
       "        [ -3792.77442943,   3061.40654083,    112.08157053,  21159.44781509],\n",
       "        [ -3774.56544044,   3052.30167169,    112.01397989,  21096.51968781],\n",
       "        [ -3792.94010569,   3059.69516483,    111.93969928,  21147.61246679],\n",
       "        [ -3756.0739716 ,   3046.18010447,    112.18759065,  21054.22814393],\n",
       "        [ -3774.35004461,   3054.52661896,    112.19842477,  21111.90673857],\n",
       "        [ -3774.44906152,   3053.53658324,    112.11329888,  21105.06245021],\n",
       "        [ -3747.01030814,   3041.25493314,    112.1183137 ,  21020.19008285],\n",
       "        [ -3792.61007256,   3062.99508671,    112.22343775,  21170.42539663],\n",
       "        [ -3792.93930603,   3059.76895593,    111.93970936,  21148.12777239],\n",
       "        [ -3820.16344749,   3074.20163092,    112.11911207,  21247.87097209]])"
      ]
     },
     "execution_count": 24,
     "metadata": {},
     "output_type": "execute_result"
    }
   ],
   "source": [
    "dw_T = dw_X7*dw_W\n",
    "dw_T"
   ]
  },
  {
   "cell_type": "code",
   "execution_count": 36,
   "metadata": {},
   "outputs": [
    {
     "data": {
      "text/plain": [
       "matrix([[  3.19200666e+07,   5.70124329e+08,   2.10181043e+02,\n",
       "          -3.92818894e+09],\n",
       "        [  3.16455215e+07,   5.65209552e+08,   2.09893249e+02,\n",
       "          -3.89432567e+09],\n",
       "        [  2.94398431e+07,   5.25621342e+08,   2.14407646e+02,\n",
       "          -3.62155420e+09],\n",
       "        [  3.03838040e+07,   5.42560429e+08,   2.12723358e+02,\n",
       "          -3.73826808e+09],\n",
       "        [  3.25508680e+07,   5.81425251e+08,   2.09154921e+02,\n",
       "          -4.00605327e+09],\n",
       "        [  3.04776038e+07,   5.44252561e+08,   2.13043894e+02,\n",
       "          -3.74992815e+09],\n",
       "        [  3.09793216e+07,   5.53242883e+08,   2.11859914e+02,\n",
       "          -3.81187222e+09],\n",
       "        [  3.12408405e+07,   5.57959831e+08,   2.11859642e+02,\n",
       "          -3.84437508e+09],\n",
       "        [  2.92164039e+07,   5.21634012e+08,   2.15222778e+02,\n",
       "          -3.59408258e+09],\n",
       "        [  2.98126279e+07,   5.32338948e+08,   2.14127694e+02,\n",
       "          -3.66784229e+09],\n",
       "        [  3.08292463e+07,   5.50560306e+08,   2.12071441e+02,\n",
       "          -3.79338949e+09],\n",
       "        [  3.03683735e+07,   5.42296060e+08,   2.13040428e+02,\n",
       "          -3.73644763e+09],\n",
       "        [  3.01871146e+07,   5.39067039e+08,   2.13833041e+02,\n",
       "          -3.71420106e+09],\n",
       "        [  3.06032593e+07,   5.46527617e+08,   2.13128169e+02,\n",
       "          -3.76560548e+09],\n",
       "        [  3.25346643e+07,   5.81110877e+08,   2.09310237e+02,\n",
       "          -4.00388537e+09],\n",
       "        [  3.06627910e+07,   5.47544292e+08,   2.12523977e+02,\n",
       "          -3.77260632e+09],\n",
       "        [  3.06195271e+07,   5.46815643e+08,   2.13476995e+02,\n",
       "          -3.76758990e+09],\n",
       "        [  2.98948500e+07,   5.33813250e+08,   2.14225133e+02,\n",
       "          -3.67800057e+09],\n",
       "        [  3.00481334e+07,   5.36561284e+08,   2.13965459e+02,\n",
       "          -3.69693490e+09],\n",
       "        [  3.00166333e+07,   5.36010651e+08,   2.14121647e+02,\n",
       "          -3.69314212e+09],\n",
       "        [  2.86571033e+07,   5.11614915e+08,   2.16127351e+02,\n",
       "          -3.52505021e+09],\n",
       "        [  2.96264881e+07,   5.28957660e+08,   2.14321997e+02,\n",
       "          -3.64454123e+09],\n",
       "        [  2.87872871e+07,   5.13934707e+08,   2.15803906e+02,\n",
       "          -3.54103275e+09],\n",
       "        [  2.82678890e+07,   5.04657695e+08,   2.17271836e+02,\n",
       "          -3.47711582e+09],\n",
       "        [  2.77626939e+07,   4.95545613e+08,   2.17826887e+02,\n",
       "          -3.41432787e+09],\n",
       "        [  2.80068894e+07,   4.99950300e+08,   2.17507974e+02,\n",
       "          -3.44467891e+09],\n",
       "        [  2.78230144e+07,   4.96639440e+08,   2.17479595e+02,\n",
       "          -3.42186535e+09],\n",
       "        [  2.81089877e+07,   5.01796630e+08,   2.17249814e+02,\n",
       "          -3.45740159e+09],\n",
       "        [  2.81385743e+07,   5.02313678e+08,   2.17807023e+02,\n",
       "          -3.46096335e+09],\n",
       "        [  2.82165642e+07,   5.03727781e+08,   2.17589589e+02,\n",
       "          -3.47070793e+09],\n",
       "        [  2.80229927e+07,   5.00235358e+08,   2.17856952e+02,\n",
       "          -3.44664289e+09],\n",
       "        [  2.80675504e+07,   5.01037670e+08,   2.17941198e+02,\n",
       "          -3.45217127e+09],\n",
       "        [  2.77967205e+07,   4.96154072e+08,   2.18194173e+02,\n",
       "          -3.41852031e+09],\n",
       "        [  2.80108094e+07,   5.00016097e+08,   2.17703634e+02,\n",
       "          -3.44513200e+09],\n",
       "        [  2.81613218e+07,   5.02727610e+08,   2.17913832e+02,\n",
       "          -3.46381595e+09],\n",
       "        [  2.82026537e+07,   5.03478388e+08,   2.17613094e+02,\n",
       "          -3.46898958e+09],\n",
       "        [  2.80304788e+07,   5.00365108e+08,   2.18046704e+02,\n",
       "          -3.44753663e+09],\n",
       "        [  2.80649721e+07,   5.00993274e+08,   2.17757488e+02,\n",
       "          -3.45186544e+09],\n",
       "        [  2.82030591e+07,   5.03487441e+08,   2.17424074e+02,\n",
       "          -3.46905201e+09],\n",
       "        [  2.81692990e+07,   5.02867958e+08,   2.17914468e+02,\n",
       "          -3.46478276e+09],\n",
       "        [  2.80948823e+07,   5.01527670e+08,   2.17894911e+02,\n",
       "          -3.45554744e+09],\n",
       "        [  2.83551918e+07,   5.06227157e+08,   2.17457545e+02,\n",
       "          -3.48793013e+09],\n",
       "        [  2.82874864e+07,   5.05007184e+08,   2.17426606e+02,\n",
       "          -3.47952379e+09],\n",
       "        [  2.80235509e+07,   5.00240886e+08,   2.18058320e+02,\n",
       "          -3.44668071e+09],\n",
       "        [  2.81046860e+07,   5.01701616e+08,   2.18066476e+02,\n",
       "          -3.45674590e+09],\n",
       "        [  2.80880459e+07,   5.01405099e+08,   2.17906423e+02,\n",
       "          -3.45470291e+09],\n",
       "        [  2.80038154e+07,   4.99888906e+08,   2.17903697e+02,\n",
       "          -3.44425559e+09],\n",
       "        [  2.83430235e+07,   5.05996840e+08,   2.17960021e+02,\n",
       "          -3.48634247e+09],\n",
       "        [  2.80229170e+07,   5.00235771e+08,   2.17668650e+02,\n",
       "          -3.44664578e+09],\n",
       "        [  2.81214895e+07,   5.02002858e+08,   2.18037975e+02,\n",
       "          -3.45882150e+09]])"
      ]
     },
     "execution_count": 36,
     "metadata": {},
     "output_type": "execute_result"
    }
   ],
   "source": [
    "dw_T2 = dw_X7*dw_W*((dw_P.T*dw_W).I)\n",
    "dw_T2"
   ]
  },
  {
   "cell_type": "code",
   "execution_count": 37,
   "metadata": {},
   "outputs": [
    {
     "data": {
      "text/plain": [
       "[<matplotlib.lines.Line2D at 0x1aae2a0ca58>,\n",
       " <matplotlib.lines.Line2D at 0x1aae2a0cba8>,\n",
       " <matplotlib.lines.Line2D at 0x1aae2a0ccf8>,\n",
       " <matplotlib.lines.Line2D at 0x1aae2a0ce48>]"
      ]
     },
     "execution_count": 37,
     "metadata": {},
     "output_type": "execute_result"
    },
    {
     "data": {
      "image/png": "[encoded data removed]",
      "text/plain": [
       "<Figure size 432x288 with 1 Axes>"
      ]
     },
     "metadata": {
      "needs_background": "light"
     },
     "output_type": "display_data"
    }
   ],
   "source": [
    "dw_T2_diff = dw_T2-dw_T0\n",
    "dw_T2_diff\n",
    "\n",
    "plt.plot(dw_T2_diff)"
   ]
  },
  {
   "cell_type": "code",
   "execution_count": 35,
   "metadata": {},
   "outputs": [
    {
     "data": {
      "text/plain": [
       "[<matplotlib.lines.Line2D at 0x1aae29c84a8>,\n",
       " <matplotlib.lines.Line2D at 0x1aae29c8630>,\n",
       " <matplotlib.lines.Line2D at 0x1aae29c8780>,\n",
       " <matplotlib.lines.Line2D at 0x1aae29c88d0>]"
      ]
     },
     "execution_count": 35,
     "metadata": {},
     "output_type": "execute_result"
    },
    {
     "data": {
      "image/png": "[encoded data removed]",
      "text/plain": [
       "<Figure size 432x288 with 1 Axes>"
      ]
     },
     "metadata": {
      "needs_background": "light"
     },
     "output_type": "display_data"
    }
   ],
   "source": [
    "dw_T_diff = dw_T-dw_T0\n",
    "dw_T_diff\n",
    "\n",
    "plt.plot(dw_T_diff)"
   ]
  },
  {
   "cell_type": "code",
   "execution_count": 158,
   "metadata": {},
   "outputs": [
    {
     "data": {
      "text/plain": [
       "[<matplotlib.lines.Line2D at 0x2155c220320>]"
      ]
     },
     "execution_count": 158,
     "metadata": {},
     "output_type": "execute_result"
    },
    {
     "data": {
      "image/png": "[encoded data removed]",
      "text/plain": [
       "<Figure size 432x288 with 1 Axes>"
      ]
     },
     "metadata": {
      "needs_background": "light"
     },
     "output_type": "display_data"
    }
   ],
   "source": [
    "plt.plot(dw_T[:,1])"
   ]
  },
  {
   "cell_type": "code",
   "execution_count": 141,
   "metadata": {},
   "outputs": [
    {
     "data": {
      "text/plain": [
       "[<matplotlib.lines.Line2D at 0x2155b0c42b0>,\n",
       " <matplotlib.lines.Line2D at 0x2155b0c4438>,\n",
       " <matplotlib.lines.Line2D at 0x2155b0c4588>,\n",
       " <matplotlib.lines.Line2D at 0x2155b0c46d8>]"
      ]
     },
     "execution_count": 141,
     "metadata": {},
     "output_type": "execute_result"
    },
    {
     "data": {
      "image/png": "[encoded data removed]",
      "text/plain": [
       "<Figure size 432x288 with 1 Axes>"
      ]
     },
     "metadata": {
      "needs_background": "light"
     },
     "output_type": "display_data"
    }
   ],
   "source": [
    "plt.plot(dw_T0)"
   ]
  },
  {
   "cell_type": "code",
   "execution_count": 27,
   "metadata": {},
   "outputs": [
    {
     "data": {
      "text/plain": [
       "matrix([[ -3.72220714e-01,   1.84959682e+00,   1.20318114e+02,\n",
       "           2.65426163e-01],\n",
       "        [ -9.28533742e-01,   6.74941411e+00,  -5.21168924e+01,\n",
       "           9.72035632e-01],\n",
       "        [  1.48900768e-03,  -5.42859921e-03,   3.33817442e-01,\n",
       "          -7.75835913e-04],\n",
       "        [  1.11958721e-02,  -4.18696251e-02,   1.00683469e+01,\n",
       "          -5.98615919e-03],\n",
       "        [  1.14490734e-02,  -5.32337546e-02,   1.34648500e+01,\n",
       "          -7.63365253e-03],\n",
       "        [  1.61183689e-03,  -2.33677574e-03,  -2.57756281e-01,\n",
       "          -3.26135388e-04],\n",
       "        [  9.89065072e-04,  -3.00580378e-03,   2.91695558e-01,\n",
       "          -4.28248901e-04]])"
      ]
     },
     "execution_count": 27,
     "metadata": {},
     "output_type": "execute_result"
    }
   ],
   "source": [
    "dw_P = np.mat([[-0.372220714474187,1.84959681885932,120.318114451548,0.265426163434823],[-0.928533741695766,6.7494141107141,-52.1168923543803,0.97203563161225],[0.00148900767577548,-0.0054285992148506,0.333817441708662,-0.000775835912504175],[0.0111958720757874,-0.0418696251494231,10.0683468701305,-0.00598615918831366],[0.0114490733817723,-0.0532337545801161,13.4648499659584,-0.00763365253380143],[0.00161183689462586,-0.00233677573826629,-0.257756281243324,-0.000326135388216044],[0.000989065072316248,-0.00300580377700098,0.291695557822821,-0.000428248900679975]])\n",
    "dw_P # 7x4"
   ]
  },
  {
   "cell_type": "code",
   "execution_count": 143,
   "metadata": {},
   "outputs": [
    {
     "data": {
      "text/plain": [
       "matrix([[ -14537.31963046,  105950.70801319, -721501.27016958,\n",
       "           15259.0953962 ],\n",
       "        [ -13965.59974096,  101794.13639733, -689684.46242888,\n",
       "           14660.47429934],\n",
       "        [  -8557.26670136,   62483.16630033, -385851.29260465,\n",
       "            8998.99749375],\n",
       "        [ -10835.11417092,   79040.16276025, -513726.31420779,\n",
       "           11383.49887065],\n",
       "        [ -16430.61164252,  119712.86288782, -827722.76397248,\n",
       "           17241.09039523],\n",
       "        [ -10638.1216145 ,   77608.64860668, -502528.33010672,\n",
       "           11177.33582656],\n",
       "        [ -12268.78180168,   89461.32645747, -594139.56648867,\n",
       "           12884.33170571],\n",
       "        [ -12147.05929608,   88576.72818821, -587209.00038643,\n",
       "           12756.93403493],\n",
       "        [  -7329.58506762,   53559.67859562, -316849.99555378,\n",
       "            7713.85705301],\n",
       "        [  -8651.01675598,   63164.64918639, -391053.02827658,\n",
       "            9097.14316912],\n",
       "        [ -11697.7495264 ,   85310.47488666, -562123.57422363,\n",
       "           12286.53519386],\n",
       "        [ -10384.69093064,   75766.29963036, -488373.8960602 ,\n",
       "           10912.00461077],\n",
       "        [  -9203.43700232,   67180.29130919, -421960.9540822 ,\n",
       "            9675.46720253],\n",
       "        [ -10347.43377068,   75495.78415204, -486154.99681937,\n",
       "           10873.04590522],\n",
       "        [ -16862.28867294,  122851.011334  , -851863.3993444 ,\n",
       "           17693.03993529],\n",
       "        [ -11874.97067815,   86599.13815558, -571955.28211285,\n",
       "           12472.12612764],\n",
       "        [ -10300.86955343,   75157.73458204, -483408.48996245,\n",
       "           10824.36122169],\n",
       "        [  -8763.29470487,   63981.01336201, -397273.57088119,\n",
       "            9214.71437592],\n",
       "        [  -9184.86633363,   67045.33338612, -420929.04347741,\n",
       "            9656.03089666],\n",
       "        [  -8735.43675426,   63778.49100855, -395700.25431356,\n",
       "            9185.54752678],\n",
       "        [  -5633.09088967,   41228.14453256, -221693.8661536 ,\n",
       "            5937.89701707],\n",
       "        [  -9184.88005389,   67045.48887887, -420973.07655981,\n",
       "            9656.05335518],\n",
       "        [  -6354.60655375,   46472.69295261, -262184.60005176,\n",
       "            6693.20515375],\n",
       "        [  -3879.76860586,   28484.04210377, -123206.51973392,\n",
       "            4102.52036283],\n",
       "        [  -3861.16512585,   28349.03316458, -122168.50421242,\n",
       "            4083.07691969],\n",
       "        [  -3889.05632897,   28551.60873683, -123747.78555557,\n",
       "            4112.25122221],\n",
       "        [  -3861.27784501,   28349.48596145, -122279.37828801,\n",
       "            4083.14172495],\n",
       "        [  -3851.97866427,   28281.86604536, -121724.64717669,\n",
       "            4073.40322484],\n",
       "        [  -3954.81812091,   29030.11719267, -127264.5141621 ,\n",
       "            4181.16549126],\n",
       "        [  -3851.80844493,   28281.13572019, -121543.0535508 ,\n",
       "            4073.2986045 ],\n",
       "        [  -3842.48939778,   28213.54569509, -121002.15334994,\n",
       "            4063.56460545],\n",
       "        [  -3813.6565722 ,   28004.0986987 , -119336.95048698,\n",
       "            4033.40066382],\n",
       "        [  -3795.08565217,   27869.16981   , -118315.56557393,\n",
       "            4013.96857452],\n",
       "        [  -3907.54960094,   28686.27843903, -124708.8957847 ,\n",
       "            4131.64632338],\n",
       "        [  -3813.63342073,   28003.98086143, -119306.62334804,\n",
       "            4033.3837482 ],\n",
       "        [  -3813.73495018,   28004.39180072, -119407.42863551,\n",
       "            4033.442569  ],\n",
       "        [  -3870.26890447,   28415.71398465, -122484.14303597,\n",
       "            4092.68070098],\n",
       "        [  -3851.79800742,   28281.12794358, -121543.17560689,\n",
       "            4073.29756093],\n",
       "        [  -3861.16258548,   28348.91950478, -122134.53895056,\n",
       "            4083.06044214],\n",
       "        [  -3888.84055791,   28550.6768201 , -123515.72912281,\n",
       "            4112.11771183],\n",
       "        [  -3888.87490441,   28550.83651983, -123556.12338612,\n",
       "            4112.14061257],\n",
       "        [  -3870.38010488,   28416.09859751, -122574.63830327,\n",
       "            4092.73562138],\n",
       "        [  -3888.98685894,   28551.25519867, -123656.80540651,\n",
       "            4112.20047167],\n",
       "        [  -3851.69647421,   28280.71699406, -121442.36981995,\n",
       "            4073.23873867],\n",
       "        [  -3870.23455228,   28415.55427307, -122443.74873558,\n",
       "            4092.65779856],\n",
       "        [  -3870.30249102,   28415.83959909, -122514.3497626 ,\n",
       "            4092.69866027],\n",
       "        [  -3842.47820492,   28213.5038334 , -120992.08527813,\n",
       "            4063.55862042],\n",
       "        [  -3888.76041351,   28550.30417587, -123421.4740122 ,\n",
       "            4112.06427512],\n",
       "        [  -3888.98837566,   28551.32338218, -123677.18523084,\n",
       "            4112.21035647],\n",
       "        [  -3916.66557256,   28753.04651929, -125048.1912139 ,\n",
       "            4141.26267135]])"
      ]
     },
     "execution_count": 143,
     "metadata": {},
     "output_type": "execute_result"
    }
   ],
   "source": [
    "dw_T2 = dw_X7*dw_P\n",
    "dw_T2"
   ]
  },
  {
   "cell_type": "code",
   "execution_count": 144,
   "metadata": {},
   "outputs": [
    {
     "ename": "ValueError",
     "evalue": "shapes (50,4) and (7,4) not aligned: 4 (dim 1) != 7 (dim 0)",
     "output_type": "error",
     "traceback": [
      "\u001b[1;31m---------------------------------------------------------------------------\u001b[0m",
      "\u001b[1;31mValueError\u001b[0m                                Traceback (most recent call last)",
      "\u001b[1;32m<ipython-input-144-8fd40116ca64>\u001b[0m in \u001b[0;36m<module>\u001b[1;34m\u001b[0m\n\u001b[1;32m----> 1\u001b[1;33m \u001b[0mdw_T3\u001b[0m \u001b[1;33m=\u001b[0m \u001b[0mdw_T2\u001b[0m\u001b[1;33m*\u001b[0m\u001b[0mdw_W\u001b[0m\u001b[1;33m\u001b[0m\u001b[0m\n\u001b[0m\u001b[0;32m      2\u001b[0m \u001b[0mdw_T3\u001b[0m\u001b[1;33m\u001b[0m\u001b[0m\n",
      "\u001b[1;32mc:\\users\\user\\appdata\\local\\programs\\python\\python35\\lib\\site-packages\\numpy\\matrixlib\\defmatrix.py\u001b[0m in \u001b[0;36m__mul__\u001b[1;34m(self, other)\u001b[0m\n\u001b[0;32m    307\u001b[0m         \u001b[1;32mif\u001b[0m \u001b[0misinstance\u001b[0m\u001b[1;33m(\u001b[0m\u001b[0mother\u001b[0m\u001b[1;33m,\u001b[0m \u001b[1;33m(\u001b[0m\u001b[0mN\u001b[0m\u001b[1;33m.\u001b[0m\u001b[0mndarray\u001b[0m\u001b[1;33m,\u001b[0m \u001b[0mlist\u001b[0m\u001b[1;33m,\u001b[0m \u001b[0mtuple\u001b[0m\u001b[1;33m)\u001b[0m\u001b[1;33m)\u001b[0m \u001b[1;33m:\u001b[0m\u001b[1;33m\u001b[0m\u001b[0m\n\u001b[0;32m    308\u001b[0m             \u001b[1;31m# This promotes 1-D vectors to row vectors\u001b[0m\u001b[1;33m\u001b[0m\u001b[1;33m\u001b[0m\u001b[0m\n\u001b[1;32m--> 309\u001b[1;33m             \u001b[1;32mreturn\u001b[0m \u001b[0mN\u001b[0m\u001b[1;33m.\u001b[0m\u001b[0mdot\u001b[0m\u001b[1;33m(\u001b[0m\u001b[0mself\u001b[0m\u001b[1;33m,\u001b[0m \u001b[0masmatrix\u001b[0m\u001b[1;33m(\u001b[0m\u001b[0mother\u001b[0m\u001b[1;33m)\u001b[0m\u001b[1;33m)\u001b[0m\u001b[1;33m\u001b[0m\u001b[0m\n\u001b[0m\u001b[0;32m    310\u001b[0m         \u001b[1;32mif\u001b[0m \u001b[0misscalar\u001b[0m\u001b[1;33m(\u001b[0m\u001b[0mother\u001b[0m\u001b[1;33m)\u001b[0m \u001b[1;32mor\u001b[0m \u001b[1;32mnot\u001b[0m \u001b[0mhasattr\u001b[0m\u001b[1;33m(\u001b[0m\u001b[0mother\u001b[0m\u001b[1;33m,\u001b[0m \u001b[1;34m'__rmul__'\u001b[0m\u001b[1;33m)\u001b[0m \u001b[1;33m:\u001b[0m\u001b[1;33m\u001b[0m\u001b[0m\n\u001b[0;32m    311\u001b[0m             \u001b[1;32mreturn\u001b[0m \u001b[0mN\u001b[0m\u001b[1;33m.\u001b[0m\u001b[0mdot\u001b[0m\u001b[1;33m(\u001b[0m\u001b[0mself\u001b[0m\u001b[1;33m,\u001b[0m \u001b[0mother\u001b[0m\u001b[1;33m)\u001b[0m\u001b[1;33m\u001b[0m\u001b[0m\n",
      "\u001b[1;31mValueError\u001b[0m: shapes (50,4) and (7,4) not aligned: 4 (dim 1) != 7 (dim 0)"
     ]
    }
   ],
   "source": [
    "dw_T3 = dw_T2*dw_W\n",
    "dw_T3"
   ]
  },
  {
   "cell_type": "code",
   "execution_count": 48,
   "metadata": {},
   "outputs": [
    {
     "data": {
      "text/plain": [
       "matrix([[ -1.70773138e+01],\n",
       "        [  1.63354585e-03],\n",
       "        [  7.04655387e+00],\n",
       "        [  1.25332100e-01],\n",
       "        [  1.18369688e-01],\n",
       "        [  1.78163668e+01],\n",
       "        [  4.74263822e+00]])"
      ]
     },
     "execution_count": 48,
     "metadata": {},
     "output_type": "execute_result"
    }
   ],
   "source": [
    "dw_b = np.mat([[-17.0773138312749],[0.00163354585063935],[7.0465538702271],[0.125332100413209],[0.118369688043722],[17.8163668345855],[4.74263821871027]])\n",
    "dw_b # 7x1"
   ]
  },
  {
   "cell_type": "code",
   "execution_count": 104,
   "metadata": {
    "scrolled": true
   },
   "outputs": [
    {
     "data": {
      "text/plain": [
       "matrix([[ 4159.44203015],\n",
       "        [ 4156.18067695],\n",
       "        [ 4159.02008633],\n",
       "        [ 4158.25198939],\n",
       "        [ 4161.09211217],\n",
       "        [ 4159.68910735],\n",
       "        [ 4159.10577447],\n",
       "        [ 4159.88310795],\n",
       "        [ 4160.60281192],\n",
       "        [ 4159.33600201],\n",
       "        [ 4158.57095299],\n",
       "        [ 4159.00362203],\n",
       "        [ 4160.09004495],\n",
       "        [ 4160.12327855],\n",
       "        [ 4162.52028445],\n",
       "        [ 4160.10929853],\n",
       "        [ 4161.60121637],\n",
       "        [ 4160.18785941],\n",
       "        [ 4160.14532736],\n",
       "        [ 4160.23237012],\n",
       "        [ 4161.73281024],\n",
       "        [ 4160.15085452],\n",
       "        [ 4160.9772131 ],\n",
       "        [ 4166.03530688],\n",
       "        [ 4166.54411028],\n",
       "        [ 4166.05924749],\n",
       "        [ 4165.32277646],\n",
       "        [ 4165.39895878],\n",
       "        [ 4167.70899348],\n",
       "        [ 4167.24045722],\n",
       "        [ 4167.70635681],\n",
       "        [ 4168.2914021 ],\n",
       "        [ 4168.30564189],\n",
       "        [ 4166.91328514],\n",
       "        [ 4168.50676663],\n",
       "        [ 4167.35159136],\n",
       "        [ 4168.49635458],\n",
       "        [ 4167.40995491],\n",
       "        [ 4166.54420574],\n",
       "        [ 4168.4544565 ],\n",
       "        [ 4168.10284817],\n",
       "        [ 4167.23089483],\n",
       "        [ 4166.86193058],\n",
       "        [ 4168.59053959],\n",
       "        [ 4168.89743057],\n",
       "        [ 4168.15524324],\n",
       "        [ 4167.80987345],\n",
       "        [ 4169.27228715],\n",
       "        [ 4166.93789271],\n",
       "        [ 4168.80236206]])"
      ]
     },
     "execution_count": 104,
     "metadata": {},
     "output_type": "execute_result"
    }
   ],
   "source": [
    "dw_y_hat = dw_X7*dw_b+3038.23162020035\n",
    "dw_y_hat"
   ]
  },
  {
   "cell_type": "code",
   "execution_count": 106,
   "metadata": {},
   "outputs": [
    {
     "data": {
      "text/plain": [
       "[<matplotlib.lines.Line2D at 0x21559b02fd0>]"
      ]
     },
     "execution_count": 106,
     "metadata": {},
     "output_type": "execute_result"
    },
    {
     "data": {
      "image/png": "[encoded data removed]",
      "text/plain": [
       "<Figure size 432x288 with 1 Axes>"
      ]
     },
     "metadata": {
      "needs_background": "light"
     },
     "output_type": "display_data"
    }
   ],
   "source": [
    "plt.plot(dw_y,dw_y_hat,'o')"
   ]
  },
  {
   "cell_type": "code",
   "execution_count": 39,
   "metadata": {},
   "outputs": [
    {
     "data": {
      "text/plain": [
       "matrix([[  5.27907551e+00,   3.65587546e+01,   4.51252530e+03,\n",
       "           2.04862031e+00]])"
      ]
     },
     "execution_count": 39,
     "metadata": {},
     "output_type": "execute_result"
    }
   ],
   "source": [
    "dw_Q = np.mat([5.27907551036061,36.5587545579862,4512.52530006339,2.04862030562554])\n",
    "dw_Q # 1x4"
   ]
  },
  {
   "cell_type": "code",
   "execution_count": 109,
   "metadata": {},
   "outputs": [
    {
     "data": {
      "text/plain": [
       "matrix([[ 4159.44203015],\n",
       "        [ 4156.18067696],\n",
       "        [ 4159.02008633],\n",
       "        [ 4158.25198939],\n",
       "        [ 4161.09211217],\n",
       "        [ 4159.68910736],\n",
       "        [ 4159.10577448],\n",
       "        [ 4159.88310795],\n",
       "        [ 4160.60281192],\n",
       "        [ 4159.336002  ],\n",
       "        [ 4158.57095298],\n",
       "        [ 4159.00362202],\n",
       "        [ 4160.09004495],\n",
       "        [ 4160.12327856],\n",
       "        [ 4162.52028445],\n",
       "        [ 4160.10929853],\n",
       "        [ 4161.60121637],\n",
       "        [ 4160.18785941],\n",
       "        [ 4160.14532737],\n",
       "        [ 4160.23237011],\n",
       "        [ 4161.73281025],\n",
       "        [ 4160.15085453],\n",
       "        [ 4160.97721309],\n",
       "        [ 4166.03530688],\n",
       "        [ 4166.54411029],\n",
       "        [ 4166.0592475 ],\n",
       "        [ 4165.32277647],\n",
       "        [ 4165.39895878],\n",
       "        [ 4167.70899349],\n",
       "        [ 4167.2404572 ],\n",
       "        [ 4167.70635683],\n",
       "        [ 4168.29140209],\n",
       "        [ 4168.30564189],\n",
       "        [ 4166.91328515],\n",
       "        [ 4168.50676663],\n",
       "        [ 4167.35159134],\n",
       "        [ 4168.49635458],\n",
       "        [ 4167.40995491],\n",
       "        [ 4166.54420575],\n",
       "        [ 4168.45445649],\n",
       "        [ 4168.10284817],\n",
       "        [ 4167.23089482],\n",
       "        [ 4166.86193059],\n",
       "        [ 4168.59053957],\n",
       "        [ 4168.89743057],\n",
       "        [ 4168.15524325],\n",
       "        [ 4167.80987346],\n",
       "        [ 4169.27228717],\n",
       "        [ 4166.93789273],\n",
       "        [ 4168.80236207]])"
      ]
     },
     "execution_count": 109,
     "metadata": {},
     "output_type": "execute_result"
    }
   ],
   "source": [
    "dw_y_hatt = dw_T0*dw_Q.T+4164.0199999999995\n",
    "dw_y_hatt"
   ]
  },
  {
   "cell_type": "code",
   "execution_count": 110,
   "metadata": {},
   "outputs": [
    {
     "data": {
      "text/plain": [
       "[<matplotlib.lines.Line2D at 0x21559b5f0f0>]"
      ]
     },
     "execution_count": 110,
     "metadata": {},
     "output_type": "execute_result"
    },
    {
     "data": {
      "image/png": "[encoded data removed]",
      "text/plain": [
       "<Figure size 432x288 with 1 Axes>"
      ]
     },
     "metadata": {
      "needs_background": "light"
     },
     "output_type": "display_data"
    }
   ],
   "source": [
    "plt.plot(dw_y,dw_y_hatt,'o')"
   ]
  },
  {
   "cell_type": "code",
   "execution_count": 111,
   "metadata": {},
   "outputs": [
    {
     "data": {
      "text/plain": [
       "[<matplotlib.lines.Line2D at 0x21559b96dd8>]"
      ]
     },
     "execution_count": 111,
     "metadata": {},
     "output_type": "execute_result"
    },
    {
     "data": {
      "image/png": "[encoded data removed]",
      "text/plain": [
       "<Figure size 432x288 with 1 Axes>"
      ]
     },
     "metadata": {
      "needs_background": "light"
     },
     "output_type": "display_data"
    }
   ],
   "source": [
    "plt.plot(dw_y_hat,dw_y_hatt,'o')"
   ]
  },
  {
   "cell_type": "code",
   "execution_count": 40,
   "metadata": {},
   "outputs": [
    {
     "data": {
      "text/plain": [
       "matrix([[  1.29651247e+10],\n",
       "        [  1.28533689e+10],\n",
       "        [  1.19532548e+10],\n",
       "        [  1.23384000e+10],\n",
       "        [  1.32220833e+10],\n",
       "        [  1.23768718e+10],\n",
       "        [  1.25812901e+10],\n",
       "        [  1.26885304e+10],\n",
       "        [  1.18625860e+10],\n",
       "        [  1.21059821e+10],\n",
       "        [  1.25202912e+10],\n",
       "        [  1.23323844e+10],\n",
       "        [  1.22589569e+10],\n",
       "        [  1.24285918e+10],\n",
       "        [  1.32149465e+10],\n",
       "        [  1.24517297e+10],\n",
       "        [  1.24351438e+10],\n",
       "        [  1.21395048e+10],\n",
       "        [  1.22019883e+10],\n",
       "        [  1.21894622e+10],\n",
       "        [  1.16347730e+10],\n",
       "        [  1.20291197e+10],\n",
       "        [  1.16875253e+10],\n",
       "        [  1.14765755e+10],\n",
       "        [  1.12694134e+10],\n",
       "        [  1.13695531e+10],\n",
       "        [  1.12942777e+10],\n",
       "        [  1.14115265e+10],\n",
       "        [  1.14232912e+10],\n",
       "        [  1.14554368e+10],\n",
       "        [  1.13760377e+10],\n",
       "        [  1.13942792e+10],\n",
       "        [  1.12832504e+10],\n",
       "        [  1.13710520e+10],\n",
       "        [  1.14327007e+10],\n",
       "        [  1.14497663e+10],\n",
       "        [  1.13789906e+10],\n",
       "        [  1.13932683e+10],\n",
       "        [  1.14499706e+10],\n",
       "        [  1.14358931e+10],\n",
       "        [  1.14054206e+10],\n",
       "        [  1.15122604e+10],\n",
       "        [  1.14845235e+10],\n",
       "        [  1.13761661e+10],\n",
       "        [  1.14093772e+10],\n",
       "        [  1.14026336e+10],\n",
       "        [  1.13681614e+10],\n",
       "        [  1.15070308e+10],\n",
       "        [  1.13760455e+10],\n",
       "        [  1.14162267e+10]])"
      ]
     },
     "execution_count": 40,
     "metadata": {},
     "output_type": "execute_result"
    }
   ],
   "source": [
    "dw_y_hatt2 = dw_T2*dw_Q.T #+4164.0199999999995\n",
    "dw_y_hatt2"
   ]
  },
  {
   "cell_type": "code",
   "execution_count": 41,
   "metadata": {},
   "outputs": [
    {
     "data": {
      "text/plain": [
       "[<matplotlib.lines.Line2D at 0x1aae2a5ae48>]"
      ]
     },
     "execution_count": 41,
     "metadata": {},
     "output_type": "execute_result"
    },
    {
     "data": {
      "image/png": "[encoded data removed]",
      "text/plain": [
       "<Figure size 432x288 with 1 Axes>"
      ]
     },
     "metadata": {
      "needs_background": "light"
     },
     "output_type": "display_data"
    }
   ],
   "source": [
    "plt.plot(dw_y,dw_y_hatt2,'o')"
   ]
  },
  {
   "cell_type": "code",
   "execution_count": 117,
   "metadata": {},
   "outputs": [],
   "source": [
    "# OLS 해를 직접 이용하는 방법\n",
    "dw_b_ols = np.linalg.inv(dw_X7.T @ dw_X7) @ dw_X7.T @ dw_y\n",
    "\n",
    "dw_b_ols"
   ]
  },
  {
   "cell_type": "code",
   "execution_count": 120,
   "metadata": {},
   "outputs": [
    {
     "data": {
      "text/plain": [
       "matrix([[ -1.70773138e+01],\n",
       "        [  1.63354585e-03],\n",
       "        [  7.04655387e+00],\n",
       "        [  1.25332100e-01],\n",
       "        [  1.18369688e-01],\n",
       "        [  1.78163668e+01],\n",
       "        [  4.74263822e+00]])"
      ]
     },
     "execution_count": 120,
     "metadata": {},
     "output_type": "execute_result"
    }
   ],
   "source": [
    "dw_b"
   ]
  },
  {
   "cell_type": "code",
   "execution_count": 160,
   "metadata": {},
   "outputs": [
    {
     "data": {
      "text/plain": [
       "matrix([[ -2.68712656e-01,  -5.99449903e-01,   3.12823039e-03,\n",
       "          -4.14540650e+00],\n",
       "        [ -1.87990660e-04,   8.06562568e-05,  -3.14809813e-07,\n",
       "           5.57375425e-04],\n",
       "        [  1.66862082e-01,   1.00148511e-01,  -1.14223824e-02,\n",
       "           6.92542075e-01],\n",
       "        [  7.85841008e-06,   2.84305516e-04,   2.60295042e-05,\n",
       "           1.96620867e-03],\n",
       "        [  1.06832430e-05,   2.52409769e-04,   2.45320999e-05,\n",
       "           1.74425605e-03],\n",
       "        [  1.34867024e-01,   1.06752323e-01,  -6.75362770e-03,\n",
       "           7.39317589e-01],\n",
       "        [  1.45564448e-01,   8.46653802e-02,  -1.02695090e-02,\n",
       "           5.85354240e-01]])"
      ]
     },
     "execution_count": 160,
     "metadata": {},
     "output_type": "execute_result"
    }
   ],
   "source": [
    "dw_Z=dw_X7.I*dw_T0\n",
    "dw_Z"
   ]
  },
  {
   "cell_type": "code",
   "execution_count": 161,
   "metadata": {},
   "outputs": [
    {
     "data": {
      "text/plain": [
       "matrix([[ -4.00078085e-01,  -8.87433055e-01,   4.85052800e-03,\n",
       "          -6.13690600e+00],\n",
       "        [ -9.16174943e-01,   3.93705731e-01,  -1.58748600e-03,\n",
       "           2.72070569e+00],\n",
       "        [  2.13648000e-03,   2.06260720e-02,   1.62544300e-03,\n",
       "           1.42954403e-01],\n",
       "        [  1.65681700e-02,   1.71141581e-01,   1.41874080e-02,\n",
       "           1.18356236e+00],\n",
       "        [  1.64357840e-02,   1.58858202e-01,   1.41870540e-02,\n",
       "           1.09778331e+00],\n",
       "        [  3.11702600e-03,   4.79497740e-02,   4.14340800e-03,\n",
       "           3.33153659e-01],\n",
       "        [  1.44221100e-03,   1.44355460e-02,   1.07607400e-03,\n",
       "           9.99617320e-02]])"
      ]
     },
     "execution_count": 161,
     "metadata": {},
     "output_type": "execute_result"
    }
   ],
   "source": [
    "dw_W"
   ]
  },
  {
   "cell_type": "code",
   "execution_count": 163,
   "metadata": {},
   "outputs": [
    {
     "data": {
      "text/plain": [
       "[<matplotlib.lines.Line2D at 0x2155c25d6a0>,\n",
       " <matplotlib.lines.Line2D at 0x2155c25d828>,\n",
       " <matplotlib.lines.Line2D at 0x2155c25d978>,\n",
       " <matplotlib.lines.Line2D at 0x2155c25dac8>]"
      ]
     },
     "execution_count": 163,
     "metadata": {},
     "output_type": "execute_result"
    },
    {
     "data": {
      "image/png": "[encoded data removed]",
      "text/plain": [
       "<Figure size 432x288 with 1 Axes>"
      ]
     },
     "metadata": {
      "needs_background": "light"
     },
     "output_type": "display_data"
    }
   ],
   "source": [
    "plt.plot(dw_Z-dw_W)"
   ]
  },
  {
   "cell_type": "code",
   "execution_count": 164,
   "metadata": {},
   "outputs": [
    {
     "data": {
      "text/plain": [
       "matrix([[ -1.76696346e+00,   1.31138154e-01,  -4.11732377e-04,\n",
       "           9.03688595e-01],\n",
       "        [ -1.64094560e+00,   9.87551389e-02,  -9.30168286e-04,\n",
       "           6.80002824e-01],\n",
       "        [ -4.14867557e-01,  -7.05581192e-02,   1.93674985e-04,\n",
       "          -4.88592073e-01],\n",
       "        [ -9.39973172e-01,  -1.51808985e-02,   7.49786043e-05,\n",
       "          -1.06597355e-01],\n",
       "        [ -2.18243975e+00,   2.23802369e-01,  -6.30420580e-04,\n",
       "           1.54369751e+00],\n",
       "        [ -8.94261877e-01,  -1.77538968e-02,   3.24442382e-04,\n",
       "          -1.24318947e-01],\n",
       "        [ -1.26218392e+00,   3.69615222e-02,  -2.33267085e-05,\n",
       "           2.53381433e-01],\n",
       "        [ -1.23469800e+00,   3.40875833e-02,   1.48074946e-04,\n",
       "           2.33546362e-01],\n",
       "        [ -1.24475516e-01,  -8.26922233e-02,   3.15410439e-04,\n",
       "          -5.71994915e-01],\n",
       "        [ -4.36715696e-01,  -6.82719443e-02,   2.65655251e-04,\n",
       "          -4.72831881e-01],\n",
       "        [ -1.13342456e+00,   1.51760529e-02,  -8.33173280e-05,\n",
       "           1.02968922e-01],\n",
       "        [ -8.35940912e-01,  -2.65516230e-02,   1.52342619e-04,\n",
       "          -1.85043182e-01],\n",
       "        [ -5.65482547e-01,  -5.55149047e-02,   4.81895957e-04,\n",
       "          -3.84851727e-01],\n",
       "        [ -8.27398377e-01,  -2.52703710e-02,   3.89949346e-04,\n",
       "          -1.76184947e-01],\n",
       "        [ -2.27687654e+00,   2.48278796e-01,  -4.53320811e-04,\n",
       "           1.71277892e+00],\n",
       "        [ -1.17300278e+00,   2.51200847e-02,   1.91972679e-04,\n",
       "           1.71659346e-01],\n",
       "        [ -8.16610126e-01,  -2.33248605e-02,   6.93325084e-04,\n",
       "          -1.62716550e-01],\n",
       "        [ -4.62396819e-01,  -6.40356149e-02,   4.15117837e-04,\n",
       "          -4.43587656e-01],\n",
       "        [ -5.60003076e-01,  -5.51546592e-02,   4.01297838e-04,\n",
       "          -3.82350230e-01],\n",
       "        [ -4.55358456e-01,  -6.42556054e-02,   3.80693992e-04,\n",
       "          -4.45098017e-01],\n",
       "        [  2.89670618e-01,  -7.46981541e-02,  -6.20835954e-05,\n",
       "          -5.15997871e-01],\n",
       "        [ -5.59243471e-01,  -5.45831510e-02,   3.41395583e-04,\n",
       "          -3.78381927e-01],\n",
       "        [  1.11195372e-01,  -8.33843699e-02,   1.03997501e-04,\n",
       "          -5.76365413e-01],\n",
       "        [  7.41869087e-01,  -5.91508053e-03,  -2.90845297e-04,\n",
       "          -3.96126779e-02],\n",
       "        [  7.47495376e-01,  -3.20062704e-03,  -2.50081930e-04,\n",
       "          -2.08202084e-02],\n",
       "        [  7.39717230e-01,  -6.11458993e-03,  -3.05267999e-04,\n",
       "          -4.09889211e-02],\n",
       "        [  7.47248240e-01,  -6.00604530e-03,  -4.91274738e-04,\n",
       "          -4.02162298e-02],\n",
       "        [  7.49848352e-01,  -5.36244999e-03,  -4.89564906e-04,\n",
       "          -3.57736215e-02],\n",
       "        [  7.22238949e-01,  -6.19229024e-03,   8.93437054e-05,\n",
       "          -4.15652287e-02],\n",
       "        [  7.50262867e-01,  -1.19460777e-03,  -1.28590151e-04,\n",
       "          -6.96078699e-03],\n",
       "        [  7.53129279e-01,   6.28795870e-04,  -6.70530699e-05,\n",
       "           5.65991389e-03],\n",
       "        [  7.61280748e-01,   3.79422314e-03,   1.50473611e-06,\n",
       "           2.75599632e-02],\n",
       "        [  7.65316827e-01,   4.56318459e-03,   6.24269425e-05,\n",
       "           3.28906779e-02],\n",
       "        [  7.35187775e-01,  -5.08946249e-03,  -1.42398379e-04,\n",
       "          -3.39084274e-02],\n",
       "        [  7.61385335e-01,   4.27748476e-03,   3.99268052e-05,\n",
       "           3.08963808e-02],\n",
       "        [  7.60590054e-01,   1.34667028e-03,  -1.44474681e-04,\n",
       "           1.06301525e-02],\n",
       "        [  7.45776560e-01,   7.85176669e-04,   1.15112894e-04,\n",
       "           6.72640715e-03],\n",
       "        [  7.50268969e-01,  -7.62072778e-04,  -9.37986683e-05,\n",
       "          -3.96329255e-03],\n",
       "        [  7.48414987e-01,  -2.91555681e-03,  -3.19559921e-04,\n",
       "          -1.88598336e-02],\n",
       "        [  7.40966811e-01,  -3.43688412e-04,   1.09030581e-04,\n",
       "          -1.09045806e-03],\n",
       "        [  7.41077577e-01,  -1.02006680e-03,   2.51084293e-05,\n",
       "          -5.76434549e-03],\n",
       "        [  7.45440489e-01,  -2.27110108e-03,  -1.27355027e-04,\n",
       "          -1.44124975e-02],\n",
       "        [  7.41529115e-01,  -3.56598223e-03,  -2.73530808e-04,\n",
       "          -2.33725728e-02],\n",
       "        [  7.51506895e-01,   2.44916045e-03,   6.16477948e-05,\n",
       "           1.82427021e-02],\n",
       "        [  7.46264816e-01,   1.87306537e-03,   1.62940109e-04,\n",
       "           1.42481783e-02],\n",
       "        [  7.45684872e-01,  -2.86704197e-05,   4.94361973e-05,\n",
       "           1.10139407e-03],\n",
       "        [  7.52805908e-01,   6.97411814e-04,  -1.99364822e-05,\n",
       "           6.13387344e-03],\n",
       "        [  7.41234238e-01,   1.49880224e-03,   2.63690995e-04,\n",
       "           1.16405518e-02],\n",
       "        [  7.41689904e-01,  -3.21112332e-03,  -2.71257188e-04,\n",
       "          -2.09078960e-02],\n",
       "        [  7.34161290e-01,  -8.11707844e-04,   1.55249126e-04,\n",
       "          -4.33715599e-03]])"
      ]
     },
     "execution_count": 164,
     "metadata": {},
     "output_type": "execute_result"
    }
   ],
   "source": [
    "dw_X7*dw_Z"
   ]
  },
  {
   "cell_type": "code",
   "execution_count": 165,
   "metadata": {},
   "outputs": [
    {
     "data": {
      "text/plain": [
       "matrix([[-14299.75001947,   7568.09129069,     93.30246754,  52302.89339339],\n",
       "        [-13735.76634804,   7321.64392471,     93.93966918,  50599.80707764],\n",
       "        [ -8399.22360742,   5034.66985538,    103.65100961,  34795.68309577],\n",
       "        [-10646.79369309,   5999.19560363,     99.67290895,  41461.03742931],\n",
       "        [-16167.82971263,   8371.26275495,     90.10874111,  57853.21650168],\n",
       "        [-10452.35969528,   5917.68936572,    100.17962075,  40897.79078654],\n",
       "        [-12061.36780594,   6607.44464211,     97.26500874,  45664.34532146],\n",
       "        [-11941.23027599,   6556.95316539,     97.57223315,  45315.42099418],\n",
       "        [ -7187.83115544,   4515.75662032,    105.87662166,  31209.73083515],\n",
       "        [ -8491.71307547,   5074.82749294,    103.53329   ,  35073.18724489],\n",
       "        [-11497.95098771,   6364.84427656,     98.19852975,  43987.85166101],\n",
       "        [-10202.33336738,   5809.23914417,    100.52778443,  40148.34238452],\n",
       "        [ -9036.74663696,   5310.14002036,    102.68834253,  36699.31549031],\n",
       "        [-10165.52059815,   5795.08249523,    100.73312332,  40050.51271785],\n",
       "        [-16593.71227125,   8555.85324865,     89.4983676 ,  59128.83803189],\n",
       "        [-11672.74755902,   6442.08246426,     98.0656359 ,  44521.61717836],\n",
       "        [-10119.51204084,   5777.38121922,    100.98272773,  39928.19325267],\n",
       "        [ -8602.45989966,   5123.60347682,    103.44058181,  35410.2565391 ],\n",
       "        [ -9018.42192855,   5302.30463335,    102.7200911 ,  36645.1716975 ],\n",
       "        [ -8574.97377684,   5111.75841537,    103.48820411,  35328.39850999],\n",
       "        [ -5513.92538399,   3796.17332489,    108.73315079,  26237.04484035],\n",
       "        [ -9018.4371599 ,   5302.25649533,    102.70592141,  36644.84710416],\n",
       "        [ -6225.84041319,   4102.01413256,    107.50024672,  28350.5616528 ],\n",
       "        [ -3783.87646319,   3054.76984222,    111.87041193,  21113.57335709],\n",
       "        [ -3765.50005425,   3047.53619546,    111.94470829,  21063.59682989],\n",
       "        [ -3793.03834921,   3058.77854757,    111.8545518 ,  21141.28089606],\n",
       "        [ -3765.6653388 ,   3045.86165608,    111.80283788,  21052.01872695],\n",
       "        [ -3756.48700928,   3042.01178213,    111.8328806 ,  21025.40878282],\n",
       "        [ -3857.84601002,   3089.17364495,    111.95472718,  21351.33157807],\n",
       "        [ -3756.23967367,   3044.4684219 ,    112.04569412,  21042.3906683 ],\n",
       "        [ -3747.02687138,   3041.08385275,    112.10413133,  21019.00694515],\n",
       "        [ -3718.556629  ,   3029.53328964,    112.21006327,  20939.18761342],\n",
       "        [ -3700.23044527,   3021.7368939 ,    112.24177432,  20885.31595832],\n",
       "        [ -3811.24812175,   3067.80979336,    111.92214577,  21203.69488405],\n",
       "        [ -3718.52389083,   3029.83868665,    112.23843365,  20941.29715016],\n",
       "        [ -3718.67261841,   3028.33512803,    112.1107369 ,  20930.90149242],\n",
       "        [ -3774.39936087,   3054.04991906,    112.15585293,  21108.61251843],\n",
       "        [ -3756.22270522,   3044.67647369,    112.05988805,  21043.83198567],\n",
       "        [ -3765.50136369,   3047.4135548 ,    111.94472088,  21062.74038014],\n",
       "        [ -3792.72512315,   3061.88310419,    112.12413092,  21162.74108725],\n",
       "        [ -3792.77442943,   3061.40654083,    112.08157053,  21159.44781509],\n",
       "        [ -3774.56544044,   3052.30167169,    112.01397989,  21096.51968781],\n",
       "        [ -3792.94010569,   3059.69516483,    111.93969928,  21147.61246679],\n",
       "        [ -3756.0739716 ,   3046.18010447,    112.18759065,  21054.22814393],\n",
       "        [ -3774.35004461,   3054.52661896,    112.19842477,  21111.90673857],\n",
       "        [ -3774.44906152,   3053.53658324,    112.11329888,  21105.06245021],\n",
       "        [ -3747.01030814,   3041.25493314,    112.1183137 ,  21020.19008285],\n",
       "        [ -3792.61007256,   3062.99508671,    112.22343775,  21170.42539663],\n",
       "        [ -3792.93930603,   3059.76895593,    111.93970936,  21148.12777239],\n",
       "        [ -3820.16344749,   3074.20163092,    112.11911207,  21247.87097209]])"
      ]
     },
     "execution_count": 165,
     "metadata": {},
     "output_type": "execute_result"
    }
   ],
   "source": [
    "dw_X7*dw_W"
   ]
  },
  {
   "cell_type": "code",
   "execution_count": 169,
   "metadata": {},
   "outputs": [
    {
     "data": {
      "text/plain": [
       "matrix([[ -9.23614107e+02,  -4.27529164e+02,   6.29353678e+01,\n",
       "          -2.95974405e+03],\n",
       "        [ -1.67035268e+04,  -7.78438864e+03,   1.13650219e+03,\n",
       "          -5.38900744e+04],\n",
       "        [  1.11028025e-03,  -4.48104404e-04,  -1.06261502e-04,\n",
       "          -3.09365129e-03],\n",
       "        [  1.15100175e+05,   5.36431614e+04,  -7.83128893e+03,\n",
       "           3.71362979e+05]])"
      ]
     },
     "execution_count": 169,
     "metadata": {},
     "output_type": "execute_result"
    }
   ],
   "source": [
    "dw_R=dw_P.I*dw_Z\n",
    "dw_R"
   ]
  },
  {
   "cell_type": "code",
   "execution_count": 168,
   "metadata": {},
   "outputs": [
    {
     "data": {
      "text/plain": [
       "[<matplotlib.lines.Line2D at 0x2155b0fba20>,\n",
       " <matplotlib.lines.Line2D at 0x2155b0fbba8>,\n",
       " <matplotlib.lines.Line2D at 0x2155b0fbcf8>,\n",
       " <matplotlib.lines.Line2D at 0x2155b0fbe48>]"
      ]
     },
     "execution_count": 168,
     "metadata": {},
     "output_type": "execute_result"
    },
    {
     "data": {
      "image/png": "[encoded data removed]",
      "text/plain": [
       "<Figure size 432x288 with 1 Axes>"
      ]
     },
     "metadata": {
      "needs_background": "light"
     },
     "output_type": "display_data"
    }
   ],
   "source": [
    "plt.plot(dw_R)"
   ]
  },
  {
   "cell_type": "code",
   "execution_count": 47,
   "metadata": {},
   "outputs": [
    {
     "ename": "NameError",
     "evalue": "name 'dw_b' is not defined",
     "output_type": "error",
     "traceback": [
      "\u001b[1;31m---------------------------------------------------------------------------\u001b[0m",
      "\u001b[1;31mNameError\u001b[0m                                 Traceback (most recent call last)",
      "\u001b[1;32m<ipython-input-47-71d6416f74ff>\u001b[0m in \u001b[0;36m<module>\u001b[1;34m\u001b[0m\n\u001b[1;32m----> 1\u001b[1;33m \u001b[0mdw_b\u001b[0m\u001b[1;33m\u001b[0m\u001b[0m\n\u001b[0m",
      "\u001b[1;31mNameError\u001b[0m: name 'dw_b' is not defined"
     ]
    }
   ],
   "source": [
    "dw_b"
   ]
  },
  {
   "cell_type": "code",
   "execution_count": 63,
   "metadata": {},
   "outputs": [
    {
     "ename": "ValueError",
     "evalue": "operands could not be broadcast together with shapes (7,4) (4,4) ",
     "output_type": "error",
     "traceback": [
      "\u001b[1;31m---------------------------------------------------------------------------\u001b[0m",
      "\u001b[1;31mValueError\u001b[0m                                Traceback (most recent call last)",
      "\u001b[1;32m<ipython-input-63-b509f83b433a>\u001b[0m in \u001b[0;36m<module>\u001b[1;34m\u001b[0m\n\u001b[1;32m----> 1\u001b[1;33m \u001b[0mdw_PP\u001b[0m \u001b[1;33m=\u001b[0m \u001b[0mdw_X7\u001b[0m\u001b[1;33m.\u001b[0m\u001b[0mT\u001b[0m\u001b[1;33m*\u001b[0m\u001b[0mdw_T0\u001b[0m\u001b[1;33m/\u001b[0m\u001b[1;33m(\u001b[0m\u001b[0mdw_T0\u001b[0m\u001b[1;33m.\u001b[0m\u001b[0mT\u001b[0m\u001b[1;33m*\u001b[0m\u001b[0mdw_T0\u001b[0m\u001b[1;33m)\u001b[0m\u001b[1;33m\u001b[0m\u001b[0m\n\u001b[0m",
      "\u001b[1;31mValueError\u001b[0m: operands could not be broadcast together with shapes (7,4) (4,4) "
     ]
    }
   ],
   "source": [
    "dw_PP = dw_X7.T*dw_T0/(dw_T0.T*dw_T0)"
   ]
  },
  {
   "cell_type": "code",
   "execution_count": 69,
   "metadata": {},
   "outputs": [
    {
     "data": {
      "text/plain": [
       "matrix([[  5.27907551e+00,  -4.56537667e-11,  -1.88829056e+00,\n",
       "          -4.26523503e-02],\n",
       "        [ -1.68171872e+02,   3.16162337e-10,  -1.00519819e-10,\n",
       "           2.93520905e-01],\n",
       "        [ -7.02546244e+15,  -1.01526882e-07,   1.24073764e-08,\n",
       "          -9.40912034e+01],\n",
       "        [ -2.45178990e+01,   4.58039127e-11,  -1.45372819e-11,\n",
       "           4.25232765e-02]])"
      ]
     },
     "execution_count": 69,
     "metadata": {},
     "output_type": "execute_result"
    }
   ],
   "source": [
    "dw_QQT = dw_T0.T*dw_y/(dw_T0.T*dw_T0)\n",
    "dw_QQ = dw_QQT.T\n",
    "dw_QQ"
   ]
  },
  {
   "cell_type": "code",
   "execution_count": 61,
   "metadata": {},
   "outputs": [
    {
     "ename": "ValueError",
     "evalue": "shapes (4,4) and (7,50) not aligned: 4 (dim 1) != 7 (dim 0)",
     "output_type": "error",
     "traceback": [
      "\u001b[1;31m---------------------------------------------------------------------------\u001b[0m",
      "\u001b[1;31mValueError\u001b[0m                                Traceback (most recent call last)",
      "\u001b[1;32m<ipython-input-61-ab2f28f70aab>\u001b[0m in \u001b[0;36m<module>\u001b[1;34m\u001b[0m\n\u001b[1;32m----> 1\u001b[1;33m \u001b[0mdw_PP\u001b[0m \u001b[1;33m=\u001b[0m \u001b[1;33m(\u001b[0m\u001b[0mdw_T0\u001b[0m\u001b[1;33m.\u001b[0m\u001b[0mT\u001b[0m\u001b[1;33m*\u001b[0m\u001b[0mdw_T0\u001b[0m\u001b[1;33m)\u001b[0m\u001b[1;33m.\u001b[0m\u001b[0mI\u001b[0m\u001b[1;33m*\u001b[0m\u001b[0mdw_X7\u001b[0m\u001b[1;33m.\u001b[0m\u001b[0mT\u001b[0m\u001b[1;33m*\u001b[0m\u001b[0mdw_T0\u001b[0m\u001b[1;33m\u001b[0m\u001b[0m\n\u001b[0m",
      "\u001b[1;32mc:\\users\\user\\appdata\\local\\programs\\python\\python35\\lib\\site-packages\\numpy\\matrixlib\\defmatrix.py\u001b[0m in \u001b[0;36m__mul__\u001b[1;34m(self, other)\u001b[0m\n\u001b[0;32m    307\u001b[0m         \u001b[1;32mif\u001b[0m \u001b[0misinstance\u001b[0m\u001b[1;33m(\u001b[0m\u001b[0mother\u001b[0m\u001b[1;33m,\u001b[0m \u001b[1;33m(\u001b[0m\u001b[0mN\u001b[0m\u001b[1;33m.\u001b[0m\u001b[0mndarray\u001b[0m\u001b[1;33m,\u001b[0m \u001b[0mlist\u001b[0m\u001b[1;33m,\u001b[0m \u001b[0mtuple\u001b[0m\u001b[1;33m)\u001b[0m\u001b[1;33m)\u001b[0m \u001b[1;33m:\u001b[0m\u001b[1;33m\u001b[0m\u001b[0m\n\u001b[0;32m    308\u001b[0m             \u001b[1;31m# This promotes 1-D vectors to row vectors\u001b[0m\u001b[1;33m\u001b[0m\u001b[1;33m\u001b[0m\u001b[0m\n\u001b[1;32m--> 309\u001b[1;33m             \u001b[1;32mreturn\u001b[0m \u001b[0mN\u001b[0m\u001b[1;33m.\u001b[0m\u001b[0mdot\u001b[0m\u001b[1;33m(\u001b[0m\u001b[0mself\u001b[0m\u001b[1;33m,\u001b[0m \u001b[0masmatrix\u001b[0m\u001b[1;33m(\u001b[0m\u001b[0mother\u001b[0m\u001b[1;33m)\u001b[0m\u001b[1;33m)\u001b[0m\u001b[1;33m\u001b[0m\u001b[0m\n\u001b[0m\u001b[0;32m    310\u001b[0m         \u001b[1;32mif\u001b[0m \u001b[0misscalar\u001b[0m\u001b[1;33m(\u001b[0m\u001b[0mother\u001b[0m\u001b[1;33m)\u001b[0m \u001b[1;32mor\u001b[0m \u001b[1;32mnot\u001b[0m \u001b[0mhasattr\u001b[0m\u001b[1;33m(\u001b[0m\u001b[0mother\u001b[0m\u001b[1;33m,\u001b[0m \u001b[1;34m'__rmul__'\u001b[0m\u001b[1;33m)\u001b[0m \u001b[1;33m:\u001b[0m\u001b[1;33m\u001b[0m\u001b[0m\n\u001b[0;32m    311\u001b[0m             \u001b[1;32mreturn\u001b[0m \u001b[0mN\u001b[0m\u001b[1;33m.\u001b[0m\u001b[0mdot\u001b[0m\u001b[1;33m(\u001b[0m\u001b[0mself\u001b[0m\u001b[1;33m,\u001b[0m \u001b[0mother\u001b[0m\u001b[1;33m)\u001b[0m\u001b[1;33m\u001b[0m\u001b[0m\n",
      "\u001b[1;31mValueError\u001b[0m: shapes (4,4) and (7,50) not aligned: 4 (dim 1) != 7 (dim 0)"
     ]
    }
   ],
   "source": [
    "dw_PP = (dw_T0.T*dw_T0).I*dw_X7.T*dw_T0"
   ]
  },
  {
   "cell_type": "code",
   "execution_count": 58,
   "metadata": {},
   "outputs": [
    {
     "data": {
      "text/plain": [
       "[<matplotlib.lines.Line2D at 0x1aae2be9cf8>,\n",
       " <matplotlib.lines.Line2D at 0x1aae2be9e80>,\n",
       " <matplotlib.lines.Line2D at 0x1aae2be9fd0>,\n",
       " <matplotlib.lines.Line2D at 0x1aae2bee160>]"
      ]
     },
     "execution_count": 58,
     "metadata": {},
     "output_type": "execute_result"
    },
    {
     "data": {
      "image/png": "[encoded data removed]",
      "text/plain": [
       "<Figure size 432x288 with 1 Axes>"
      ]
     },
     "metadata": {
      "needs_background": "light"
     },
     "output_type": "display_data"
    }
   ],
   "source": [
    "plt.plot(dw_P-dw_PP)"
   ]
  },
  {
   "cell_type": "code",
   "execution_count": 53,
   "metadata": {},
   "outputs": [
    {
     "data": {
      "text/plain": [
       "matrix([[ -6.17964586e-01,  -1.07393255e+02,   1.61329965e+01,\n",
       "           1.53418771e+01],\n",
       "        [ -4.42895214e+03,   1.58304359e+05,  -1.74378195e+04,\n",
       "          -2.26167598e+04],\n",
       "        [ -1.13922264e-01,  -4.62506335e+02,   3.51180220e+00,\n",
       "           6.68918010e+01],\n",
       "        [ -9.12459255e+02,  -3.66832406e+06,   2.52692871e+04,\n",
       "           5.30539636e+05],\n",
       "        [  1.02744952e+03,   4.04718519e+06,   1.29374023e+04,\n",
       "          -5.85302636e+05],\n",
       "        [ -2.14564847e-01,  -8.64251209e+02,   4.37938669e+00,\n",
       "           1.24994408e+02],\n",
       "        [ -1.41718798e-01,  -5.70235303e+02,   3.22585170e+00,\n",
       "           8.24714052e+01]])"
      ]
     },
     "execution_count": 53,
     "metadata": {},
     "output_type": "execute_result"
    }
   ],
   "source": [
    "dw_PP"
   ]
  },
  {
   "cell_type": "code",
   "execution_count": 54,
   "metadata": {},
   "outputs": [
    {
     "data": {
      "text/plain": [
       "matrix([[ -3.72220714e-01,   1.84959682e+00,   1.20318114e+02,\n",
       "           2.65426163e-01],\n",
       "        [ -9.28533742e-01,   6.74941411e+00,  -5.21168924e+01,\n",
       "           9.72035632e-01],\n",
       "        [  1.48900768e-03,  -5.42859921e-03,   3.33817442e-01,\n",
       "          -7.75835913e-04],\n",
       "        [  1.11958721e-02,  -4.18696251e-02,   1.00683469e+01,\n",
       "          -5.98615919e-03],\n",
       "        [  1.14490734e-02,  -5.32337546e-02,   1.34648500e+01,\n",
       "          -7.63365253e-03],\n",
       "        [  1.61183689e-03,  -2.33677574e-03,  -2.57756281e-01,\n",
       "          -3.26135388e-04],\n",
       "        [  9.89065072e-04,  -3.00580378e-03,   2.91695558e-01,\n",
       "          -4.28248901e-04]])"
      ]
     },
     "execution_count": 54,
     "metadata": {},
     "output_type": "execute_result"
    }
   ],
   "source": [
    "dw_P"
   ]
  },
  {
   "cell_type": "code",
   "execution_count": 55,
   "metadata": {},
   "outputs": [
    {
     "data": {
      "text/plain": [
       "matrix([[  2.45743871e-01,   1.09242852e+02,   1.04185118e+02,\n",
       "          -1.50764510e+01],\n",
       "        [  4.42802361e+03,  -1.58297609e+05,   1.73857026e+04,\n",
       "           2.26177318e+04],\n",
       "        [  1.15411272e-01,   4.62500906e+02,  -3.17798476e+00,\n",
       "          -6.68925768e+01],\n",
       "        [  9.12470450e+02,   3.66832401e+06,  -2.52592187e+04,\n",
       "          -5.30539642e+05],\n",
       "        [ -1.02743807e+03,  -4.04718525e+06,  -1.29239375e+04,\n",
       "           5.85302628e+05],\n",
       "        [  2.16176684e-01,   8.64248872e+02,  -4.63714297e+00,\n",
       "          -1.24994734e+02],\n",
       "        [  1.42707863e-01,   5.70232297e+02,  -2.93415614e+00,\n",
       "          -8.24718334e+01]])"
      ]
     },
     "execution_count": 55,
     "metadata": {},
     "output_type": "execute_result"
    }
   ],
   "source": [
    "dw_P-dw_PP"
   ]
  },
  {
   "cell_type": "code",
   "execution_count": 78,
   "metadata": {},
   "outputs": [
    {
     "data": {
      "text/plain": [
       "1.3668174713545331"
      ]
     },
     "execution_count": 78,
     "metadata": {},
     "output_type": "execute_result"
    }
   ],
   "source": [
    "math.sqrt(0.606**2+0.239**2+0.908**2+0.787**2)"
   ]
  },
  {
   "cell_type": "code",
   "execution_count": 76,
   "metadata": {},
   "outputs": [
    {
     "data": {
      "text/plain": [
       "-5.447368421052632"
      ]
     },
     "execution_count": 76,
     "metadata": {},
     "output_type": "execute_result"
    }
   ],
   "source": [
    "1/0.038*-0.207"
   ]
  },
  {
   "cell_type": "code",
   "execution_count": null,
   "metadata": {},
   "outputs": [],
   "source": []
  }
 ],
 "metadata": {
  "kernelspec": {
   "display_name": "Python 3",
   "language": "python",
   "name": "python3"
  },
  "language_info": {
   "codemirror_mode": {
    "name": "ipython",
    "version": 3
   },
   "file_extension": ".py",
   "mimetype": "text/x-python",
   "name": "python",
   "nbconvert_exporter": "python",
   "pygments_lexer": "ipython3",
   "version": "3.5.2"
  }
 },
 "nbformat": 4,
 "nbformat_minor": 2
}
